{
 "cells": [
  {
   "cell_type": "markdown",
   "metadata": {},
   "source": [
    "# Capstone Project - EPA Superfund sites, environmental justice"
   ]
  },
  {
   "cell_type": "markdown",
   "metadata": {},
   "source": [
    "#### Problem statement\n"
   ]
  },
  {
   "cell_type": "markdown",
   "metadata": {},
   "source": [
    "I have a dataset consisting of socioeconomic and demographic data involving communities with a variable that designates that area if it is near a Superfund site or not. They would like you to look at the demographic and socioeconomic factors that are most associated with communities that leave near a Superfund site. If it involves more \"marginal\" communities, they want to bring that up to policymakers, the EPA, and other significant influencers. "
   ]
  },
  {
   "cell_type": "markdown",
   "metadata": {},
   "source": [
    "#### Background"
   ]
  },
  {
   "cell_type": "markdown",
   "metadata": {},
   "source": [
    "Thousands of contaminated sites exist nationally due to hazardous waste being dumped, left out in the open, or otherwise improperly managed. These sites include manufacturing facilities, processing plants, landfills and mining sites. In response, Congress established the Comprehensive Environmental Response, Compensation and Liability Act (CERCLA) in 1980. CERCLA is informally called Superfund. It allows EPA to clean up contaminated sites. It also forces the parties responsible for the contamination to either perform cleanups or reimburse the government for EPA-led cleanup work. When there is no viable responsible party, Superfund gives EPA the funds and authority to clean up contaminated sites. address abandoned hazardous waste sites. These abandoned sites are thought to pose a significant threat to human health and the environment, and as a result, may qualify for placement on the USEPA’s Superfund list to receive federal cleanup funds.\n",
    " \n",
    "Superfund’s goals are to:\n",
    " \n",
    "- Protect human health and the environment by cleaning up polluted sites;\n",
    "- Make responsible parties pay for cleanup work;\n",
    "- Involve communities in the Superfund process; and\n",
    "- Return Superfund sites to productive use.\n",
    "\n",
    "A Superfund that is still active (all the sites on the National Priorities List have either limited remediation, or none at all, such that they still present a significant threat to public safety). The list of Superfund sites are on the National Priorities List. There doesn't seem to be an column indicating one way or the other. After remediation is satisfactory, they are taken off the list.\n",
    "\n",
    "From https://www.ncbi.nlm.nih.gov/pmc/articles/PMC4228303/: \n",
    "\n",
    "The geographic distribution of Superfund sites has always been a controversial issue as it has been shown that hazardous waste  sites are located differently in terms of demographics and socioeconomic status. \n",
    "The geographic distribution of Superfund sites has always been a controversial issue because research has shown that hazardous waste sites are differentially located in predominately Non-White and low-income communities. An environmental justice (EJ) analysis conducted by Maranville et al., examined whether the presence of a Superfund site affected surrounding communities in the state of Illinois in order to inform future siting decisions and improve current sites [3]. Geographic Information Systems (GIS) was used to create one, two, and five mile buffer zones around Superfund sites to capture the sociodemographic composition of host communities [3]. The study found that percent Non-White was significantly higher than the percent of White populations within a one mile radius surrounding the Superfund sites [3]. Furthermore, over 50% (24/43) of the sites included in the analysis had a higher percentage of Non-White populations residing near the environmental hazards [3]. The aforementioned results suggest that race/ethnicity may be the principal driver of environmental inequity.\n",
    "\n",
    "The objectivity of the Superfund program has been questioned due to the disproportionate number of Non-White and low-income populations that may not be benefiting from cleanup efforts [2]. While there are certain criteria that determine whether a site is placed on the NPL, such as the severity of the hazard, or if the site presents less of a hazard thus making the cleanup process less arduous; there are additional racial and socioeconomic determinants that may influence the fate of a site [3]. A 2007 study by O’Neil [2] examined the relationship between environmental remediation and EJ by evaluating the impact of Executive Order 12898 [4,5] on the Superfund listing and cleanup process.\n",
    "\n",
    "O’Neil found that a one percent increase in Non-White populations was associated with a 0.2% decrease in the probability of a Superfund listing [2]. The results of the study suggest that for sites discovered after the 1994 Executive Order 12898, there was a lower chance of a Superfund listing for poor communities and disadvantaged communities of color [2]. Despite the EJ Executive Order, equity in the Superfund listing process worsened after 1994 [2]. In addition, it appears that the USEPA has failed to properly implement Executive Order 12898 in regards to the Superfund program [2] particularly in EJ communities known to have a high concentration of hazardous waste sites.\n",
    "\n",
    "Environmental effects\n",
    "Some of the common contaminants found at Superfund sites are asbestos, dioxin, and mercury, all of which may pose a significant threat to ecological health. Asbestos is a naturally occurring fibrous silicate mineral that has been mined for its invaluable properties and used in many commercial products that include insulation, brake linings, and roofing shingles [6]. Moreover, asbestos may enter the air and water from the weathering of natural deposits and the decomposition of manufactured products (e.g., brake pads) [6]. Small fibers may remain suspended in the air for an extended period of time before settling which may increase the duration of exposure [7].\n",
    "\n",
    "Dioxin refers to a group of toxic chemical compounds that share certain chemical structures and biological characteristics [8]. Dioxins may be very toxic to certain animals as well as humans, particularly during their early stages of development when the body is less capable of metabolizing the aforementioned compound. While, mercury is another naturally occurring chemical in the environment, additional sources include coal and oil combustion as well as emissions from incineration and landfills. These emissions may contaminate soil and water, which can lead to deleterious effects on various animal species such as loons, eagles, otters, mink, and kingfishers [9].\n",
    "\n",
    "Health effects\n",
    "Despite the limitations in exposure science to link Superfund site contaminants with long-term health effects, there have been studies to show the detriment of volatile organic compounds (VOCs) that were released in drinking water among Superfund host communities [10]. The adverse health effects attributable to VOC exposure included the following: (1) birth defects, (2) diabetes, (3) urinary tract disorders, (4) eczema and skin conditions, (5) anemia, (6) speech and hearing difficulties in young children, and (7) stroke [10]. Moreover, a study that evaluated local health problems and exposure to heavy metals at the Tar Creek Superfund site in Ottawa County, Oklahoma found an increase in mortality incidence for heart disease among adults as well as increased blood lead levels (>10 μg/dl) in over 50% of the children which exceeded normal intake standards [11]. Another study by Williamson et al. found that people who live near multiple Superfund sites were more likely to have immunoglobulin test results that are lower or higher than the reference range when compared to populations further away from these sites or other environmental hazards [12]. The major implications of having abnormal immunoglobulin levels is that it decreases immune function, which then impairs the body’s ability to protect against disease [12]. As a result, populations living in close proximity to Superfund sites may be more susceptible to chronic and infectious diseases as well as those related to chemical exposures.\n",
    "\n",
    "Property values\n",
    "The proximity of Superfund sites to neighboring communities, whether commercial or residential may have a drastic effect on property values [13]. Properties located close to these sites may depreciate due to unwanted land uses [14]. Unfortunately, there is little that a homeowner can do to reduce their exposure to nearby waste sites since it is the responsibility of the company to ensure that harmful chemicals are not released into the community. If these hazardous chemicals were dispersed into the environment, they could pose a serious health threat to the community and surrounding property. Specifically, the area may be deemed unlivable due to irreversible contamination of soil or pollution of surface waters and drinking water resources [13].\n",
    "\n",
    "While research has shown that hazardous waste sites are located in predominately Non-White and low-income communities, there is a paucity of research describing the profile of populations hosting those sites, particularly in the state of South Carolina (SC). The purpose of this study was to evaluate the spatial distribution of Superfund sites in SC across areas with varying racial/ethnic and socioeconomic composition."
   ]
  },
  {
   "cell_type": "markdown",
   "metadata": {},
   "source": [
    "#### Objectives"
   ]
  },
  {
   "cell_type": "markdown",
   "metadata": {},
   "source": [
    "- Parse through the 300 features and see whether in case there could be \"duplicates\" as they could explain the same thing. Inputting all the features would most likely cause overfitting of the model and would require too much computer power to run."
   ]
  },
  {
   "cell_type": "markdown",
   "metadata": {},
   "source": [
    "#### Proposed models and methods"
   ]
  },
  {
   "cell_type": "markdown",
   "metadata": {},
   "source": [
    "- Classification modeling will be used here:\n",
    "    - Logistic Regression\n",
    "    - K-Nearest Neighbors\n",
    "    - Support Vector Machines\n",
    "    - Neural Network Classifier\n",
    "    - Decision Tree Classiifer\n",
    "    - Random Forests Classifer\n",
    "    - Extra Trees Classifier\n",
    "- Methods\n",
    "    - Feature Engineering\n",
    "    - Data Cleaning/Munging\n",
    "    - Exploratory Data Analysis\n",
    "    - Model Building\n",
    "    - Hyperparameter Tuning\n",
    "    - Classification!"
   ]
  },
  {
   "cell_type": "markdown",
   "metadata": {},
   "source": [
    "#### Risks & assumptions of the data"
   ]
  },
  {
   "cell_type": "markdown",
   "metadata": {},
   "source": [
    "While this data is linked to demographic and socioeconomic data based on either the block group (or census tract), the impacts of a particular site's pollution may extend beyond these geographic regions."
   ]
  },
  {
   "cell_type": "markdown",
   "metadata": {},
   "source": [
    "#### Goals & success criteria"
   ]
  },
  {
   "cell_type": "markdown",
   "metadata": {},
   "source": []
  },
  {
   "cell_type": "markdown",
   "metadata": {},
   "source": [
    "## Data "
   ]
  },
  {
   "cell_type": "markdown",
   "metadata": {},
   "source": [
    "- priorities_list_full.json: the NPL containing all geographic, site information, text descriptions, and Census Bureau data from the relevant block groups.\n",
    "- pdb_tract.csv: the planning database aggregated on the tract level with an additional indicator (has_superfund) noting whether or not the tract contains the address of a Superfund site.\n",
    "- pdb_block_group.csv: the planning database aggregated on the block group level with an additional indicator (has_superfund) noting whether or not the block group contains the address of a Superfund site.\n",
    "\n",
    "- https://www.census.gov/research/data/planning_database/2015/docs/PDB_Block_Group_2015-07-28a.pdf\n",
    "- https://www.census.gov/research/data/planning_database/2015/docs/PDB_Tract_2015-07-28a.pdf"
   ]
  },
  {
   "cell_type": "markdown",
   "metadata": {},
   "source": [
    "The data does not say:\n",
    "- When was it designated as a Superfund site\n",
    "- Any pollution-related data"
   ]
  },
  {
   "cell_type": "markdown",
   "metadata": {},
   "source": [
    "### Data Cleaning/Munging"
   ]
  },
  {
   "cell_type": "markdown",
   "metadata": {},
   "source": [
    "By the look of this dataset, there will be definitely a lot of columns that need to be dropped here. "
   ]
  },
  {
   "cell_type": "code",
   "execution_count": 154,
   "metadata": {
    "ExecuteTime": {
     "end_time": "2018-04-05T06:06:31.131635Z",
     "start_time": "2018-04-05T06:06:31.070446Z"
    },
    "collapsed": true
   },
   "outputs": [],
   "source": [
    "import numpy as np\n",
    "import pandas as pd\n",
    "import seaborn as sns\n",
    "import matplotlib as pyplot\n",
    "\n",
    "%matplotlib inline"
   ]
  },
  {
   "cell_type": "code",
   "execution_count": 155,
   "metadata": {
    "ExecuteTime": {
     "end_time": "2018-04-05T06:06:41.688728Z",
     "start_time": "2018-04-05T06:06:31.473393Z"
    },
    "collapsed": true
   },
   "outputs": [],
   "source": [
    "tract = pd.read_csv('./federal-superfunds/pdb_tract.csv')"
   ]
  },
  {
   "cell_type": "code",
   "execution_count": 156,
   "metadata": {
    "ExecuteTime": {
     "end_time": "2018-04-05T06:06:41.742769Z",
     "start_time": "2018-04-05T06:06:41.690620Z"
    }
   },
   "outputs": [
    {
     "data": {
      "text/html": [
       "<div>\n",
       "<style scoped>\n",
       "    .dataframe tbody tr th:only-of-type {\n",
       "        vertical-align: middle;\n",
       "    }\n",
       "\n",
       "    .dataframe tbody tr th {\n",
       "        vertical-align: top;\n",
       "    }\n",
       "\n",
       "    .dataframe thead th {\n",
       "        text-align: right;\n",
       "    }\n",
       "</style>\n",
       "<table border=\"1\" class=\"dataframe\">\n",
       "  <thead>\n",
       "    <tr style=\"text-align: right;\">\n",
       "      <th></th>\n",
       "      <th>FIPS_Tract</th>\n",
       "      <th>State</th>\n",
       "      <th>State_name</th>\n",
       "      <th>County</th>\n",
       "      <th>County_name</th>\n",
       "      <th>Tract</th>\n",
       "      <th>Flag</th>\n",
       "      <th>Num_BGs_in_Tract</th>\n",
       "      <th>LAND_AREA</th>\n",
       "      <th>AIAN_LAND</th>\n",
       "      <th>...</th>\n",
       "      <th>pct_TEA_Update_Leave_CEN_2010</th>\n",
       "      <th>pct_Census_Mail_Returns_CEN_2010</th>\n",
       "      <th>pct_Vacant_CEN_2010</th>\n",
       "      <th>pct_Deletes_CEN_2010</th>\n",
       "      <th>pct_Census_UAA_CEN_2010</th>\n",
       "      <th>pct_Mailback_Count_CEN_2010</th>\n",
       "      <th>pct_FRST_FRMS_CEN_2010</th>\n",
       "      <th>pct_RPLCMNT_FRMS_CEN_2010</th>\n",
       "      <th>pct_BILQ_Mailout_count_CEN_2010</th>\n",
       "      <th>has_superfund</th>\n",
       "    </tr>\n",
       "  </thead>\n",
       "  <tbody>\n",
       "    <tr>\n",
       "      <th>0</th>\n",
       "      <td>1001020100</td>\n",
       "      <td>1</td>\n",
       "      <td>Alabama</td>\n",
       "      <td>1</td>\n",
       "      <td>Autauga County</td>\n",
       "      <td>20100</td>\n",
       "      <td>NaN</td>\n",
       "      <td>2.0</td>\n",
       "      <td>3.788</td>\n",
       "      <td>0.0</td>\n",
       "      <td>...</td>\n",
       "      <td>0.0</td>\n",
       "      <td>68.25</td>\n",
       "      <td>1.92</td>\n",
       "      <td>0.0</td>\n",
       "      <td>16.39</td>\n",
       "      <td>81.69</td>\n",
       "      <td>61.84</td>\n",
       "      <td>6.40</td>\n",
       "      <td>0.0</td>\n",
       "      <td>0</td>\n",
       "    </tr>\n",
       "    <tr>\n",
       "      <th>1</th>\n",
       "      <td>1001020200</td>\n",
       "      <td>1</td>\n",
       "      <td>Alabama</td>\n",
       "      <td>1</td>\n",
       "      <td>Autauga County</td>\n",
       "      <td>20200</td>\n",
       "      <td>NaN</td>\n",
       "      <td>2.0</td>\n",
       "      <td>1.290</td>\n",
       "      <td>0.0</td>\n",
       "      <td>...</td>\n",
       "      <td>0.0</td>\n",
       "      <td>68.82</td>\n",
       "      <td>2.28</td>\n",
       "      <td>0.0</td>\n",
       "      <td>13.07</td>\n",
       "      <td>84.65</td>\n",
       "      <td>60.79</td>\n",
       "      <td>8.03</td>\n",
       "      <td>0.0</td>\n",
       "      <td>0</td>\n",
       "    </tr>\n",
       "    <tr>\n",
       "      <th>2</th>\n",
       "      <td>1001020300</td>\n",
       "      <td>1</td>\n",
       "      <td>Alabama</td>\n",
       "      <td>1</td>\n",
       "      <td>Autauga County</td>\n",
       "      <td>20300</td>\n",
       "      <td>NaN</td>\n",
       "      <td>2.0</td>\n",
       "      <td>2.065</td>\n",
       "      <td>0.0</td>\n",
       "      <td>...</td>\n",
       "      <td>0.0</td>\n",
       "      <td>72.95</td>\n",
       "      <td>1.67</td>\n",
       "      <td>0.0</td>\n",
       "      <td>6.53</td>\n",
       "      <td>91.79</td>\n",
       "      <td>72.95</td>\n",
       "      <td>0.00</td>\n",
       "      <td>0.0</td>\n",
       "      <td>0</td>\n",
       "    </tr>\n",
       "    <tr>\n",
       "      <th>3</th>\n",
       "      <td>1001020400</td>\n",
       "      <td>1</td>\n",
       "      <td>Alabama</td>\n",
       "      <td>1</td>\n",
       "      <td>Autauga County</td>\n",
       "      <td>20400</td>\n",
       "      <td>NaN</td>\n",
       "      <td>4.0</td>\n",
       "      <td>2.464</td>\n",
       "      <td>0.0</td>\n",
       "      <td>...</td>\n",
       "      <td>0.0</td>\n",
       "      <td>77.64</td>\n",
       "      <td>1.46</td>\n",
       "      <td>0.0</td>\n",
       "      <td>5.51</td>\n",
       "      <td>93.03</td>\n",
       "      <td>77.64</td>\n",
       "      <td>0.00</td>\n",
       "      <td>0.0</td>\n",
       "      <td>0</td>\n",
       "    </tr>\n",
       "    <tr>\n",
       "      <th>4</th>\n",
       "      <td>1001020500</td>\n",
       "      <td>1</td>\n",
       "      <td>Alabama</td>\n",
       "      <td>1</td>\n",
       "      <td>Autauga County</td>\n",
       "      <td>20500</td>\n",
       "      <td>NaN</td>\n",
       "      <td>3.0</td>\n",
       "      <td>4.401</td>\n",
       "      <td>0.0</td>\n",
       "      <td>...</td>\n",
       "      <td>0.0</td>\n",
       "      <td>70.97</td>\n",
       "      <td>2.16</td>\n",
       "      <td>0.0</td>\n",
       "      <td>5.96</td>\n",
       "      <td>91.87</td>\n",
       "      <td>70.97</td>\n",
       "      <td>0.00</td>\n",
       "      <td>0.0</td>\n",
       "      <td>0</td>\n",
       "    </tr>\n",
       "  </tbody>\n",
       "</table>\n",
       "<p>5 rows × 567 columns</p>\n",
       "</div>"
      ],
      "text/plain": [
       "   FIPS_Tract  State State_name  County     County_name  Tract  Flag  \\\n",
       "0  1001020100      1    Alabama       1  Autauga County  20100   NaN   \n",
       "1  1001020200      1    Alabama       1  Autauga County  20200   NaN   \n",
       "2  1001020300      1    Alabama       1  Autauga County  20300   NaN   \n",
       "3  1001020400      1    Alabama       1  Autauga County  20400   NaN   \n",
       "4  1001020500      1    Alabama       1  Autauga County  20500   NaN   \n",
       "\n",
       "   Num_BGs_in_Tract  LAND_AREA  AIAN_LAND      ...        \\\n",
       "0               2.0      3.788        0.0      ...         \n",
       "1               2.0      1.290        0.0      ...         \n",
       "2               2.0      2.065        0.0      ...         \n",
       "3               4.0      2.464        0.0      ...         \n",
       "4               3.0      4.401        0.0      ...         \n",
       "\n",
       "   pct_TEA_Update_Leave_CEN_2010  pct_Census_Mail_Returns_CEN_2010  \\\n",
       "0                            0.0                             68.25   \n",
       "1                            0.0                             68.82   \n",
       "2                            0.0                             72.95   \n",
       "3                            0.0                             77.64   \n",
       "4                            0.0                             70.97   \n",
       "\n",
       "   pct_Vacant_CEN_2010  pct_Deletes_CEN_2010  pct_Census_UAA_CEN_2010  \\\n",
       "0                 1.92                   0.0                    16.39   \n",
       "1                 2.28                   0.0                    13.07   \n",
       "2                 1.67                   0.0                     6.53   \n",
       "3                 1.46                   0.0                     5.51   \n",
       "4                 2.16                   0.0                     5.96   \n",
       "\n",
       "   pct_Mailback_Count_CEN_2010  pct_FRST_FRMS_CEN_2010  \\\n",
       "0                        81.69                   61.84   \n",
       "1                        84.65                   60.79   \n",
       "2                        91.79                   72.95   \n",
       "3                        93.03                   77.64   \n",
       "4                        91.87                   70.97   \n",
       "\n",
       "   pct_RPLCMNT_FRMS_CEN_2010  pct_BILQ_Mailout_count_CEN_2010  has_superfund  \n",
       "0                       6.40                              0.0              0  \n",
       "1                       8.03                              0.0              0  \n",
       "2                       0.00                              0.0              0  \n",
       "3                       0.00                              0.0              0  \n",
       "4                       0.00                              0.0              0  \n",
       "\n",
       "[5 rows x 567 columns]"
      ]
     },
     "execution_count": 156,
     "metadata": {},
     "output_type": "execute_result"
    }
   ],
   "source": [
    "tract.head() #checking out the head of the data frame"
   ]
  },
  {
   "cell_type": "markdown",
   "metadata": {},
   "source": [
    "## Target Variable"
   ]
  },
  {
   "cell_type": "code",
   "execution_count": 157,
   "metadata": {
    "ExecuteTime": {
     "end_time": "2018-04-05T06:06:41.755140Z",
     "start_time": "2018-04-05T06:06:41.745751Z"
    }
   },
   "outputs": [
    {
     "data": {
      "text/plain": [
       "0    0.983207\n",
       "1    0.016793\n",
       "Name: has_superfund, dtype: float64"
      ]
     },
     "execution_count": 157,
     "metadata": {},
     "output_type": "execute_result"
    }
   ],
   "source": [
    "tract.has_superfund.value_counts() / tract.shape[0] #number of census tracts that has a superfund site"
   ]
  },
  {
   "cell_type": "markdown",
   "metadata": {},
   "source": [
    "## Feature elimination"
   ]
  },
  {
   "cell_type": "markdown",
   "metadata": {},
   "source": [
    "- Removed features that involved language speaking, unncessary labels (bloc groups, flag?)\n",
    "- dropped any ACS feature that is also captured by the Census Bureau"
   ]
  },
  {
   "cell_type": "code",
   "execution_count": 158,
   "metadata": {
    "ExecuteTime": {
     "end_time": "2018-04-05T06:06:42.076050Z",
     "start_time": "2018-04-05T06:06:41.758331Z"
    },
    "collapsed": true
   },
   "outputs": [],
   "source": [
    "tract = tract.drop(['State', 'County', 'Flag', 'FIPS_Tract', 'Num_BGs_in_Tract', 'LAND_AREA',\n",
    "                   'AIAN_LAND'], axis=1) #dropping State and County first as they aren't needed here"
   ]
  },
  {
   "cell_type": "code",
   "execution_count": 159,
   "metadata": {
    "ExecuteTime": {
     "end_time": "2018-04-05T06:06:42.592820Z",
     "start_time": "2018-04-05T06:06:42.078566Z"
    },
    "collapsed": true
   },
   "outputs": [],
   "source": [
    "tract = tract[tract.columns.drop(list(tract.filter(regex='Age5p')))] #don't need spoken languages features"
   ]
  },
  {
   "cell_type": "code",
   "execution_count": 160,
   "metadata": {
    "ExecuteTime": {
     "end_time": "2018-04-05T06:06:43.023416Z",
     "start_time": "2018-04-05T06:06:42.595120Z"
    },
    "collapsed": true
   },
   "outputs": [],
   "source": [
    "tract = tract[tract.columns.drop(list(tract.filter(regex='ACSMOE')))] #dropping the American Community\n",
    "#Survey margin of error"
   ]
  },
  {
   "cell_type": "code",
   "execution_count": 161,
   "metadata": {
    "ExecuteTime": {
     "end_time": "2018-04-05T06:06:43.220854Z",
     "start_time": "2018-04-05T06:06:43.025830Z"
    },
    "collapsed": true
   },
   "outputs": [],
   "source": [
    "tract = tract.drop(['Tot_GQ_CEN_2010','Inst_GQ_CEN_2010','Non_Inst_GQ_CEN_2010',\n",
    "                   'Tot_Population_ACS_09_13','Males_ACS_09_13', 'Females_ACS_09_13', 'Pop_under_5_ACS_09_13',\n",
    "                   'Pop_5_17_ACS_09_13','Pop_18_24_ACS_09_13','Pop_25_44_ACS_09_13',\n",
    "                   'Pop_45_64_ACS_09_13', 'Pop_65plus_ACS_09_13', 'Hispanic_ACS_09_13', \n",
    "                    'NH_White_alone_ACS_09_13', 'Pop_25yrs_Over_ACS_09_13',],axis=1) \n",
    "#Dropping any American Community Survey feature and leaving the Census Bureau feature. "
   ]
  },
  {
   "cell_type": "code",
   "execution_count": 162,
   "metadata": {
    "ExecuteTime": {
     "end_time": "2018-04-05T06:06:43.390278Z",
     "start_time": "2018-04-05T06:06:43.223210Z"
    },
    "collapsed": true
   },
   "outputs": [],
   "source": [
    "tract = tract[tract.columns.drop(list(tract.filter(regex='ENG_VW')))] #dropping those who speak very well of \n",
    "#different languages\n"
   ]
  },
  {
   "cell_type": "code",
   "execution_count": 163,
   "metadata": {
    "ExecuteTime": {
     "end_time": "2018-04-05T06:06:43.563779Z",
     "start_time": "2018-04-05T06:06:43.398076Z"
    },
    "collapsed": true
   },
   "outputs": [],
   "source": [
    "tract = tract.drop(['Rel_Family_HHD_ACS_09_13', 'MrdCple_Fmly_HHD_ACS_09_13',\n",
    "                   'Not_MrdCple_HHD_ACS_09_13'],axis=1) #dropping how many people who live in households.\n",
    "                                #doesn't seem to be a good predictor of census tracts that have a Superfund site"
   ]
  },
  {
   "cell_type": "code",
   "execution_count": 164,
   "metadata": {
    "ExecuteTime": {
     "end_time": "2018-04-05T06:06:43.660031Z",
     "start_time": "2018-04-05T06:06:43.570568Z"
    },
    "collapsed": true
   },
   "outputs": [],
   "source": [
    "tract = tract.drop(['Female_No_HB_CEN_2010', 'Female_No_HB_ACS_09_13',\n",
    "                   'NonFamily_HHD_CEN_2010', 'NonFamily_HHD_ACS_09_13',\n",
    "                   'Rel_Family_HHDS_CEN_2010','MrdCple_Fmly_HHD_CEN_2010',\n",
    "                   'Not_MrdCple_HHD_CEN_2010', 'Sngl_Prns_HHD_CEN_2010',\n",
    "                   'Sngl_Prns_HHD_ACS_09_13', 'HHD_PPL_Und_18_CEN_2010',\n",
    "                   'HHD_PPL_Und_18_ACS_09_13', 'Tot_Prns_in_HHD_CEN_2010',\n",
    "                   'Tot_Prns_in_HHD_ACS_09_13', 'Rel_Child_Under_6_CEN_2010',\n",
    "                   'Rel_Child_Under_6_ACS_09_13'],axis=1) #reasoning is similar to the previous cell and we will\n",
    "                                                            #drop these features"
   ]
  },
  {
   "cell_type": "code",
   "execution_count": 165,
   "metadata": {
    "ExecuteTime": {
     "end_time": "2018-04-05T06:06:43.747699Z",
     "start_time": "2018-04-05T06:06:43.673931Z"
    },
    "collapsed": true
   },
   "outputs": [],
   "source": [
    "tract = tract.drop(['Tot_Housing_Units_CEN_2010', 'Tot_Housing_Units_ACS_09_13',\n",
    "                    'Tot_Occp_Units_CEN_2010', 'Tot_Occp_Units_ACS_09_13',\n",
    "                   'Tot_Vacant_Units_CEN_2010', 'Tot_Vacant_Units_ACS_09_13',\n",
    "                   'Renter_Occp_HU_CEN_2010', 'Renter_Occp_HU_ACS_09_13',\n",
    "                   'Owner_Occp_HU_CEN_2010', 'Owner_Occp_HU_ACS_09_13',\n",
    "                   'Single_Unit_ACS_09_13','MLT_U2_9_STRC_ACS_09_13',\n",
    "                   'MLT_U10p_ACS_09_13', 'Mobile_Homes_ACS_09_13',\n",
    "                   'Crowd_Occp_U_ACS_09_13','Occp_U_NO_PH_SRVC_ACS_09_13',\n",
    "                   'No_Plumb_ACS_09_13','Recent_Built_HU_ACS_09_13',\n",
    "                   'MailBack_Area_Count_CEN_2010','TEA_Mail_Out_Mail_Back_CEN_2010',\n",
    "                   'TEA_Update_Leave_CEN_2010', 'Census_Mail_Returns_CEN_2010',\n",
    "                   'Mail_Return_Rate_CEN_2010', 'Low_Response_Score', \n",
    "                   'Vacants_CEN_2010', 'Deletes_CEN_2010', 'Census_UAA_CEN_2010',\n",
    "                   'Valid_Mailback_Count_CEN_2010','FRST_FRMS_CEN_2010', 'RPLCMNT_FRMS_CEN_2010',\n",
    "                   'BILQ_Mailout_count_CEN_2010', 'BILQ_Frms_CEN_2010'],axis=1) "
   ]
  },
  {
   "cell_type": "markdown",
   "metadata": {},
   "source": [
    "## Some percentage features are interesting to look at, so I'll take them out into a new data frame and then drop all the percentage features and then concetenate them back to the original"
   ]
  },
  {
   "cell_type": "code",
   "execution_count": 166,
   "metadata": {
    "ExecuteTime": {
     "end_time": "2018-04-05T06:06:43.769658Z",
     "start_time": "2018-04-05T06:06:43.750337Z"
    },
    "collapsed": true
   },
   "outputs": [],
   "source": [
    "pct = tract[['pct_Not_HS_Grad_ACS_09_13', 'pct_Born_foreign_ACS_09_13', \n",
    "          'pct_Born_US_ACS_09_13', 'pct_PUB_ASST_INC_ACS_09_13',\n",
    "            'pct_TwoPHealth_Ins_ACS_09_13', 'pct_One_Health_Ins_ACS_09_13',\n",
    "          'pct_Prs_Blw_Pov_Lev_ACS_09_13', 'pct_College_ACS_09_13',\n",
    "            'pct_Not_HS_Grad_ACS_09_13', 'pct_Males_CEN_2010', 'pct_Females_CEN_2010', \n",
    "          'pct_Pop_Under_5_CEN_2010', 'pct_Pop_5_17_CEN_2010',\n",
    "            'pct_Pop_18_24_CEN_2010', 'pct_Pop_25_44_CEN_2010', 'pct_Pop_45_64_CEN_2010', \n",
    "          'pct_Pop_65plus_CEN_2010', 'pct_No_Health_Ins_ACS_09_13',\n",
    "            'pct_Hispanic_CEN_2010', 'pct_NH_White_alone_CEN_2010', 'pct_NH_Blk_alone_CEN_2010',\n",
    "             'pct_NH_Asian_alone_CEN_2010', 'pct_NH_AIAN_alone_CEN_2010' ,'pct_NH_NHOPI_alone_CEN_2010',\n",
    "            'pct_NH_SOR_alone_CEN_2010']]"
   ]
  },
  {
   "cell_type": "code",
   "execution_count": 167,
   "metadata": {
    "ExecuteTime": {
     "end_time": "2018-04-05T06:06:43.864604Z",
     "start_time": "2018-04-05T06:06:43.778195Z"
    },
    "collapsed": true
   },
   "outputs": [],
   "source": [
    "tract = tract[tract.columns.drop(list(tract.filter(regex='pct')))] #no really need for percentage units"
   ]
  },
  {
   "cell_type": "code",
   "execution_count": 168,
   "metadata": {
    "ExecuteTime": {
     "end_time": "2018-04-05T06:06:44.039375Z",
     "start_time": "2018-04-05T06:06:43.867032Z"
    }
   },
   "outputs": [
    {
     "data": {
      "text/html": [
       "<div>\n",
       "<style scoped>\n",
       "    .dataframe tbody tr th:only-of-type {\n",
       "        vertical-align: middle;\n",
       "    }\n",
       "\n",
       "    .dataframe tbody tr th {\n",
       "        vertical-align: top;\n",
       "    }\n",
       "\n",
       "    .dataframe thead th {\n",
       "        text-align: right;\n",
       "    }\n",
       "</style>\n",
       "<table border=\"1\" class=\"dataframe\">\n",
       "  <thead>\n",
       "    <tr style=\"text-align: right;\">\n",
       "      <th></th>\n",
       "      <th>State_name</th>\n",
       "      <th>County_name</th>\n",
       "      <th>Tract</th>\n",
       "      <th>URBANIZED_AREA_POP_CEN_2010</th>\n",
       "      <th>URBAN_CLUSTER_POP_CEN_2010</th>\n",
       "      <th>RURAL_POP_CEN_2010</th>\n",
       "      <th>Tot_Population_CEN_2010</th>\n",
       "      <th>Males_CEN_2010</th>\n",
       "      <th>Females_CEN_2010</th>\n",
       "      <th>Pop_under_5_CEN_2010</th>\n",
       "      <th>...</th>\n",
       "      <th>PUB_ASST_INC_ACS_09_13</th>\n",
       "      <th>Med_HHD_Inc_ACS_09_13</th>\n",
       "      <th>Aggregate_HH_INC_ACS_09_13</th>\n",
       "      <th>Med_House_value_ACS_09_13</th>\n",
       "      <th>Aggr_House_Value_ACS_09_13</th>\n",
       "      <th>avg_Tot_Prns_in_HHD_CEN_2010</th>\n",
       "      <th>avg_Tot_Prns_in_HHD_ACS_09_13</th>\n",
       "      <th>avg_Agg_HH_INC_ACS_09_13</th>\n",
       "      <th>avg_Agg_House_Value_ACS_09_13</th>\n",
       "      <th>has_superfund</th>\n",
       "    </tr>\n",
       "  </thead>\n",
       "  <tbody>\n",
       "    <tr>\n",
       "      <th>0</th>\n",
       "      <td>Alabama</td>\n",
       "      <td>Autauga County</td>\n",
       "      <td>20100</td>\n",
       "      <td>1594.0</td>\n",
       "      <td>0.0</td>\n",
       "      <td>318.0</td>\n",
       "      <td>1912.0</td>\n",
       "      <td>947.0</td>\n",
       "      <td>965.0</td>\n",
       "      <td>118.0</td>\n",
       "      <td>...</td>\n",
       "      <td>0.0</td>\n",
       "      <td>$63,030</td>\n",
       "      <td>$40,417,700</td>\n",
       "      <td>$124,800</td>\n",
       "      <td>$80,532,000</td>\n",
       "      <td>2.7590</td>\n",
       "      <td>2.884740</td>\n",
       "      <td>$65,613</td>\n",
       "      <td>$130,734</td>\n",
       "      <td>0</td>\n",
       "    </tr>\n",
       "    <tr>\n",
       "      <th>1</th>\n",
       "      <td>Alabama</td>\n",
       "      <td>Autauga County</td>\n",
       "      <td>20200</td>\n",
       "      <td>2170.0</td>\n",
       "      <td>0.0</td>\n",
       "      <td>0.0</td>\n",
       "      <td>2170.0</td>\n",
       "      <td>1013.0</td>\n",
       "      <td>1157.0</td>\n",
       "      <td>127.0</td>\n",
       "      <td>...</td>\n",
       "      <td>6.0</td>\n",
       "      <td>$44,019</td>\n",
       "      <td>$43,269,600</td>\n",
       "      <td>$129,200</td>\n",
       "      <td>$91,182,000</td>\n",
       "      <td>2.6770</td>\n",
       "      <td>2.638655</td>\n",
       "      <td>$51,944</td>\n",
       "      <td>$109,462</td>\n",
       "      <td>0</td>\n",
       "    </tr>\n",
       "    <tr>\n",
       "      <th>2</th>\n",
       "      <td>Alabama</td>\n",
       "      <td>Autauga County</td>\n",
       "      <td>20300</td>\n",
       "      <td>3373.0</td>\n",
       "      <td>0.0</td>\n",
       "      <td>0.0</td>\n",
       "      <td>3373.0</td>\n",
       "      <td>1573.0</td>\n",
       "      <td>1800.0</td>\n",
       "      <td>243.0</td>\n",
       "      <td>...</td>\n",
       "      <td>40.0</td>\n",
       "      <td>$43,201</td>\n",
       "      <td>$64,824,500</td>\n",
       "      <td>$113,800</td>\n",
       "      <td>$123,226,000</td>\n",
       "      <td>2.6855</td>\n",
       "      <td>2.621856</td>\n",
       "      <td>$56,222</td>\n",
       "      <td>$106,874</td>\n",
       "      <td>0</td>\n",
       "    </tr>\n",
       "    <tr>\n",
       "      <th>3</th>\n",
       "      <td>Alabama</td>\n",
       "      <td>Autauga County</td>\n",
       "      <td>20400</td>\n",
       "      <td>4386.0</td>\n",
       "      <td>0.0</td>\n",
       "      <td>0.0</td>\n",
       "      <td>4386.0</td>\n",
       "      <td>2083.0</td>\n",
       "      <td>2303.0</td>\n",
       "      <td>234.0</td>\n",
       "      <td>...</td>\n",
       "      <td>17.0</td>\n",
       "      <td>$54,730</td>\n",
       "      <td>$114,414,700</td>\n",
       "      <td>$130,500</td>\n",
       "      <td>$208,002,200</td>\n",
       "      <td>2.5470</td>\n",
       "      <td>2.516000</td>\n",
       "      <td>$65,380</td>\n",
       "      <td>$118,858</td>\n",
       "      <td>0</td>\n",
       "    </tr>\n",
       "    <tr>\n",
       "      <th>4</th>\n",
       "      <td>Alabama</td>\n",
       "      <td>Autauga County</td>\n",
       "      <td>20500</td>\n",
       "      <td>10762.0</td>\n",
       "      <td>0.0</td>\n",
       "      <td>4.0</td>\n",
       "      <td>10766.0</td>\n",
       "      <td>5127.0</td>\n",
       "      <td>5639.0</td>\n",
       "      <td>729.0</td>\n",
       "      <td>...</td>\n",
       "      <td>196.0</td>\n",
       "      <td>$65,132</td>\n",
       "      <td>$300,798,700</td>\n",
       "      <td>$177,000</td>\n",
       "      <td>$472,779,100</td>\n",
       "      <td>2.5931</td>\n",
       "      <td>2.598260</td>\n",
       "      <td>$72,709</td>\n",
       "      <td>$114,281</td>\n",
       "      <td>0</td>\n",
       "    </tr>\n",
       "  </tbody>\n",
       "</table>\n",
       "<p>5 rows × 68 columns</p>\n",
       "</div>"
      ],
      "text/plain": [
       "  State_name     County_name  Tract  URBANIZED_AREA_POP_CEN_2010  \\\n",
       "0    Alabama  Autauga County  20100                       1594.0   \n",
       "1    Alabama  Autauga County  20200                       2170.0   \n",
       "2    Alabama  Autauga County  20300                       3373.0   \n",
       "3    Alabama  Autauga County  20400                       4386.0   \n",
       "4    Alabama  Autauga County  20500                      10762.0   \n",
       "\n",
       "   URBAN_CLUSTER_POP_CEN_2010  RURAL_POP_CEN_2010  Tot_Population_CEN_2010  \\\n",
       "0                         0.0               318.0                   1912.0   \n",
       "1                         0.0                 0.0                   2170.0   \n",
       "2                         0.0                 0.0                   3373.0   \n",
       "3                         0.0                 0.0                   4386.0   \n",
       "4                         0.0                 4.0                  10766.0   \n",
       "\n",
       "   Males_CEN_2010  Females_CEN_2010  Pop_under_5_CEN_2010      ...        \\\n",
       "0           947.0             965.0                 118.0      ...         \n",
       "1          1013.0            1157.0                 127.0      ...         \n",
       "2          1573.0            1800.0                 243.0      ...         \n",
       "3          2083.0            2303.0                 234.0      ...         \n",
       "4          5127.0            5639.0                 729.0      ...         \n",
       "\n",
       "   PUB_ASST_INC_ACS_09_13  Med_HHD_Inc_ACS_09_13  Aggregate_HH_INC_ACS_09_13  \\\n",
       "0                     0.0                $63,030                 $40,417,700   \n",
       "1                     6.0                $44,019                 $43,269,600   \n",
       "2                    40.0                $43,201                 $64,824,500   \n",
       "3                    17.0                $54,730                $114,414,700   \n",
       "4                   196.0                $65,132                $300,798,700   \n",
       "\n",
       "   Med_House_value_ACS_09_13  Aggr_House_Value_ACS_09_13  \\\n",
       "0                   $124,800                 $80,532,000   \n",
       "1                   $129,200                 $91,182,000   \n",
       "2                   $113,800                $123,226,000   \n",
       "3                   $130,500                $208,002,200   \n",
       "4                   $177,000                $472,779,100   \n",
       "\n",
       "   avg_Tot_Prns_in_HHD_CEN_2010  avg_Tot_Prns_in_HHD_ACS_09_13  \\\n",
       "0                        2.7590                       2.884740   \n",
       "1                        2.6770                       2.638655   \n",
       "2                        2.6855                       2.621856   \n",
       "3                        2.5470                       2.516000   \n",
       "4                        2.5931                       2.598260   \n",
       "\n",
       "   avg_Agg_HH_INC_ACS_09_13  avg_Agg_House_Value_ACS_09_13  has_superfund  \n",
       "0                   $65,613                       $130,734              0  \n",
       "1                   $51,944                       $109,462              0  \n",
       "2                   $56,222                       $106,874              0  \n",
       "3                   $65,380                       $118,858              0  \n",
       "4                   $72,709                       $114,281              0  \n",
       "\n",
       "[5 rows x 68 columns]"
      ]
     },
     "execution_count": 168,
     "metadata": {},
     "output_type": "execute_result"
    }
   ],
   "source": [
    "tract.head()"
   ]
  },
  {
   "cell_type": "code",
   "execution_count": 169,
   "metadata": {
    "ExecuteTime": {
     "end_time": "2018-04-05T06:06:44.139346Z",
     "start_time": "2018-04-05T06:06:44.104576Z"
    }
   },
   "outputs": [
    {
     "data": {
      "text/html": [
       "<div>\n",
       "<style scoped>\n",
       "    .dataframe tbody tr th:only-of-type {\n",
       "        vertical-align: middle;\n",
       "    }\n",
       "\n",
       "    .dataframe tbody tr th {\n",
       "        vertical-align: top;\n",
       "    }\n",
       "\n",
       "    .dataframe thead th {\n",
       "        text-align: right;\n",
       "    }\n",
       "</style>\n",
       "<table border=\"1\" class=\"dataframe\">\n",
       "  <thead>\n",
       "    <tr style=\"text-align: right;\">\n",
       "      <th></th>\n",
       "      <th>pct_Not_HS_Grad_ACS_09_13</th>\n",
       "      <th>pct_Born_foreign_ACS_09_13</th>\n",
       "      <th>pct_Born_US_ACS_09_13</th>\n",
       "      <th>pct_PUB_ASST_INC_ACS_09_13</th>\n",
       "      <th>pct_TwoPHealth_Ins_ACS_09_13</th>\n",
       "      <th>pct_One_Health_Ins_ACS_09_13</th>\n",
       "      <th>pct_Prs_Blw_Pov_Lev_ACS_09_13</th>\n",
       "      <th>pct_College_ACS_09_13</th>\n",
       "      <th>pct_Not_HS_Grad_ACS_09_13</th>\n",
       "      <th>pct_Males_CEN_2010</th>\n",
       "      <th>...</th>\n",
       "      <th>pct_Pop_45_64_CEN_2010</th>\n",
       "      <th>pct_Pop_65plus_CEN_2010</th>\n",
       "      <th>pct_No_Health_Ins_ACS_09_13</th>\n",
       "      <th>pct_Hispanic_CEN_2010</th>\n",
       "      <th>pct_NH_White_alone_CEN_2010</th>\n",
       "      <th>pct_NH_Blk_alone_CEN_2010</th>\n",
       "      <th>pct_NH_Asian_alone_CEN_2010</th>\n",
       "      <th>pct_NH_AIAN_alone_CEN_2010</th>\n",
       "      <th>pct_NH_NHOPI_alone_CEN_2010</th>\n",
       "      <th>pct_NH_SOR_alone_CEN_2010</th>\n",
       "    </tr>\n",
       "  </thead>\n",
       "  <tbody>\n",
       "    <tr>\n",
       "      <th>0</th>\n",
       "      <td>19.277108</td>\n",
       "      <td>0.276549</td>\n",
       "      <td>99.723451</td>\n",
       "      <td>0.000000</td>\n",
       "      <td>16.371681</td>\n",
       "      <td>70.851770</td>\n",
       "      <td>10.523354</td>\n",
       "      <td>26.678141</td>\n",
       "      <td>19.277108</td>\n",
       "      <td>49.53</td>\n",
       "      <td>...</td>\n",
       "      <td>27.62</td>\n",
       "      <td>11.56</td>\n",
       "      <td>11.061947</td>\n",
       "      <td>2.30</td>\n",
       "      <td>83.73</td>\n",
       "      <td>11.35</td>\n",
       "      <td>0.73</td>\n",
       "      <td>0.68</td>\n",
       "      <td>0.00</td>\n",
       "      <td>0.05</td>\n",
       "    </tr>\n",
       "    <tr>\n",
       "      <th>1</th>\n",
       "      <td>23.149394</td>\n",
       "      <td>3.057325</td>\n",
       "      <td>96.942675</td>\n",
       "      <td>0.720288</td>\n",
       "      <td>21.061571</td>\n",
       "      <td>57.876858</td>\n",
       "      <td>15.377616</td>\n",
       "      <td>20.659489</td>\n",
       "      <td>23.149394</td>\n",
       "      <td>46.68</td>\n",
       "      <td>...</td>\n",
       "      <td>24.06</td>\n",
       "      <td>9.86</td>\n",
       "      <td>11.847134</td>\n",
       "      <td>3.46</td>\n",
       "      <td>38.89</td>\n",
       "      <td>55.94</td>\n",
       "      <td>0.23</td>\n",
       "      <td>0.23</td>\n",
       "      <td>0.00</td>\n",
       "      <td>0.14</td>\n",
       "    </tr>\n",
       "    <tr>\n",
       "      <th>2</th>\n",
       "      <td>11.432571</td>\n",
       "      <td>3.990841</td>\n",
       "      <td>96.009159</td>\n",
       "      <td>3.469211</td>\n",
       "      <td>22.473013</td>\n",
       "      <td>64.115146</td>\n",
       "      <td>13.897181</td>\n",
       "      <td>17.405506</td>\n",
       "      <td>11.432571</td>\n",
       "      <td>46.64</td>\n",
       "      <td>...</td>\n",
       "      <td>24.67</td>\n",
       "      <td>13.02</td>\n",
       "      <td>12.136081</td>\n",
       "      <td>2.58</td>\n",
       "      <td>75.24</td>\n",
       "      <td>19.18</td>\n",
       "      <td>0.50</td>\n",
       "      <td>0.27</td>\n",
       "      <td>0.15</td>\n",
       "      <td>0.21</td>\n",
       "    </tr>\n",
       "    <tr>\n",
       "      <th>3</th>\n",
       "      <td>10.255570</td>\n",
       "      <td>2.566432</td>\n",
       "      <td>97.433568</td>\n",
       "      <td>0.971429</td>\n",
       "      <td>26.186691</td>\n",
       "      <td>58.664547</td>\n",
       "      <td>2.952532</td>\n",
       "      <td>24.115334</td>\n",
       "      <td>10.255570</td>\n",
       "      <td>47.49</td>\n",
       "      <td>...</td>\n",
       "      <td>25.56</td>\n",
       "      <td>20.61</td>\n",
       "      <td>14.217579</td>\n",
       "      <td>1.94</td>\n",
       "      <td>91.88</td>\n",
       "      <td>4.35</td>\n",
       "      <td>0.41</td>\n",
       "      <td>0.25</td>\n",
       "      <td>0.07</td>\n",
       "      <td>0.02</td>\n",
       "    </tr>\n",
       "    <tr>\n",
       "      <th>4</th>\n",
       "      <td>4.369356</td>\n",
       "      <td>2.792369</td>\n",
       "      <td>97.207631</td>\n",
       "      <td>4.737733</td>\n",
       "      <td>14.874205</td>\n",
       "      <td>73.956317</td>\n",
       "      <td>7.803468</td>\n",
       "      <td>39.207690</td>\n",
       "      <td>4.369356</td>\n",
       "      <td>47.62</td>\n",
       "      <td>...</td>\n",
       "      <td>22.51</td>\n",
       "      <td>10.46</td>\n",
       "      <td>7.354161</td>\n",
       "      <td>3.30</td>\n",
       "      <td>78.38</td>\n",
       "      <td>13.17</td>\n",
       "      <td>2.74</td>\n",
       "      <td>0.41</td>\n",
       "      <td>0.06</td>\n",
       "      <td>0.11</td>\n",
       "    </tr>\n",
       "  </tbody>\n",
       "</table>\n",
       "<p>5 rows × 25 columns</p>\n",
       "</div>"
      ],
      "text/plain": [
       "   pct_Not_HS_Grad_ACS_09_13  pct_Born_foreign_ACS_09_13  \\\n",
       "0                  19.277108                    0.276549   \n",
       "1                  23.149394                    3.057325   \n",
       "2                  11.432571                    3.990841   \n",
       "3                  10.255570                    2.566432   \n",
       "4                   4.369356                    2.792369   \n",
       "\n",
       "   pct_Born_US_ACS_09_13  pct_PUB_ASST_INC_ACS_09_13  \\\n",
       "0              99.723451                    0.000000   \n",
       "1              96.942675                    0.720288   \n",
       "2              96.009159                    3.469211   \n",
       "3              97.433568                    0.971429   \n",
       "4              97.207631                    4.737733   \n",
       "\n",
       "   pct_TwoPHealth_Ins_ACS_09_13  pct_One_Health_Ins_ACS_09_13  \\\n",
       "0                     16.371681                     70.851770   \n",
       "1                     21.061571                     57.876858   \n",
       "2                     22.473013                     64.115146   \n",
       "3                     26.186691                     58.664547   \n",
       "4                     14.874205                     73.956317   \n",
       "\n",
       "   pct_Prs_Blw_Pov_Lev_ACS_09_13  pct_College_ACS_09_13  \\\n",
       "0                      10.523354              26.678141   \n",
       "1                      15.377616              20.659489   \n",
       "2                      13.897181              17.405506   \n",
       "3                       2.952532              24.115334   \n",
       "4                       7.803468              39.207690   \n",
       "\n",
       "   pct_Not_HS_Grad_ACS_09_13  pct_Males_CEN_2010            ...              \\\n",
       "0                  19.277108               49.53            ...               \n",
       "1                  23.149394               46.68            ...               \n",
       "2                  11.432571               46.64            ...               \n",
       "3                  10.255570               47.49            ...               \n",
       "4                   4.369356               47.62            ...               \n",
       "\n",
       "   pct_Pop_45_64_CEN_2010  pct_Pop_65plus_CEN_2010  \\\n",
       "0                   27.62                    11.56   \n",
       "1                   24.06                     9.86   \n",
       "2                   24.67                    13.02   \n",
       "3                   25.56                    20.61   \n",
       "4                   22.51                    10.46   \n",
       "\n",
       "   pct_No_Health_Ins_ACS_09_13  pct_Hispanic_CEN_2010  \\\n",
       "0                    11.061947                   2.30   \n",
       "1                    11.847134                   3.46   \n",
       "2                    12.136081                   2.58   \n",
       "3                    14.217579                   1.94   \n",
       "4                     7.354161                   3.30   \n",
       "\n",
       "   pct_NH_White_alone_CEN_2010  pct_NH_Blk_alone_CEN_2010  \\\n",
       "0                        83.73                      11.35   \n",
       "1                        38.89                      55.94   \n",
       "2                        75.24                      19.18   \n",
       "3                        91.88                       4.35   \n",
       "4                        78.38                      13.17   \n",
       "\n",
       "   pct_NH_Asian_alone_CEN_2010  pct_NH_AIAN_alone_CEN_2010  \\\n",
       "0                         0.73                        0.68   \n",
       "1                         0.23                        0.23   \n",
       "2                         0.50                        0.27   \n",
       "3                         0.41                        0.25   \n",
       "4                         2.74                        0.41   \n",
       "\n",
       "   pct_NH_NHOPI_alone_CEN_2010  pct_NH_SOR_alone_CEN_2010  \n",
       "0                         0.00                       0.05  \n",
       "1                         0.00                       0.14  \n",
       "2                         0.15                       0.21  \n",
       "3                         0.07                       0.02  \n",
       "4                         0.06                       0.11  \n",
       "\n",
       "[5 rows x 25 columns]"
      ]
     },
     "execution_count": 169,
     "metadata": {},
     "output_type": "execute_result"
    }
   ],
   "source": [
    "pct.head()"
   ]
  },
  {
   "cell_type": "code",
   "execution_count": 170,
   "metadata": {
    "ExecuteTime": {
     "end_time": "2018-04-05T06:06:46.954430Z",
     "start_time": "2018-04-05T06:06:46.906473Z"
    },
    "collapsed": true
   },
   "outputs": [],
   "source": [
    "tract = pd.concat([tract, pct], axis=1)"
   ]
  },
  {
   "cell_type": "code",
   "execution_count": 171,
   "metadata": {
    "ExecuteTime": {
     "end_time": "2018-04-05T06:06:47.536070Z",
     "start_time": "2018-04-05T06:06:47.289927Z"
    }
   },
   "outputs": [
    {
     "data": {
      "text/plain": [
       "avg_Agg_House_Value_ACS_09_13    0.039178\n",
       "Aggr_House_Value_ACS_09_13       0.039178\n",
       "Med_House_value_ACS_09_13        0.024385\n",
       "pct_Not_HS_Grad_ACS_09_13        0.021643\n",
       "pct_Not_HS_Grad_ACS_09_13        0.021643\n",
       "Med_HHD_Inc_ACS_09_13            0.013780\n",
       "Aggregate_HH_INC_ACS_09_13       0.013780\n",
       "avg_Agg_HH_INC_ACS_09_13         0.013780\n",
       "Not_HS_Grad_ACS_09_13            0.013037\n",
       "US_Cit_Nat_ACS_09_13             0.013037\n",
       "NON_US_Cit_ACS_09_13             0.013037\n",
       "avg_Tot_Prns_in_HHD_ACS_09_13    0.012118\n",
       "pct_PUB_ASST_INC_ACS_09_13       0.012118\n",
       "pct_Prs_Blw_Pov_Lev_ACS_09_13    0.011375\n",
       "pct_College_ACS_09_13            0.009659\n",
       "pct_Born_US_ACS_09_13            0.009484\n",
       "pct_No_Health_Ins_ACS_09_13      0.009484\n",
       "pct_Born_foreign_ACS_09_13       0.009484\n",
       "pct_One_Health_Ins_ACS_09_13     0.009484\n",
       "pct_TwoPHealth_Ins_ACS_09_13     0.009484\n",
       "avg_Tot_Prns_in_HHD_CEN_2010     0.009470\n",
       "pct_NH_NHOPI_alone_CEN_2010      0.008038\n",
       "pct_NH_SOR_alone_CEN_2010        0.008038\n",
       "pct_Males_CEN_2010               0.008038\n",
       "pct_Pop_45_64_CEN_2010           0.008038\n",
       "pct_NH_AIAN_alone_CEN_2010       0.008038\n",
       "pct_Females_CEN_2010             0.008038\n",
       "pct_NH_Blk_alone_CEN_2010        0.008038\n",
       "pct_NH_White_alone_CEN_2010      0.008038\n",
       "pct_Pop_65plus_CEN_2010          0.008038\n",
       "dtype: float64"
      ]
     },
     "execution_count": 171,
     "metadata": {},
     "output_type": "execute_result"
    }
   ],
   "source": [
    "(tract.isnull().sum()/tract.shape[0]).sort_values(ascending=False).head(30)"
   ]
  },
  {
   "cell_type": "code",
   "execution_count": 172,
   "metadata": {
    "ExecuteTime": {
     "end_time": "2018-04-05T06:06:48.658181Z",
     "start_time": "2018-04-05T06:06:48.650430Z"
    }
   },
   "outputs": [
    {
     "data": {
      "text/plain": [
       "Index(['State_name', 'County_name', 'Tract', 'URBANIZED_AREA_POP_CEN_2010',\n",
       "       'URBAN_CLUSTER_POP_CEN_2010', 'RURAL_POP_CEN_2010',\n",
       "       'Tot_Population_CEN_2010', 'Males_CEN_2010', 'Females_CEN_2010',\n",
       "       'Pop_under_5_CEN_2010', 'Pop_5_17_CEN_2010', 'Pop_18_24_CEN_2010',\n",
       "       'Pop_25_44_CEN_2010', 'Pop_45_64_CEN_2010', 'Pop_65plus_CEN_2010',\n",
       "       'Hispanic_CEN_2010', 'NH_White_alone_CEN_2010', 'NH_Blk_alone_CEN_2010',\n",
       "       'NH_Blk_alone_ACS_09_13', 'NH_AIAN_alone_CEN_2010',\n",
       "       'NH_AIAN_alone_ACS_09_13', 'NH_Asian_alone_CEN_2010',\n",
       "       'NH_Asian_alone_ACS_09_13', 'NH_NHOPI_alone_CEN_2010',\n",
       "       'NH_NHOPI_alone_ACS_09_13', 'NH_SOR_alone_CEN_2010',\n",
       "       'NH_SOR_alone_ACS_09_13', 'Pop_5yrs_Over_ACS_09_13',\n",
       "       'Othr_Lang_ACS_09_13', 'Not_HS_Grad_ACS_09_13', 'College_ACS_09_13',\n",
       "       'Pov_Univ_ACS_09_13', 'Prs_Blw_Pov_Lev_ACS_09_13',\n",
       "       'One_Health_Ins_ACS_09_13', 'Two_Plus_Health_Ins_ACS_09_13',\n",
       "       'No_Health_Ins_ACS_09_13', 'Civ_labor_16plus_ACS_09_13',\n",
       "       'Civ_emp_16plus_ACS_09_13', 'Civ_unemp_16plus_ACS_09_13',\n",
       "       'Civ_labor_16_24_ACS_09_13', 'Civ_emp_16_24_ACS_09_13',\n",
       "       'Civ_unemp_16_24_ACS_09_13', 'Civ_labor_25_44_ACS_09_13',\n",
       "       'Civ_emp_25_44_ACS_09_13', 'Civ_unemp_25_44_ACS_09_13',\n",
       "       'Civ_labor_45_64_ACS_09_13', 'Civ_emp_45_64_ACS_09_13',\n",
       "       'Civ_unemp_45_64_ACS_09_13', 'Civ_labor_65plus_ACS_09_13',\n",
       "       'Civ_emp_65plus_ACS_09_13', 'Civ_unemp_65plus_ACS_09_13',\n",
       "       'Pop_1yr_Over_ACS_09_13', 'Diff_HU_1yr_Ago_ACS_09_13',\n",
       "       'Born_US_ACS_09_13', 'Born_foreign_ACS_09_13', 'US_Cit_Nat_ACS_09_13',\n",
       "       'NON_US_Cit_ACS_09_13', 'HHD_Moved_in_ACS_09_13',\n",
       "       'PUB_ASST_INC_ACS_09_13', 'Med_HHD_Inc_ACS_09_13',\n",
       "       'Aggregate_HH_INC_ACS_09_13', 'Med_House_value_ACS_09_13',\n",
       "       'Aggr_House_Value_ACS_09_13', 'avg_Tot_Prns_in_HHD_CEN_2010',\n",
       "       'avg_Tot_Prns_in_HHD_ACS_09_13', 'avg_Agg_HH_INC_ACS_09_13',\n",
       "       'avg_Agg_House_Value_ACS_09_13', 'has_superfund',\n",
       "       'pct_Not_HS_Grad_ACS_09_13', 'pct_Born_foreign_ACS_09_13',\n",
       "       'pct_Born_US_ACS_09_13', 'pct_PUB_ASST_INC_ACS_09_13',\n",
       "       'pct_TwoPHealth_Ins_ACS_09_13', 'pct_One_Health_Ins_ACS_09_13',\n",
       "       'pct_Prs_Blw_Pov_Lev_ACS_09_13', 'pct_College_ACS_09_13',\n",
       "       'pct_Not_HS_Grad_ACS_09_13', 'pct_Males_CEN_2010',\n",
       "       'pct_Females_CEN_2010', 'pct_Pop_Under_5_CEN_2010',\n",
       "       'pct_Pop_5_17_CEN_2010', 'pct_Pop_18_24_CEN_2010',\n",
       "       'pct_Pop_25_44_CEN_2010', 'pct_Pop_45_64_CEN_2010',\n",
       "       'pct_Pop_65plus_CEN_2010', 'pct_No_Health_Ins_ACS_09_13',\n",
       "       'pct_Hispanic_CEN_2010', 'pct_NH_White_alone_CEN_2010',\n",
       "       'pct_NH_Blk_alone_CEN_2010', 'pct_NH_Asian_alone_CEN_2010',\n",
       "       'pct_NH_AIAN_alone_CEN_2010', 'pct_NH_NHOPI_alone_CEN_2010',\n",
       "       'pct_NH_SOR_alone_CEN_2010'],\n",
       "      dtype='object')"
      ]
     },
     "execution_count": 172,
     "metadata": {},
     "output_type": "execute_result"
    }
   ],
   "source": [
    "tract.columns #these are the features that I want. Let's go deeper!"
   ]
  },
  {
   "cell_type": "code",
   "execution_count": 173,
   "metadata": {
    "ExecuteTime": {
     "end_time": "2018-04-05T06:07:07.207458Z",
     "start_time": "2018-04-05T06:07:07.170012Z"
    },
    "collapsed": true
   },
   "outputs": [],
   "source": [
    "tract = tract.drop(['URBANIZED_AREA_POP_CEN_2010',\n",
    "       'URBAN_CLUSTER_POP_CEN_2010', 'RURAL_POP_CEN_2010',\n",
    "       'Tot_Population_CEN_2010', 'Males_CEN_2010', 'Females_CEN_2010',\n",
    "       'Pop_under_5_CEN_2010', 'Pop_5_17_CEN_2010', 'Pop_18_24_CEN_2010',\n",
    "       'Pop_25_44_CEN_2010', 'Pop_45_64_CEN_2010', 'Pop_65plus_CEN_2010',\n",
    "       'US_Cit_Nat_ACS_09_13',\n",
    "       'NON_US_Cit_ACS_09_13', 'HHD_Moved_in_ACS_09_13', 'Othr_Lang_ACS_09_13','Civ_labor_16plus_ACS_09_13',\n",
    "       'Civ_emp_16plus_ACS_09_13', 'Civ_unemp_16plus_ACS_09_13', 'Pop_1yr_Over_ACS_09_13', 'Diff_HU_1yr_Ago_ACS_09_13'\n",
    "                   ],axis=1)"
   ]
  },
  {
   "cell_type": "code",
   "execution_count": 174,
   "metadata": {
    "ExecuteTime": {
     "end_time": "2018-04-05T06:07:08.069373Z",
     "start_time": "2018-04-05T06:07:08.050468Z"
    },
    "collapsed": true
   },
   "outputs": [],
   "source": [
    "tract = tract.drop(['Pop_5yrs_Over_ACS_09_13',\n",
    "       'Not_HS_Grad_ACS_09_13', 'College_ACS_09_13', 'Pov_Univ_ACS_09_13',\n",
    "       'Prs_Blw_Pov_Lev_ACS_09_13', 'One_Health_Ins_ACS_09_13',\n",
    "       'Two_Plus_Health_Ins_ACS_09_13', 'No_Health_Ins_ACS_09_13'],axis=1)"
   ]
  },
  {
   "cell_type": "code",
   "execution_count": 175,
   "metadata": {
    "ExecuteTime": {
     "end_time": "2018-04-05T06:07:08.458328Z",
     "start_time": "2018-04-05T06:07:08.452338Z"
    }
   },
   "outputs": [
    {
     "data": {
      "text/plain": [
       "(74021, 64)"
      ]
     },
     "execution_count": 175,
     "metadata": {},
     "output_type": "execute_result"
    }
   ],
   "source": [
    "tract.shape"
   ]
  },
  {
   "cell_type": "code",
   "execution_count": 176,
   "metadata": {
    "ExecuteTime": {
     "end_time": "2018-04-05T06:07:08.674704Z",
     "start_time": "2018-04-05T06:07:08.668800Z"
    }
   },
   "outputs": [
    {
     "data": {
      "text/plain": [
       "Index(['State_name', 'County_name', 'Tract', 'Hispanic_CEN_2010',\n",
       "       'NH_White_alone_CEN_2010', 'NH_Blk_alone_CEN_2010',\n",
       "       'NH_Blk_alone_ACS_09_13', 'NH_AIAN_alone_CEN_2010',\n",
       "       'NH_AIAN_alone_ACS_09_13', 'NH_Asian_alone_CEN_2010',\n",
       "       'NH_Asian_alone_ACS_09_13', 'NH_NHOPI_alone_CEN_2010',\n",
       "       'NH_NHOPI_alone_ACS_09_13', 'NH_SOR_alone_CEN_2010',\n",
       "       'NH_SOR_alone_ACS_09_13', 'Civ_labor_16_24_ACS_09_13',\n",
       "       'Civ_emp_16_24_ACS_09_13', 'Civ_unemp_16_24_ACS_09_13',\n",
       "       'Civ_labor_25_44_ACS_09_13', 'Civ_emp_25_44_ACS_09_13',\n",
       "       'Civ_unemp_25_44_ACS_09_13', 'Civ_labor_45_64_ACS_09_13',\n",
       "       'Civ_emp_45_64_ACS_09_13', 'Civ_unemp_45_64_ACS_09_13',\n",
       "       'Civ_labor_65plus_ACS_09_13', 'Civ_emp_65plus_ACS_09_13',\n",
       "       'Civ_unemp_65plus_ACS_09_13', 'Born_US_ACS_09_13',\n",
       "       'Born_foreign_ACS_09_13', 'PUB_ASST_INC_ACS_09_13',\n",
       "       'Med_HHD_Inc_ACS_09_13', 'Aggregate_HH_INC_ACS_09_13',\n",
       "       'Med_House_value_ACS_09_13', 'Aggr_House_Value_ACS_09_13',\n",
       "       'avg_Tot_Prns_in_HHD_CEN_2010', 'avg_Tot_Prns_in_HHD_ACS_09_13',\n",
       "       'avg_Agg_HH_INC_ACS_09_13', 'avg_Agg_House_Value_ACS_09_13',\n",
       "       'has_superfund', 'pct_Not_HS_Grad_ACS_09_13',\n",
       "       'pct_Born_foreign_ACS_09_13', 'pct_Born_US_ACS_09_13',\n",
       "       'pct_PUB_ASST_INC_ACS_09_13', 'pct_TwoPHealth_Ins_ACS_09_13',\n",
       "       'pct_One_Health_Ins_ACS_09_13', 'pct_Prs_Blw_Pov_Lev_ACS_09_13',\n",
       "       'pct_College_ACS_09_13', 'pct_Not_HS_Grad_ACS_09_13',\n",
       "       'pct_Males_CEN_2010', 'pct_Females_CEN_2010',\n",
       "       'pct_Pop_Under_5_CEN_2010', 'pct_Pop_5_17_CEN_2010',\n",
       "       'pct_Pop_18_24_CEN_2010', 'pct_Pop_25_44_CEN_2010',\n",
       "       'pct_Pop_45_64_CEN_2010', 'pct_Pop_65plus_CEN_2010',\n",
       "       'pct_No_Health_Ins_ACS_09_13', 'pct_Hispanic_CEN_2010',\n",
       "       'pct_NH_White_alone_CEN_2010', 'pct_NH_Blk_alone_CEN_2010',\n",
       "       'pct_NH_Asian_alone_CEN_2010', 'pct_NH_AIAN_alone_CEN_2010',\n",
       "       'pct_NH_NHOPI_alone_CEN_2010', 'pct_NH_SOR_alone_CEN_2010'],\n",
       "      dtype='object')"
      ]
     },
     "execution_count": 176,
     "metadata": {},
     "output_type": "execute_result"
    }
   ],
   "source": [
    "tract.columns"
   ]
  },
  {
   "cell_type": "code",
   "execution_count": 177,
   "metadata": {
    "ExecuteTime": {
     "end_time": "2018-04-05T06:07:12.621344Z",
     "start_time": "2018-04-05T06:07:08.843421Z"
    },
    "collapsed": true
   },
   "outputs": [],
   "source": [
    "tract.to_csv('Feature Elimination 1.csv', index=False)"
   ]
  },
  {
   "cell_type": "markdown",
   "metadata": {},
   "source": [
    "# Let's clean the data and then let's explore this data!"
   ]
  }
 ],
 "metadata": {
  "kernelspec": {
   "display_name": "Python [default]",
   "language": "python",
   "name": "python3"
  },
  "language_info": {
   "codemirror_mode": {
    "name": "ipython",
    "version": 3
   },
   "file_extension": ".py",
   "mimetype": "text/x-python",
   "name": "python",
   "nbconvert_exporter": "python",
   "pygments_lexer": "ipython3",
   "version": "3.6.4"
  },
  "latex_envs": {
   "LaTeX_envs_menu_present": true,
   "autoclose": false,
   "autocomplete": true,
   "bibliofile": "biblio.bib",
   "cite_by": "apalike",
   "current_citInitial": 1,
   "eqLabelWithNumbers": true,
   "eqNumInitial": 1,
   "hotkeys": {
    "equation": "Ctrl-E",
    "itemize": "Ctrl-I"
   },
   "labels_anchors": false,
   "latex_user_defs": false,
   "report_style_numbering": false,
   "user_envs_cfg": false
  },
  "toc": {
   "nav_menu": {},
   "number_sections": true,
   "sideBar": true,
   "skip_h1_title": false,
   "title_cell": "Table of Contents",
   "title_sidebar": "Contents",
   "toc_cell": false,
   "toc_position": {},
   "toc_section_display": true,
   "toc_window_display": false
  }
 },
 "nbformat": 4,
 "nbformat_minor": 2
}
