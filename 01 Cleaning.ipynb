{
 "cells": [
  {
   "cell_type": "markdown",
   "metadata": {},
   "source": [
    "### Cleaning, EDA"
   ]
  },
  {
   "cell_type": "code",
   "execution_count": 92,
   "metadata": {
    "ExecuteTime": {
     "end_time": "2018-04-05T06:07:16.542199Z",
     "start_time": "2018-04-05T06:07:16.512631Z"
    },
    "collapsed": true
   },
   "outputs": [],
   "source": [
    "import numpy as np\n",
    "import scipy.stats as stats\n",
    "import seaborn as sns\n",
    "import matplotlib.pyplot as plt\n",
    "import pandas as pd\n",
    "\n",
    "plt.style.use('fivethirtyeight')\n",
    "sns.set_style('whitegrid')\n",
    "\n",
    "%matplotlib inline"
   ]
  },
  {
   "cell_type": "code",
   "execution_count": 93,
   "metadata": {
    "ExecuteTime": {
     "end_time": "2018-04-05T06:07:17.940187Z",
     "start_time": "2018-04-05T06:07:16.719093Z"
    },
    "collapsed": true
   },
   "outputs": [],
   "source": [
    "df = pd.read_csv('Feature Elimination 1.csv')"
   ]
  },
  {
   "cell_type": "code",
   "execution_count": 94,
   "metadata": {
    "ExecuteTime": {
     "end_time": "2018-04-05T06:07:17.986795Z",
     "start_time": "2018-04-05T06:07:17.945380Z"
    }
   },
   "outputs": [
    {
     "data": {
      "text/html": [
       "<div>\n",
       "<style scoped>\n",
       "    .dataframe tbody tr th:only-of-type {\n",
       "        vertical-align: middle;\n",
       "    }\n",
       "\n",
       "    .dataframe tbody tr th {\n",
       "        vertical-align: top;\n",
       "    }\n",
       "\n",
       "    .dataframe thead th {\n",
       "        text-align: right;\n",
       "    }\n",
       "</style>\n",
       "<table border=\"1\" class=\"dataframe\">\n",
       "  <thead>\n",
       "    <tr style=\"text-align: right;\">\n",
       "      <th></th>\n",
       "      <th>State_name</th>\n",
       "      <th>County_name</th>\n",
       "      <th>Tract</th>\n",
       "      <th>Hispanic_CEN_2010</th>\n",
       "      <th>NH_White_alone_CEN_2010</th>\n",
       "      <th>NH_Blk_alone_CEN_2010</th>\n",
       "      <th>NH_Blk_alone_ACS_09_13</th>\n",
       "      <th>NH_AIAN_alone_CEN_2010</th>\n",
       "      <th>NH_AIAN_alone_ACS_09_13</th>\n",
       "      <th>NH_Asian_alone_CEN_2010</th>\n",
       "      <th>...</th>\n",
       "      <th>pct_Pop_45_64_CEN_2010</th>\n",
       "      <th>pct_Pop_65plus_CEN_2010</th>\n",
       "      <th>pct_No_Health_Ins_ACS_09_13</th>\n",
       "      <th>pct_Hispanic_CEN_2010</th>\n",
       "      <th>pct_NH_White_alone_CEN_2010</th>\n",
       "      <th>pct_NH_Blk_alone_CEN_2010</th>\n",
       "      <th>pct_NH_Asian_alone_CEN_2010</th>\n",
       "      <th>pct_NH_AIAN_alone_CEN_2010</th>\n",
       "      <th>pct_NH_NHOPI_alone_CEN_2010</th>\n",
       "      <th>pct_NH_SOR_alone_CEN_2010</th>\n",
       "    </tr>\n",
       "  </thead>\n",
       "  <tbody>\n",
       "    <tr>\n",
       "      <th>0</th>\n",
       "      <td>Alabama</td>\n",
       "      <td>Autauga County</td>\n",
       "      <td>20100</td>\n",
       "      <td>44.0</td>\n",
       "      <td>1601.0</td>\n",
       "      <td>217.0</td>\n",
       "      <td>148.0</td>\n",
       "      <td>13.0</td>\n",
       "      <td>10.0</td>\n",
       "      <td>14.0</td>\n",
       "      <td>...</td>\n",
       "      <td>27.62</td>\n",
       "      <td>11.56</td>\n",
       "      <td>11.061947</td>\n",
       "      <td>2.30</td>\n",
       "      <td>83.73</td>\n",
       "      <td>11.35</td>\n",
       "      <td>0.73</td>\n",
       "      <td>0.68</td>\n",
       "      <td>0.00</td>\n",
       "      <td>0.05</td>\n",
       "    </tr>\n",
       "    <tr>\n",
       "      <th>1</th>\n",
       "      <td>Alabama</td>\n",
       "      <td>Autauga County</td>\n",
       "      <td>20200</td>\n",
       "      <td>75.0</td>\n",
       "      <td>844.0</td>\n",
       "      <td>1214.0</td>\n",
       "      <td>1416.0</td>\n",
       "      <td>5.0</td>\n",
       "      <td>0.0</td>\n",
       "      <td>5.0</td>\n",
       "      <td>...</td>\n",
       "      <td>24.06</td>\n",
       "      <td>9.86</td>\n",
       "      <td>11.847134</td>\n",
       "      <td>3.46</td>\n",
       "      <td>38.89</td>\n",
       "      <td>55.94</td>\n",
       "      <td>0.23</td>\n",
       "      <td>0.23</td>\n",
       "      <td>0.00</td>\n",
       "      <td>0.14</td>\n",
       "    </tr>\n",
       "    <tr>\n",
       "      <th>2</th>\n",
       "      <td>Alabama</td>\n",
       "      <td>Autauga County</td>\n",
       "      <td>20300</td>\n",
       "      <td>87.0</td>\n",
       "      <td>2538.0</td>\n",
       "      <td>647.0</td>\n",
       "      <td>559.0</td>\n",
       "      <td>9.0</td>\n",
       "      <td>15.0</td>\n",
       "      <td>17.0</td>\n",
       "      <td>...</td>\n",
       "      <td>24.67</td>\n",
       "      <td>13.02</td>\n",
       "      <td>12.136081</td>\n",
       "      <td>2.58</td>\n",
       "      <td>75.24</td>\n",
       "      <td>19.18</td>\n",
       "      <td>0.50</td>\n",
       "      <td>0.27</td>\n",
       "      <td>0.15</td>\n",
       "      <td>0.21</td>\n",
       "    </tr>\n",
       "    <tr>\n",
       "      <th>3</th>\n",
       "      <td>Alabama</td>\n",
       "      <td>Autauga County</td>\n",
       "      <td>20400</td>\n",
       "      <td>85.0</td>\n",
       "      <td>4030.0</td>\n",
       "      <td>191.0</td>\n",
       "      <td>119.0</td>\n",
       "      <td>11.0</td>\n",
       "      <td>22.0</td>\n",
       "      <td>18.0</td>\n",
       "      <td>...</td>\n",
       "      <td>25.56</td>\n",
       "      <td>20.61</td>\n",
       "      <td>14.217579</td>\n",
       "      <td>1.94</td>\n",
       "      <td>91.88</td>\n",
       "      <td>4.35</td>\n",
       "      <td>0.41</td>\n",
       "      <td>0.25</td>\n",
       "      <td>0.07</td>\n",
       "      <td>0.02</td>\n",
       "    </tr>\n",
       "    <tr>\n",
       "      <th>4</th>\n",
       "      <td>Alabama</td>\n",
       "      <td>Autauga County</td>\n",
       "      <td>20500</td>\n",
       "      <td>355.0</td>\n",
       "      <td>8438.0</td>\n",
       "      <td>1418.0</td>\n",
       "      <td>1766.0</td>\n",
       "      <td>44.0</td>\n",
       "      <td>39.0</td>\n",
       "      <td>295.0</td>\n",
       "      <td>...</td>\n",
       "      <td>22.51</td>\n",
       "      <td>10.46</td>\n",
       "      <td>7.354161</td>\n",
       "      <td>3.30</td>\n",
       "      <td>78.38</td>\n",
       "      <td>13.17</td>\n",
       "      <td>2.74</td>\n",
       "      <td>0.41</td>\n",
       "      <td>0.06</td>\n",
       "      <td>0.11</td>\n",
       "    </tr>\n",
       "  </tbody>\n",
       "</table>\n",
       "<p>5 rows × 64 columns</p>\n",
       "</div>"
      ],
      "text/plain": [
       "  State_name     County_name  Tract  Hispanic_CEN_2010  \\\n",
       "0    Alabama  Autauga County  20100               44.0   \n",
       "1    Alabama  Autauga County  20200               75.0   \n",
       "2    Alabama  Autauga County  20300               87.0   \n",
       "3    Alabama  Autauga County  20400               85.0   \n",
       "4    Alabama  Autauga County  20500              355.0   \n",
       "\n",
       "   NH_White_alone_CEN_2010  NH_Blk_alone_CEN_2010  NH_Blk_alone_ACS_09_13  \\\n",
       "0                   1601.0                  217.0                   148.0   \n",
       "1                    844.0                 1214.0                  1416.0   \n",
       "2                   2538.0                  647.0                   559.0   \n",
       "3                   4030.0                  191.0                   119.0   \n",
       "4                   8438.0                 1418.0                  1766.0   \n",
       "\n",
       "   NH_AIAN_alone_CEN_2010  NH_AIAN_alone_ACS_09_13  NH_Asian_alone_CEN_2010  \\\n",
       "0                    13.0                     10.0                     14.0   \n",
       "1                     5.0                      0.0                      5.0   \n",
       "2                     9.0                     15.0                     17.0   \n",
       "3                    11.0                     22.0                     18.0   \n",
       "4                    44.0                     39.0                    295.0   \n",
       "\n",
       "             ...              pct_Pop_45_64_CEN_2010  pct_Pop_65plus_CEN_2010  \\\n",
       "0            ...                               27.62                    11.56   \n",
       "1            ...                               24.06                     9.86   \n",
       "2            ...                               24.67                    13.02   \n",
       "3            ...                               25.56                    20.61   \n",
       "4            ...                               22.51                    10.46   \n",
       "\n",
       "   pct_No_Health_Ins_ACS_09_13  pct_Hispanic_CEN_2010  \\\n",
       "0                    11.061947                   2.30   \n",
       "1                    11.847134                   3.46   \n",
       "2                    12.136081                   2.58   \n",
       "3                    14.217579                   1.94   \n",
       "4                     7.354161                   3.30   \n",
       "\n",
       "   pct_NH_White_alone_CEN_2010  pct_NH_Blk_alone_CEN_2010  \\\n",
       "0                        83.73                      11.35   \n",
       "1                        38.89                      55.94   \n",
       "2                        75.24                      19.18   \n",
       "3                        91.88                       4.35   \n",
       "4                        78.38                      13.17   \n",
       "\n",
       "   pct_NH_Asian_alone_CEN_2010  pct_NH_AIAN_alone_CEN_2010  \\\n",
       "0                         0.73                        0.68   \n",
       "1                         0.23                        0.23   \n",
       "2                         0.50                        0.27   \n",
       "3                         0.41                        0.25   \n",
       "4                         2.74                        0.41   \n",
       "\n",
       "   pct_NH_NHOPI_alone_CEN_2010  pct_NH_SOR_alone_CEN_2010  \n",
       "0                         0.00                       0.05  \n",
       "1                         0.00                       0.14  \n",
       "2                         0.15                       0.21  \n",
       "3                         0.07                       0.02  \n",
       "4                         0.06                       0.11  \n",
       "\n",
       "[5 rows x 64 columns]"
      ]
     },
     "execution_count": 94,
     "metadata": {},
     "output_type": "execute_result"
    }
   ],
   "source": [
    "df.head()"
   ]
  },
  {
   "cell_type": "code",
   "execution_count": 95,
   "metadata": {
    "ExecuteTime": {
     "end_time": "2018-04-05T06:07:17.995391Z",
     "start_time": "2018-04-05T06:07:17.989158Z"
    }
   },
   "outputs": [
    {
     "data": {
      "text/plain": [
       "(74021, 64)"
      ]
     },
     "execution_count": 95,
     "metadata": {},
     "output_type": "execute_result"
    }
   ],
   "source": [
    "df.shape"
   ]
  },
  {
   "cell_type": "code",
   "execution_count": 96,
   "metadata": {
    "ExecuteTime": {
     "end_time": "2018-04-05T06:07:18.007543Z",
     "start_time": "2018-04-05T06:07:17.999033Z"
    }
   },
   "outputs": [
    {
     "data": {
      "text/plain": [
       "State_name                        object\n",
       "County_name                       object\n",
       "Tract                              int64\n",
       "Hispanic_CEN_2010                float64\n",
       "NH_White_alone_CEN_2010          float64\n",
       "NH_Blk_alone_CEN_2010            float64\n",
       "NH_Blk_alone_ACS_09_13           float64\n",
       "NH_AIAN_alone_CEN_2010           float64\n",
       "NH_AIAN_alone_ACS_09_13          float64\n",
       "NH_Asian_alone_CEN_2010          float64\n",
       "NH_Asian_alone_ACS_09_13         float64\n",
       "NH_NHOPI_alone_CEN_2010          float64\n",
       "NH_NHOPI_alone_ACS_09_13         float64\n",
       "NH_SOR_alone_CEN_2010            float64\n",
       "NH_SOR_alone_ACS_09_13           float64\n",
       "Civ_labor_16_24_ACS_09_13        float64\n",
       "Civ_emp_16_24_ACS_09_13          float64\n",
       "Civ_unemp_16_24_ACS_09_13        float64\n",
       "Civ_labor_25_44_ACS_09_13        float64\n",
       "Civ_emp_25_44_ACS_09_13          float64\n",
       "Civ_unemp_25_44_ACS_09_13        float64\n",
       "Civ_labor_45_64_ACS_09_13        float64\n",
       "Civ_emp_45_64_ACS_09_13          float64\n",
       "Civ_unemp_45_64_ACS_09_13        float64\n",
       "Civ_labor_65plus_ACS_09_13       float64\n",
       "Civ_emp_65plus_ACS_09_13         float64\n",
       "Civ_unemp_65plus_ACS_09_13       float64\n",
       "Born_US_ACS_09_13                float64\n",
       "Born_foreign_ACS_09_13           float64\n",
       "PUB_ASST_INC_ACS_09_13           float64\n",
       "                                  ...   \n",
       "avg_Tot_Prns_in_HHD_CEN_2010     float64\n",
       "avg_Tot_Prns_in_HHD_ACS_09_13    float64\n",
       "avg_Agg_HH_INC_ACS_09_13          object\n",
       "avg_Agg_House_Value_ACS_09_13     object\n",
       "has_superfund                      int64\n",
       "pct_Not_HS_Grad_ACS_09_13        float64\n",
       "pct_Born_foreign_ACS_09_13       float64\n",
       "pct_Born_US_ACS_09_13            float64\n",
       "pct_PUB_ASST_INC_ACS_09_13       float64\n",
       "pct_TwoPHealth_Ins_ACS_09_13     float64\n",
       "pct_One_Health_Ins_ACS_09_13     float64\n",
       "pct_Prs_Blw_Pov_Lev_ACS_09_13    float64\n",
       "pct_College_ACS_09_13            float64\n",
       "pct_Not_HS_Grad_ACS_09_13.1      float64\n",
       "pct_Males_CEN_2010               float64\n",
       "pct_Females_CEN_2010             float64\n",
       "pct_Pop_Under_5_CEN_2010         float64\n",
       "pct_Pop_5_17_CEN_2010            float64\n",
       "pct_Pop_18_24_CEN_2010           float64\n",
       "pct_Pop_25_44_CEN_2010           float64\n",
       "pct_Pop_45_64_CEN_2010           float64\n",
       "pct_Pop_65plus_CEN_2010          float64\n",
       "pct_No_Health_Ins_ACS_09_13      float64\n",
       "pct_Hispanic_CEN_2010            float64\n",
       "pct_NH_White_alone_CEN_2010      float64\n",
       "pct_NH_Blk_alone_CEN_2010        float64\n",
       "pct_NH_Asian_alone_CEN_2010      float64\n",
       "pct_NH_AIAN_alone_CEN_2010       float64\n",
       "pct_NH_NHOPI_alone_CEN_2010      float64\n",
       "pct_NH_SOR_alone_CEN_2010        float64\n",
       "Length: 64, dtype: object"
      ]
     },
     "execution_count": 96,
     "metadata": {},
     "output_type": "execute_result"
    }
   ],
   "source": [
    "df.dtypes"
   ]
  },
  {
   "cell_type": "markdown",
   "metadata": {},
   "source": [
    "Looks like we have have some object data types. Probably because of commas, dollar signs, whitespaces, etc. Let's clean them up and convert them into float data types."
   ]
  },
  {
   "cell_type": "markdown",
   "metadata": {},
   "source": [
    "We have some null values in this data frame. We could fill them in, but let's see what percentage of the data frame has null values."
   ]
  },
  {
   "cell_type": "code",
   "execution_count": 97,
   "metadata": {
    "ExecuteTime": {
     "end_time": "2018-04-05T06:07:18.162343Z",
     "start_time": "2018-04-05T06:07:18.011466Z"
    }
   },
   "outputs": [
    {
     "data": {
      "text/plain": [
       "State_name                          0\n",
       "County_name                         0\n",
       "Tract                               0\n",
       "Hispanic_CEN_2010                  19\n",
       "NH_White_alone_CEN_2010            19\n",
       "NH_Blk_alone_CEN_2010              19\n",
       "NH_Blk_alone_ACS_09_13             20\n",
       "NH_AIAN_alone_CEN_2010             19\n",
       "NH_AIAN_alone_ACS_09_13            20\n",
       "NH_Asian_alone_CEN_2010            19\n",
       "NH_Asian_alone_ACS_09_13           20\n",
       "NH_NHOPI_alone_CEN_2010            19\n",
       "NH_NHOPI_alone_ACS_09_13           20\n",
       "NH_SOR_alone_CEN_2010              19\n",
       "NH_SOR_alone_ACS_09_13             20\n",
       "Civ_labor_16_24_ACS_09_13          20\n",
       "Civ_emp_16_24_ACS_09_13            20\n",
       "Civ_unemp_16_24_ACS_09_13          20\n",
       "Civ_labor_25_44_ACS_09_13          20\n",
       "Civ_emp_25_44_ACS_09_13            20\n",
       "Civ_unemp_25_44_ACS_09_13          20\n",
       "Civ_labor_45_64_ACS_09_13          20\n",
       "Civ_emp_45_64_ACS_09_13            20\n",
       "Civ_unemp_45_64_ACS_09_13          20\n",
       "Civ_labor_65plus_ACS_09_13         20\n",
       "Civ_emp_65plus_ACS_09_13           20\n",
       "Civ_unemp_65plus_ACS_09_13         20\n",
       "Born_US_ACS_09_13                  20\n",
       "Born_foreign_ACS_09_13             20\n",
       "PUB_ASST_INC_ACS_09_13             20\n",
       "                                 ... \n",
       "avg_Tot_Prns_in_HHD_CEN_2010      701\n",
       "avg_Tot_Prns_in_HHD_ACS_09_13     897\n",
       "avg_Agg_HH_INC_ACS_09_13         1020\n",
       "avg_Agg_House_Value_ACS_09_13    2900\n",
       "has_superfund                       0\n",
       "pct_Not_HS_Grad_ACS_09_13        1602\n",
       "pct_Born_foreign_ACS_09_13        702\n",
       "pct_Born_US_ACS_09_13             702\n",
       "pct_PUB_ASST_INC_ACS_09_13        897\n",
       "pct_TwoPHealth_Ins_ACS_09_13      702\n",
       "pct_One_Health_Ins_ACS_09_13      702\n",
       "pct_Prs_Blw_Pov_Lev_ACS_09_13     842\n",
       "pct_College_ACS_09_13             715\n",
       "pct_Not_HS_Grad_ACS_09_13.1      1602\n",
       "pct_Males_CEN_2010                595\n",
       "pct_Females_CEN_2010              595\n",
       "pct_Pop_Under_5_CEN_2010          595\n",
       "pct_Pop_5_17_CEN_2010             595\n",
       "pct_Pop_18_24_CEN_2010            595\n",
       "pct_Pop_25_44_CEN_2010            595\n",
       "pct_Pop_45_64_CEN_2010            595\n",
       "pct_Pop_65plus_CEN_2010           595\n",
       "pct_No_Health_Ins_ACS_09_13       702\n",
       "pct_Hispanic_CEN_2010             595\n",
       "pct_NH_White_alone_CEN_2010       595\n",
       "pct_NH_Blk_alone_CEN_2010         595\n",
       "pct_NH_Asian_alone_CEN_2010       595\n",
       "pct_NH_AIAN_alone_CEN_2010        595\n",
       "pct_NH_NHOPI_alone_CEN_2010       595\n",
       "pct_NH_SOR_alone_CEN_2010         595\n",
       "Length: 64, dtype: int64"
      ]
     },
     "execution_count": 97,
     "metadata": {},
     "output_type": "execute_result"
    }
   ],
   "source": [
    "df.isnull().sum()"
   ]
  },
  {
   "cell_type": "markdown",
   "metadata": {},
   "source": [
    "Okay dropping the null values isn't too bad. Lets' go ahead and drop them with at most 4% of the data frame."
   ]
  },
  {
   "cell_type": "code",
   "execution_count": 98,
   "metadata": {
    "ExecuteTime": {
     "end_time": "2018-04-05T06:07:18.290792Z",
     "start_time": "2018-04-05T06:07:18.167680Z"
    }
   },
   "outputs": [
    {
     "data": {
      "text/plain": [
       "State_name                       0.000000\n",
       "County_name                      0.000000\n",
       "Tract                            0.000000\n",
       "Hispanic_CEN_2010                0.000257\n",
       "NH_White_alone_CEN_2010          0.000257\n",
       "NH_Blk_alone_CEN_2010            0.000257\n",
       "NH_Blk_alone_ACS_09_13           0.000270\n",
       "NH_AIAN_alone_CEN_2010           0.000257\n",
       "NH_AIAN_alone_ACS_09_13          0.000270\n",
       "NH_Asian_alone_CEN_2010          0.000257\n",
       "NH_Asian_alone_ACS_09_13         0.000270\n",
       "NH_NHOPI_alone_CEN_2010          0.000257\n",
       "NH_NHOPI_alone_ACS_09_13         0.000270\n",
       "NH_SOR_alone_CEN_2010            0.000257\n",
       "NH_SOR_alone_ACS_09_13           0.000270\n",
       "Civ_labor_16_24_ACS_09_13        0.000270\n",
       "Civ_emp_16_24_ACS_09_13          0.000270\n",
       "Civ_unemp_16_24_ACS_09_13        0.000270\n",
       "Civ_labor_25_44_ACS_09_13        0.000270\n",
       "Civ_emp_25_44_ACS_09_13          0.000270\n",
       "Civ_unemp_25_44_ACS_09_13        0.000270\n",
       "Civ_labor_45_64_ACS_09_13        0.000270\n",
       "Civ_emp_45_64_ACS_09_13          0.000270\n",
       "Civ_unemp_45_64_ACS_09_13        0.000270\n",
       "Civ_labor_65plus_ACS_09_13       0.000270\n",
       "Civ_emp_65plus_ACS_09_13         0.000270\n",
       "Civ_unemp_65plus_ACS_09_13       0.000270\n",
       "Born_US_ACS_09_13                0.000270\n",
       "Born_foreign_ACS_09_13           0.000270\n",
       "PUB_ASST_INC_ACS_09_13           0.000270\n",
       "                                   ...   \n",
       "avg_Tot_Prns_in_HHD_CEN_2010     0.009470\n",
       "avg_Tot_Prns_in_HHD_ACS_09_13    0.012118\n",
       "avg_Agg_HH_INC_ACS_09_13         0.013780\n",
       "avg_Agg_House_Value_ACS_09_13    0.039178\n",
       "has_superfund                    0.000000\n",
       "pct_Not_HS_Grad_ACS_09_13        0.021643\n",
       "pct_Born_foreign_ACS_09_13       0.009484\n",
       "pct_Born_US_ACS_09_13            0.009484\n",
       "pct_PUB_ASST_INC_ACS_09_13       0.012118\n",
       "pct_TwoPHealth_Ins_ACS_09_13     0.009484\n",
       "pct_One_Health_Ins_ACS_09_13     0.009484\n",
       "pct_Prs_Blw_Pov_Lev_ACS_09_13    0.011375\n",
       "pct_College_ACS_09_13            0.009659\n",
       "pct_Not_HS_Grad_ACS_09_13.1      0.021643\n",
       "pct_Males_CEN_2010               0.008038\n",
       "pct_Females_CEN_2010             0.008038\n",
       "pct_Pop_Under_5_CEN_2010         0.008038\n",
       "pct_Pop_5_17_CEN_2010            0.008038\n",
       "pct_Pop_18_24_CEN_2010           0.008038\n",
       "pct_Pop_25_44_CEN_2010           0.008038\n",
       "pct_Pop_45_64_CEN_2010           0.008038\n",
       "pct_Pop_65plus_CEN_2010          0.008038\n",
       "pct_No_Health_Ins_ACS_09_13      0.009484\n",
       "pct_Hispanic_CEN_2010            0.008038\n",
       "pct_NH_White_alone_CEN_2010      0.008038\n",
       "pct_NH_Blk_alone_CEN_2010        0.008038\n",
       "pct_NH_Asian_alone_CEN_2010      0.008038\n",
       "pct_NH_AIAN_alone_CEN_2010       0.008038\n",
       "pct_NH_NHOPI_alone_CEN_2010      0.008038\n",
       "pct_NH_SOR_alone_CEN_2010        0.008038\n",
       "Length: 64, dtype: float64"
      ]
     },
     "execution_count": 98,
     "metadata": {},
     "output_type": "execute_result"
    }
   ],
   "source": [
    "df.isnull().sum() / df.shape[0] "
   ]
  },
  {
   "cell_type": "code",
   "execution_count": 99,
   "metadata": {
    "ExecuteTime": {
     "end_time": "2018-04-05T06:07:18.447387Z",
     "start_time": "2018-04-05T06:07:18.293850Z"
    }
   },
   "outputs": [
    {
     "data": {
      "text/plain": [
       "0.9486361978357493"
      ]
     },
     "execution_count": 99,
     "metadata": {},
     "output_type": "execute_result"
    }
   ],
   "source": [
    "(df.dropna(axis=0, how='any').shape[0]) / df.shape[0]"
   ]
  },
  {
   "cell_type": "code",
   "execution_count": 100,
   "metadata": {
    "ExecuteTime": {
     "end_time": "2018-04-05T06:07:18.566231Z",
     "start_time": "2018-04-05T06:07:18.449753Z"
    },
    "collapsed": true
   },
   "outputs": [],
   "source": [
    "df = df.dropna(how='any', axis=0)"
   ]
  },
  {
   "cell_type": "markdown",
   "metadata": {},
   "source": [
    "#### Let's try dropping the nulls to see how the models perform on a preliminary basis..."
   ]
  },
  {
   "cell_type": "code",
   "execution_count": 101,
   "metadata": {
    "ExecuteTime": {
     "end_time": "2018-04-05T06:07:19.022180Z",
     "start_time": "2018-04-05T06:07:18.755024Z"
    },
    "collapsed": true
   },
   "outputs": [],
   "source": [
    "df['Med_HHD_Inc_ACS_09_13'] = df['Med_HHD_Inc_ACS_09_13'].str.replace('$', '')\n",
    "df['Med_HHD_Inc_ACS_09_13'] = df['Med_HHD_Inc_ACS_09_13'].str.replace(',', '')"
   ]
  },
  {
   "cell_type": "code",
   "execution_count": 102,
   "metadata": {
    "ExecuteTime": {
     "end_time": "2018-04-05T06:07:19.045695Z",
     "start_time": "2018-04-05T06:07:19.025121Z"
    },
    "collapsed": true
   },
   "outputs": [],
   "source": [
    "df['Med_HHD_Inc_ACS_09_13'] = df['Med_HHD_Inc_ACS_09_13'].astype(float)"
   ]
  },
  {
   "cell_type": "code",
   "execution_count": 103,
   "metadata": {
    "ExecuteTime": {
     "end_time": "2018-04-05T06:07:19.231874Z",
     "start_time": "2018-04-05T06:07:19.117359Z"
    },
    "collapsed": true
   },
   "outputs": [],
   "source": [
    "df['Med_House_value_ACS_09_13'] = df['Med_House_value_ACS_09_13'].str.replace('$', '')\n",
    "df['Med_House_value_ACS_09_13'] = df['Med_House_value_ACS_09_13'].str.replace(',', '').astype(float)"
   ]
  },
  {
   "cell_type": "code",
   "execution_count": 104,
   "metadata": {
    "ExecuteTime": {
     "end_time": "2018-04-05T06:07:19.405001Z",
     "start_time": "2018-04-05T06:07:19.298673Z"
    },
    "collapsed": true
   },
   "outputs": [],
   "source": [
    "df['avg_Agg_HH_INC_ACS_09_13'] = df['avg_Agg_HH_INC_ACS_09_13'].str.replace('$', '')\n",
    "df['avg_Agg_HH_INC_ACS_09_13'] = df['avg_Agg_HH_INC_ACS_09_13'].str.replace(',', '').astype(float)"
   ]
  },
  {
   "cell_type": "code",
   "execution_count": 105,
   "metadata": {
    "ExecuteTime": {
     "end_time": "2018-04-05T06:07:19.562741Z",
     "start_time": "2018-04-05T06:07:19.459957Z"
    },
    "collapsed": true
   },
   "outputs": [],
   "source": [
    "df['avg_Agg_House_Value_ACS_09_13'] = df['avg_Agg_House_Value_ACS_09_13'].str.replace('$', '')\n",
    "df['avg_Agg_House_Value_ACS_09_13'] = df['avg_Agg_House_Value_ACS_09_13'].str.replace(',', '').astype(float)"
   ]
  },
  {
   "cell_type": "code",
   "execution_count": 106,
   "metadata": {
    "ExecuteTime": {
     "end_time": "2018-04-05T06:07:19.754618Z",
     "start_time": "2018-04-05T06:07:19.642632Z"
    },
    "collapsed": true
   },
   "outputs": [],
   "source": [
    "df['Aggr_House_Value_ACS_09_13'] = df['Aggr_House_Value_ACS_09_13'].str.replace('$', '')\n",
    "df['Aggr_House_Value_ACS_09_13'] = df['Aggr_House_Value_ACS_09_13'].str.replace(',', '').astype(float)"
   ]
  },
  {
   "cell_type": "code",
   "execution_count": 107,
   "metadata": {
    "ExecuteTime": {
     "end_time": "2018-04-05T06:07:19.914560Z",
     "start_time": "2018-04-05T06:07:19.818996Z"
    },
    "collapsed": true
   },
   "outputs": [],
   "source": [
    "df['Aggregate_HH_INC_ACS_09_13'] = df['Aggregate_HH_INC_ACS_09_13'].str.replace('$', '')\n",
    "df['Aggregate_HH_INC_ACS_09_13'] = df['Aggregate_HH_INC_ACS_09_13'].str.replace(',', '').astype(float)"
   ]
  },
  {
   "cell_type": "code",
   "execution_count": 108,
   "metadata": {
    "ExecuteTime": {
     "end_time": "2018-04-05T06:07:20.005628Z",
     "start_time": "2018-04-05T06:07:19.996872Z"
    }
   },
   "outputs": [
    {
     "data": {
      "text/plain": [
       "State_name                        object\n",
       "County_name                       object\n",
       "Tract                              int64\n",
       "Hispanic_CEN_2010                float64\n",
       "NH_White_alone_CEN_2010          float64\n",
       "NH_Blk_alone_CEN_2010            float64\n",
       "NH_Blk_alone_ACS_09_13           float64\n",
       "NH_AIAN_alone_CEN_2010           float64\n",
       "NH_AIAN_alone_ACS_09_13          float64\n",
       "NH_Asian_alone_CEN_2010          float64\n",
       "NH_Asian_alone_ACS_09_13         float64\n",
       "NH_NHOPI_alone_CEN_2010          float64\n",
       "NH_NHOPI_alone_ACS_09_13         float64\n",
       "NH_SOR_alone_CEN_2010            float64\n",
       "NH_SOR_alone_ACS_09_13           float64\n",
       "Civ_labor_16_24_ACS_09_13        float64\n",
       "Civ_emp_16_24_ACS_09_13          float64\n",
       "Civ_unemp_16_24_ACS_09_13        float64\n",
       "Civ_labor_25_44_ACS_09_13        float64\n",
       "Civ_emp_25_44_ACS_09_13          float64\n",
       "Civ_unemp_25_44_ACS_09_13        float64\n",
       "Civ_labor_45_64_ACS_09_13        float64\n",
       "Civ_emp_45_64_ACS_09_13          float64\n",
       "Civ_unemp_45_64_ACS_09_13        float64\n",
       "Civ_labor_65plus_ACS_09_13       float64\n",
       "Civ_emp_65plus_ACS_09_13         float64\n",
       "Civ_unemp_65plus_ACS_09_13       float64\n",
       "Born_US_ACS_09_13                float64\n",
       "Born_foreign_ACS_09_13           float64\n",
       "PUB_ASST_INC_ACS_09_13           float64\n",
       "                                  ...   \n",
       "avg_Tot_Prns_in_HHD_CEN_2010     float64\n",
       "avg_Tot_Prns_in_HHD_ACS_09_13    float64\n",
       "avg_Agg_HH_INC_ACS_09_13         float64\n",
       "avg_Agg_House_Value_ACS_09_13    float64\n",
       "has_superfund                      int64\n",
       "pct_Not_HS_Grad_ACS_09_13        float64\n",
       "pct_Born_foreign_ACS_09_13       float64\n",
       "pct_Born_US_ACS_09_13            float64\n",
       "pct_PUB_ASST_INC_ACS_09_13       float64\n",
       "pct_TwoPHealth_Ins_ACS_09_13     float64\n",
       "pct_One_Health_Ins_ACS_09_13     float64\n",
       "pct_Prs_Blw_Pov_Lev_ACS_09_13    float64\n",
       "pct_College_ACS_09_13            float64\n",
       "pct_Not_HS_Grad_ACS_09_13.1      float64\n",
       "pct_Males_CEN_2010               float64\n",
       "pct_Females_CEN_2010             float64\n",
       "pct_Pop_Under_5_CEN_2010         float64\n",
       "pct_Pop_5_17_CEN_2010            float64\n",
       "pct_Pop_18_24_CEN_2010           float64\n",
       "pct_Pop_25_44_CEN_2010           float64\n",
       "pct_Pop_45_64_CEN_2010           float64\n",
       "pct_Pop_65plus_CEN_2010          float64\n",
       "pct_No_Health_Ins_ACS_09_13      float64\n",
       "pct_Hispanic_CEN_2010            float64\n",
       "pct_NH_White_alone_CEN_2010      float64\n",
       "pct_NH_Blk_alone_CEN_2010        float64\n",
       "pct_NH_Asian_alone_CEN_2010      float64\n",
       "pct_NH_AIAN_alone_CEN_2010       float64\n",
       "pct_NH_NHOPI_alone_CEN_2010      float64\n",
       "pct_NH_SOR_alone_CEN_2010        float64\n",
       "Length: 64, dtype: object"
      ]
     },
     "execution_count": 108,
     "metadata": {},
     "output_type": "execute_result"
    }
   ],
   "source": [
    "df.dtypes #Cool, the only object data types are the state and county names. We're good with data cleaning here!"
   ]
  },
  {
   "cell_type": "code",
   "execution_count": 109,
   "metadata": {
    "ExecuteTime": {
     "end_time": "2018-04-05T06:07:24.083319Z",
     "start_time": "2018-04-05T06:07:20.177639Z"
    },
    "collapsed": true
   },
   "outputs": [],
   "source": [
    "df.to_csv('Cleaned up data.csv', index=False)"
   ]
  }
 ],
 "metadata": {
  "kernelspec": {
   "display_name": "Python [conda env:anaconda3]",
   "language": "python",
   "name": "conda-env-anaconda3-py"
  },
  "language_info": {
   "codemirror_mode": {
    "name": "ipython",
    "version": 3
   },
   "file_extension": ".py",
   "mimetype": "text/x-python",
   "name": "python",
   "nbconvert_exporter": "python",
   "pygments_lexer": "ipython3",
   "version": "3.6.4"
  },
  "latex_envs": {
   "LaTeX_envs_menu_present": true,
   "autoclose": false,
   "autocomplete": true,
   "bibliofile": "biblio.bib",
   "cite_by": "apalike",
   "current_citInitial": 1,
   "eqLabelWithNumbers": true,
   "eqNumInitial": 1,
   "hotkeys": {
    "equation": "Ctrl-E",
    "itemize": "Ctrl-I"
   },
   "labels_anchors": false,
   "latex_user_defs": false,
   "report_style_numbering": false,
   "user_envs_cfg": false
  },
  "toc": {
   "nav_menu": {},
   "number_sections": true,
   "sideBar": true,
   "skip_h1_title": false,
   "title_cell": "Table of Contents",
   "title_sidebar": "Contents",
   "toc_cell": false,
   "toc_position": {},
   "toc_section_display": true,
   "toc_window_display": false
  }
 },
 "nbformat": 4,
 "nbformat_minor": 2
}
