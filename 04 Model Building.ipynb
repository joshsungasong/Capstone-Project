{
 "cells": [
  {
   "cell_type": "markdown",
   "metadata": {},
   "source": [
    "# Model Building"
   ]
  },
  {
   "cell_type": "code",
   "execution_count": 1,
   "metadata": {
    "ExecuteTime": {
     "end_time": "2018-04-10T01:40:15.989877Z",
     "start_time": "2018-04-10T01:40:14.349901Z"
    },
    "collapsed": true
   },
   "outputs": [],
   "source": [
    "###GENERAL LIBRARIES####\n",
    "import numpy as np\n",
    "import scipy.stats as stats\n",
    "import seaborn as sns\n",
    "import matplotlib.pyplot as plt\n",
    "import pandas as pd\n",
    "\n",
    "plt.style.use('fivethirtyeight')\n",
    "sns.set_style('whitegrid')\n",
    "\n",
    "%matplotlib inline\n",
    "\n",
    "###PREPROCESSING AND TRAIN-TEST SPLIT####\n",
    "import random\n",
    "from sklearn.preprocessing import StandardScaler\n",
    "from sklearn.model_selection import train_test_split\n",
    "\n",
    "###MODELS####\n",
    "from sklearn.linear_model import LogisticRegression\n",
    "from sklearn.svm import SVC\n",
    "from sklearn.ensemble import RandomForestClassifier\n",
    "from sklearn.ensemble import AdaBoostClassifier, GradientBoostingClassifier\n",
    "import xgboost as xgb\n",
    "from xgboost.sklearn import XGBClassifier \n",
    "\n",
    "###MODEL EVALUATION AND HYPERPARAMETER TUNING#####\n",
    "from sklearn.model_selection import cross_val_score\n",
    "from sklearn.model_selection import StratifiedKFold\n",
    "from sklearn.model_selection import GridSearchCV\n",
    "from sklearn.metrics import confusion_matrix\n",
    "from sklearn.metrics import classification_report\n",
    "from sklearn.metrics import roc_auc_score\n",
    "from sklearn.metrics import auc, roc_curve\n",
    "\n",
    "random_state=42"
   ]
  },
  {
   "cell_type": "code",
   "execution_count": 2,
   "metadata": {
    "ExecuteTime": {
     "end_time": "2018-04-10T01:40:16.716748Z",
     "start_time": "2018-04-10T01:40:15.991667Z"
    },
    "collapsed": true
   },
   "outputs": [],
   "source": [
    "df = pd.read_csv('model_data.csv', index_col='Unnamed: 0')"
   ]
  },
  {
   "cell_type": "code",
   "execution_count": 3,
   "metadata": {
    "ExecuteTime": {
     "end_time": "2018-04-10T01:40:16.751459Z",
     "start_time": "2018-04-10T01:40:16.719060Z"
    }
   },
   "outputs": [
    {
     "data": {
      "text/html": [
       "<div>\n",
       "<style scoped>\n",
       "    .dataframe tbody tr th:only-of-type {\n",
       "        vertical-align: middle;\n",
       "    }\n",
       "\n",
       "    .dataframe tbody tr th {\n",
       "        vertical-align: top;\n",
       "    }\n",
       "\n",
       "    .dataframe thead th {\n",
       "        text-align: right;\n",
       "    }\n",
       "</style>\n",
       "<table border=\"1\" class=\"dataframe\">\n",
       "  <thead>\n",
       "    <tr style=\"text-align: right;\">\n",
       "      <th></th>\n",
       "      <th>State_name</th>\n",
       "      <th>County_name</th>\n",
       "      <th>Tract</th>\n",
       "      <th>Med_HHD_Inc_ACS_09_13</th>\n",
       "      <th>Med_House_value_ACS_09_13</th>\n",
       "      <th>has_superfund</th>\n",
       "      <th>pct_Not_HS_Grad_ACS_09_13</th>\n",
       "      <th>pct_Born_foreign_ACS_09_13</th>\n",
       "      <th>pct_Born_US_ACS_09_13</th>\n",
       "      <th>pct_PUB_ASST_INC_ACS_09_13</th>\n",
       "      <th>...</th>\n",
       "      <th>Employed</th>\n",
       "      <th>Unemployed</th>\n",
       "      <th>Emp_Unemp_Ratio</th>\n",
       "      <th>Hispanic_Income</th>\n",
       "      <th>White_Income</th>\n",
       "      <th>Black_Income</th>\n",
       "      <th>Asian_Income</th>\n",
       "      <th>AIAN_Income</th>\n",
       "      <th>SOR_Income</th>\n",
       "      <th>NHOPI_Income</th>\n",
       "    </tr>\n",
       "  </thead>\n",
       "  <tbody>\n",
       "    <tr>\n",
       "      <th>0</th>\n",
       "      <td>Alabama</td>\n",
       "      <td>Autauga County</td>\n",
       "      <td>20100</td>\n",
       "      <td>63030.0</td>\n",
       "      <td>124800.0</td>\n",
       "      <td>0</td>\n",
       "      <td>19.277108</td>\n",
       "      <td>0.276549</td>\n",
       "      <td>99.723451</td>\n",
       "      <td>0.000000</td>\n",
       "      <td>...</td>\n",
       "      <td>870.0</td>\n",
       "      <td>25.0</td>\n",
       "      <td>34.800000</td>\n",
       "      <td>2773320.0</td>\n",
       "      <td>100911030.0</td>\n",
       "      <td>13677510.0</td>\n",
       "      <td>882420.0</td>\n",
       "      <td>819390.0</td>\n",
       "      <td>0.0</td>\n",
       "      <td>0.0</td>\n",
       "    </tr>\n",
       "    <tr>\n",
       "      <th>1</th>\n",
       "      <td>Alabama</td>\n",
       "      <td>Autauga County</td>\n",
       "      <td>20200</td>\n",
       "      <td>44019.0</td>\n",
       "      <td>129200.0</td>\n",
       "      <td>0</td>\n",
       "      <td>23.149394</td>\n",
       "      <td>3.057325</td>\n",
       "      <td>96.942675</td>\n",
       "      <td>0.720288</td>\n",
       "      <td>...</td>\n",
       "      <td>880.0</td>\n",
       "      <td>159.0</td>\n",
       "      <td>5.534591</td>\n",
       "      <td>3301425.0</td>\n",
       "      <td>37152036.0</td>\n",
       "      <td>53439066.0</td>\n",
       "      <td>220095.0</td>\n",
       "      <td>220095.0</td>\n",
       "      <td>0.0</td>\n",
       "      <td>0.0</td>\n",
       "    </tr>\n",
       "    <tr>\n",
       "      <th>2</th>\n",
       "      <td>Alabama</td>\n",
       "      <td>Autauga County</td>\n",
       "      <td>20300</td>\n",
       "      <td>43201.0</td>\n",
       "      <td>113800.0</td>\n",
       "      <td>0</td>\n",
       "      <td>11.432571</td>\n",
       "      <td>3.990841</td>\n",
       "      <td>96.009159</td>\n",
       "      <td>3.469211</td>\n",
       "      <td>...</td>\n",
       "      <td>1455.0</td>\n",
       "      <td>54.0</td>\n",
       "      <td>26.944444</td>\n",
       "      <td>3758487.0</td>\n",
       "      <td>109644138.0</td>\n",
       "      <td>27951047.0</td>\n",
       "      <td>734417.0</td>\n",
       "      <td>388809.0</td>\n",
       "      <td>0.0</td>\n",
       "      <td>216005.0</td>\n",
       "    </tr>\n",
       "    <tr>\n",
       "      <th>3</th>\n",
       "      <td>Alabama</td>\n",
       "      <td>Autauga County</td>\n",
       "      <td>20400</td>\n",
       "      <td>54730.0</td>\n",
       "      <td>130500.0</td>\n",
       "      <td>0</td>\n",
       "      <td>10.255570</td>\n",
       "      <td>2.566432</td>\n",
       "      <td>97.433568</td>\n",
       "      <td>0.971429</td>\n",
       "      <td>...</td>\n",
       "      <td>1929.0</td>\n",
       "      <td>251.0</td>\n",
       "      <td>7.685259</td>\n",
       "      <td>4652050.0</td>\n",
       "      <td>220561900.0</td>\n",
       "      <td>10453430.0</td>\n",
       "      <td>985140.0</td>\n",
       "      <td>602030.0</td>\n",
       "      <td>3283800.0</td>\n",
       "      <td>164190.0</td>\n",
       "    </tr>\n",
       "    <tr>\n",
       "      <th>4</th>\n",
       "      <td>Alabama</td>\n",
       "      <td>Autauga County</td>\n",
       "      <td>20500</td>\n",
       "      <td>65132.0</td>\n",
       "      <td>177000.0</td>\n",
       "      <td>0</td>\n",
       "      <td>4.369356</td>\n",
       "      <td>2.792369</td>\n",
       "      <td>97.207631</td>\n",
       "      <td>4.737733</td>\n",
       "      <td>...</td>\n",
       "      <td>5059.0</td>\n",
       "      <td>282.0</td>\n",
       "      <td>17.939716</td>\n",
       "      <td>23121860.0</td>\n",
       "      <td>549583816.0</td>\n",
       "      <td>92357176.0</td>\n",
       "      <td>19213940.0</td>\n",
       "      <td>2865808.0</td>\n",
       "      <td>0.0</td>\n",
       "      <td>390792.0</td>\n",
       "    </tr>\n",
       "  </tbody>\n",
       "</table>\n",
       "<p>5 rows × 41 columns</p>\n",
       "</div>"
      ],
      "text/plain": [
       "  State_name     County_name  Tract  Med_HHD_Inc_ACS_09_13  \\\n",
       "0    Alabama  Autauga County  20100                63030.0   \n",
       "1    Alabama  Autauga County  20200                44019.0   \n",
       "2    Alabama  Autauga County  20300                43201.0   \n",
       "3    Alabama  Autauga County  20400                54730.0   \n",
       "4    Alabama  Autauga County  20500                65132.0   \n",
       "\n",
       "   Med_House_value_ACS_09_13  has_superfund  pct_Not_HS_Grad_ACS_09_13  \\\n",
       "0                   124800.0              0                  19.277108   \n",
       "1                   129200.0              0                  23.149394   \n",
       "2                   113800.0              0                  11.432571   \n",
       "3                   130500.0              0                  10.255570   \n",
       "4                   177000.0              0                   4.369356   \n",
       "\n",
       "   pct_Born_foreign_ACS_09_13  pct_Born_US_ACS_09_13  \\\n",
       "0                    0.276549              99.723451   \n",
       "1                    3.057325              96.942675   \n",
       "2                    3.990841              96.009159   \n",
       "3                    2.566432              97.433568   \n",
       "4                    2.792369              97.207631   \n",
       "\n",
       "   pct_PUB_ASST_INC_ACS_09_13      ...       Employed  Unemployed  \\\n",
       "0                    0.000000      ...          870.0        25.0   \n",
       "1                    0.720288      ...          880.0       159.0   \n",
       "2                    3.469211      ...         1455.0        54.0   \n",
       "3                    0.971429      ...         1929.0       251.0   \n",
       "4                    4.737733      ...         5059.0       282.0   \n",
       "\n",
       "   Emp_Unemp_Ratio  Hispanic_Income  White_Income  Black_Income  Asian_Income  \\\n",
       "0        34.800000        2773320.0   100911030.0    13677510.0      882420.0   \n",
       "1         5.534591        3301425.0    37152036.0    53439066.0      220095.0   \n",
       "2        26.944444        3758487.0   109644138.0    27951047.0      734417.0   \n",
       "3         7.685259        4652050.0   220561900.0    10453430.0      985140.0   \n",
       "4        17.939716       23121860.0   549583816.0    92357176.0    19213940.0   \n",
       "\n",
       "   AIAN_Income  SOR_Income  NHOPI_Income  \n",
       "0     819390.0         0.0           0.0  \n",
       "1     220095.0         0.0           0.0  \n",
       "2     388809.0         0.0      216005.0  \n",
       "3     602030.0   3283800.0      164190.0  \n",
       "4    2865808.0         0.0      390792.0  \n",
       "\n",
       "[5 rows x 41 columns]"
      ]
     },
     "execution_count": 3,
     "metadata": {},
     "output_type": "execute_result"
    }
   ],
   "source": [
    "df.head()"
   ]
  },
  {
   "cell_type": "code",
   "execution_count": 4,
   "metadata": {
    "ExecuteTime": {
     "end_time": "2018-04-10T01:40:16.758458Z",
     "start_time": "2018-04-10T01:40:16.753564Z"
    }
   },
   "outputs": [
    {
     "data": {
      "text/plain": [
       "(70219, 41)"
      ]
     },
     "execution_count": 4,
     "metadata": {},
     "output_type": "execute_result"
    }
   ],
   "source": [
    "df.shape"
   ]
  },
  {
   "cell_type": "code",
   "execution_count": 5,
   "metadata": {
    "ExecuteTime": {
     "end_time": "2018-04-10T01:40:17.133505Z",
     "start_time": "2018-04-10T01:40:17.127923Z"
    }
   },
   "outputs": [
    {
     "data": {
      "text/plain": [
       "Index(['State_name', 'County_name', 'Tract', 'Med_HHD_Inc_ACS_09_13',\n",
       "       'Med_House_value_ACS_09_13', 'has_superfund',\n",
       "       'pct_Not_HS_Grad_ACS_09_13', 'pct_Born_foreign_ACS_09_13',\n",
       "       'pct_Born_US_ACS_09_13', 'pct_PUB_ASST_INC_ACS_09_13',\n",
       "       'pct_TwoPHealth_Ins_ACS_09_13', 'pct_One_Health_Ins_ACS_09_13',\n",
       "       'pct_Prs_Blw_Pov_Lev_ACS_09_13', 'pct_College_ACS_09_13',\n",
       "       'pct_Not_HS_Grad_ACS_09_13.1', 'pct_Males_CEN_2010',\n",
       "       'pct_Females_CEN_2010', 'pct_Pop_Under_5_CEN_2010',\n",
       "       'pct_Pop_5_17_CEN_2010', 'pct_Pop_18_24_CEN_2010',\n",
       "       'pct_Pop_25_44_CEN_2010', 'pct_Pop_45_64_CEN_2010',\n",
       "       'pct_Pop_65plus_CEN_2010', 'pct_No_Health_Ins_ACS_09_13',\n",
       "       'pct_Hispanic_CEN_2010', 'pct_NH_White_alone_CEN_2010',\n",
       "       'pct_NH_Blk_alone_CEN_2010', 'pct_NH_Asian_alone_CEN_2010',\n",
       "       'pct_NH_AIAN_alone_CEN_2010', 'pct_NH_NHOPI_alone_CEN_2010',\n",
       "       'pct_NH_SOR_alone_CEN_2010', 'Employed', 'Unemployed',\n",
       "       'Emp_Unemp_Ratio', 'Hispanic_Income', 'White_Income', 'Black_Income',\n",
       "       'Asian_Income', 'AIAN_Income', 'SOR_Income', 'NHOPI_Income'],\n",
       "      dtype='object')"
      ]
     },
     "execution_count": 5,
     "metadata": {},
     "output_type": "execute_result"
    }
   ],
   "source": [
    "df.columns"
   ]
  },
  {
   "cell_type": "markdown",
   "metadata": {},
   "source": [
    "### Pretty Matrix Function"
   ]
  },
  {
   "cell_type": "code",
   "execution_count": 6,
   "metadata": {
    "ExecuteTime": {
     "end_time": "2018-04-10T01:40:19.184190Z",
     "start_time": "2018-04-10T01:40:19.179220Z"
    },
    "collapsed": true
   },
   "outputs": [],
   "source": [
    "def PrettyMatrix(conf_matrix):\n",
    "    '''\n",
    "       Creates a confusion matrix with row and columns names for easy\n",
    "       interpretation. Assumes one has already imported confusion_matrix\n",
    "       from sklearn and pandas. Also assumes one is making a classification\n",
    "       for a binary variable.\n",
    "    '''\n",
    "    columns = ['Predicted Yes', 'Predicted No']\n",
    "    rows = ['Actual Yes', 'Actual No']\n",
    "    return pd.DataFrame(conf_matrix, columns=columns, index=rows)"
   ]
  },
  {
   "cell_type": "markdown",
   "metadata": {},
   "source": [
    "### Features"
   ]
  },
  {
   "cell_type": "code",
   "execution_count": 349,
   "metadata": {
    "ExecuteTime": {
     "end_time": "2018-04-06T06:05:36.438191Z",
     "start_time": "2018-04-06T06:05:36.389441Z"
    },
    "collapsed": true
   },
   "outputs": [],
   "source": [
    "#ALL FEATURES!!!\n",
    "X = df[['Med_HHD_Inc_ACS_09_13',\n",
    "       'Med_House_value_ACS_09_13', \n",
    "       'pct_Not_HS_Grad_ACS_09_13', 'pct_Born_foreign_ACS_09_13',\n",
    "       'pct_Born_US_ACS_09_13', 'pct_PUB_ASST_INC_ACS_09_13',\n",
    "       'pct_TwoPHealth_Ins_ACS_09_13', 'pct_One_Health_Ins_ACS_09_13',\n",
    "       'pct_Prs_Blw_Pov_Lev_ACS_09_13', 'pct_College_ACS_09_13','pct_Males_CEN_2010',\n",
    "       'pct_Females_CEN_2010', 'pct_Pop_Under_5_CEN_2010',\n",
    "       'pct_Pop_5_17_CEN_2010', 'pct_Pop_18_24_CEN_2010',\n",
    "       'pct_Pop_25_44_CEN_2010', 'pct_Pop_45_64_CEN_2010',\n",
    "       'pct_Pop_65plus_CEN_2010', 'pct_No_Health_Ins_ACS_09_13',\n",
    "       'pct_Hispanic_CEN_2010', 'pct_NH_White_alone_CEN_2010',\n",
    "       'pct_NH_Blk_alone_CEN_2010', 'pct_NH_Asian_alone_CEN_2010',\n",
    "       'pct_NH_AIAN_alone_CEN_2010', 'pct_NH_NHOPI_alone_CEN_2010',\n",
    "       'pct_NH_SOR_alone_CEN_2010', 'Employed', 'Unemployed',\n",
    "       'Emp_Unemp_Ratio', 'Hispanic_Income', 'White_Income', 'Black_Income',\n",
    "       'Asian_Income', 'AIAN_Income', 'SOR_Income', 'NHOPI_Income'\n",
    "       ]]\n",
    "y = df.has_superfund"
   ]
  },
  {
   "cell_type": "code",
   "execution_count": 7,
   "metadata": {
    "ExecuteTime": {
     "end_time": "2018-04-10T01:40:23.530690Z",
     "start_time": "2018-04-10T01:40:23.518395Z"
    },
    "collapsed": true
   },
   "outputs": [],
   "source": [
    "#final run \n",
    "X = df[['Med_HHD_Inc_ACS_09_13','Med_House_value_ACS_09_13', 'pct_Not_HS_Grad_ACS_09_13', 'pct_Hispanic_CEN_2010',\n",
    "        'pct_NH_White_alone_CEN_2010','pct_NH_Blk_alone_CEN_2010','pct_NH_Asian_alone_CEN_2010','Emp_Unemp_Ratio', 'Hispanic_Income', \n",
    "        'White_Income', 'Black_Income', 'Asian_Income', 'pct_Prs_Blw_Pov_Lev_ACS_09_13', 'pct_No_Health_Ins_ACS_09_13'\n",
    "       ]]\n",
    "y = df.has_superfund"
   ]
  },
  {
   "cell_type": "code",
   "execution_count": 8,
   "metadata": {
    "ExecuteTime": {
     "end_time": "2018-04-10T01:40:24.323241Z",
     "start_time": "2018-04-10T01:40:24.317886Z"
    }
   },
   "outputs": [
    {
     "data": {
      "text/plain": [
       "(70219, 14)"
      ]
     },
     "execution_count": 8,
     "metadata": {},
     "output_type": "execute_result"
    }
   ],
   "source": [
    "X.shape"
   ]
  },
  {
   "cell_type": "code",
   "execution_count": 9,
   "metadata": {
    "ExecuteTime": {
     "end_time": "2018-04-10T01:40:24.645411Z",
     "start_time": "2018-04-10T01:40:24.633385Z"
    }
   },
   "outputs": [
    {
     "data": {
      "text/plain": [
       "0    69051\n",
       "1     1168\n",
       "Name: has_superfund, dtype: int64"
      ]
     },
     "execution_count": 9,
     "metadata": {},
     "output_type": "execute_result"
    }
   ],
   "source": [
    "df.has_superfund.value_counts()"
   ]
  },
  {
   "cell_type": "markdown",
   "metadata": {},
   "source": [
    "### No oversampling/undersampling"
   ]
  },
  {
   "cell_type": "code",
   "execution_count": 10,
   "metadata": {
    "ExecuteTime": {
     "end_time": "2018-04-10T01:40:24.968876Z",
     "start_time": "2018-04-10T01:40:24.940923Z"
    },
    "collapsed": true
   },
   "outputs": [],
   "source": [
    "ss = StandardScaler()\n",
    "Xs = ss.fit_transform(X)"
   ]
  },
  {
   "cell_type": "code",
   "execution_count": 11,
   "metadata": {
    "ExecuteTime": {
     "end_time": "2018-04-10T01:40:25.104984Z",
     "start_time": "2018-04-10T01:40:25.075638Z"
    },
    "collapsed": true
   },
   "outputs": [],
   "source": [
    "X_train, X_test, y_train, y_test = train_test_split(Xs, y, test_size=0.30, random_state=21) "
   ]
  },
  {
   "cell_type": "code",
   "execution_count": 12,
   "metadata": {
    "ExecuteTime": {
     "end_time": "2018-04-10T01:40:25.364420Z",
     "start_time": "2018-04-10T01:40:25.336801Z"
    },
    "collapsed": true
   },
   "outputs": [],
   "source": [
    "random.seed(48)\n",
    "\n",
    "no_superfund = df[df['has_superfund'] == 0]\n",
    "superfund = df[df['has_superfund'] == 1 ]"
   ]
  },
  {
   "cell_type": "code",
   "execution_count": 13,
   "metadata": {
    "ExecuteTime": {
     "end_time": "2018-04-10T01:40:25.507217Z",
     "start_time": "2018-04-10T01:40:25.472950Z"
    },
    "collapsed": true
   },
   "outputs": [],
   "source": [
    "counts = df['has_superfund'].value_counts()\n",
    "proportion_under = counts[1]/counts[0]\n",
    "\n",
    "balanced_under = superfund.append(no_superfund.sample(frac=proportion_under))"
   ]
  },
  {
   "cell_type": "code",
   "execution_count": 14,
   "metadata": {
    "ExecuteTime": {
     "end_time": "2018-04-10T01:40:25.612892Z",
     "start_time": "2018-04-10T01:40:25.604216Z"
    }
   },
   "outputs": [
    {
     "data": {
      "text/plain": [
       "1    1168\n",
       "0    1168\n",
       "Name: has_superfund, dtype: int64"
      ]
     },
     "execution_count": 14,
     "metadata": {},
     "output_type": "execute_result"
    }
   ],
   "source": [
    "balanced_under['has_superfund'].value_counts()"
   ]
  },
  {
   "cell_type": "code",
   "execution_count": 15,
   "metadata": {
    "ExecuteTime": {
     "end_time": "2018-04-10T01:40:25.813490Z",
     "start_time": "2018-04-10T01:40:25.804619Z"
    },
    "collapsed": true
   },
   "outputs": [],
   "source": [
    "Xu = balanced_under[['Med_HHD_Inc_ACS_09_13','Med_House_value_ACS_09_13', 'pct_Not_HS_Grad_ACS_09_13', 'pct_Hispanic_CEN_2010', \n",
    "                    'pct_NH_White_alone_CEN_2010','pct_NH_Blk_alone_CEN_2010','pct_NH_Asian_alone_CEN_2010',\n",
    "                     'Emp_Unemp_Ratio', 'Hispanic_Income', \n",
    "        'White_Income', 'Black_Income', 'Asian_Income', 'pct_Prs_Blw_Pov_Lev_ACS_09_13', 'pct_No_Health_Ins_ACS_09_13'\n",
    "       ]]\n",
    "yu = balanced_under.has_superfund"
   ]
  },
  {
   "cell_type": "code",
   "execution_count": 16,
   "metadata": {
    "ExecuteTime": {
     "end_time": "2018-04-10T01:40:25.983743Z",
     "start_time": "2018-04-10T01:40:25.976895Z"
    },
    "collapsed": true
   },
   "outputs": [],
   "source": [
    "Xus = ss.fit_transform(Xu)"
   ]
  },
  {
   "cell_type": "code",
   "execution_count": 17,
   "metadata": {
    "ExecuteTime": {
     "end_time": "2018-04-10T01:40:26.139133Z",
     "start_time": "2018-04-10T01:40:26.134940Z"
    },
    "collapsed": true
   },
   "outputs": [],
   "source": [
    "X_trainu, X_testu, y_trainu, y_testu, = train_test_split(Xus, yu, test_size=0.30, random_state=22)"
   ]
  },
  {
   "cell_type": "markdown",
   "metadata": {},
   "source": [
    "### Oversampling"
   ]
  },
  {
   "cell_type": "code",
   "execution_count": 18,
   "metadata": {
    "ExecuteTime": {
     "end_time": "2018-04-10T01:40:26.642823Z",
     "start_time": "2018-04-10T01:40:26.536262Z"
    }
   },
   "outputs": [
    {
     "data": {
      "text/plain": [
       "1    69051\n",
       "0    69051\n",
       "Name: has_superfund, dtype: int64"
      ]
     },
     "execution_count": 18,
     "metadata": {},
     "output_type": "execute_result"
    }
   ],
   "source": [
    "counts2 = df['has_superfund'].value_counts()\n",
    "proportion_over = counts2[0]/counts2[1]\n",
    "balanced_over = no_superfund.append(superfund.sample(frac=proportion_over, replace=True))\n",
    "\n",
    "balanced_over['has_superfund'].value_counts()"
   ]
  },
  {
   "cell_type": "code",
   "execution_count": 19,
   "metadata": {
    "ExecuteTime": {
     "end_time": "2018-04-10T01:40:26.900398Z",
     "start_time": "2018-04-10T01:40:26.798709Z"
    },
    "collapsed": true
   },
   "outputs": [],
   "source": [
    "Xo = balanced_over[['Med_HHD_Inc_ACS_09_13','Med_House_value_ACS_09_13', 'pct_Not_HS_Grad_ACS_09_13', 'pct_Hispanic_CEN_2010', \n",
    "                     'pct_NH_White_alone_CEN_2010','pct_NH_Blk_alone_CEN_2010','pct_NH_Asian_alone_CEN_2010',\n",
    "                     'Emp_Unemp_Ratio', 'Hispanic_Income', \n",
    "        'White_Income', 'Black_Income', 'Asian_Income', 'pct_Prs_Blw_Pov_Lev_ACS_09_13', 'pct_No_Health_Ins_ACS_09_13'\n",
    "       ]]\n",
    "yo = balanced_over.has_superfund"
   ]
  },
  {
   "cell_type": "code",
   "execution_count": 20,
   "metadata": {
    "ExecuteTime": {
     "end_time": "2018-04-10T01:40:27.073617Z",
     "start_time": "2018-04-10T01:40:27.033821Z"
    },
    "collapsed": true
   },
   "outputs": [],
   "source": [
    "Xos = ss.fit_transform(Xo)"
   ]
  },
  {
   "cell_type": "code",
   "execution_count": 21,
   "metadata": {
    "ExecuteTime": {
     "end_time": "2018-04-10T01:40:27.231463Z",
     "start_time": "2018-04-10T01:40:27.189152Z"
    },
    "collapsed": true
   },
   "outputs": [],
   "source": [
    "X_traino, X_testo, y_traino, y_testo, = train_test_split(Xos, yo, test_size=0.30, random_state=21)"
   ]
  },
  {
   "cell_type": "markdown",
   "metadata": {},
   "source": [
    "### Logistic Regression"
   ]
  },
  {
   "cell_type": "code",
   "execution_count": 365,
   "metadata": {},
   "outputs": [
    {
     "name": "stdout",
     "output_type": "stream",
     "text": [
      "Fitting 5 folds for each of 1 candidates, totalling 5 fits\n",
      "CPU times: user 256 ms, sys: 64.4 ms, total: 320 ms\n",
      "Wall time: 332 ms\n"
     ]
    },
    {
     "name": "stderr",
     "output_type": "stream",
     "text": [
      "[Parallel(n_jobs=1)]: Done   5 out of   5 | elapsed:    0.3s finished\n"
     ]
    }
   ],
   "source": [
    "%%time\n",
    "random_state=94\n",
    "\n",
    "lr_params = {\n",
    "    'class_weight': [{0:0.4}],\n",
    "    'C': [0.01],\n",
    "    'penalty': ['l1']\n",
    "}\n",
    "lr_gs = GridSearchCV(LogisticRegression(), lr_params, verbose=1, cv=5)\n",
    "lr_gs.fit(X_train,y_train)"
   ]
  },
  {
   "cell_type": "code",
   "execution_count": 366,
   "metadata": {},
   "outputs": [
    {
     "name": "stdout",
     "output_type": "stream",
     "text": [
      "0.9832360181474172\n",
      "{'C': 0.01, 'class_weight': {0: 0.4}, 'penalty': 'l1'}\n"
     ]
    }
   ],
   "source": [
    "print(lr_gs.best_score_)\n",
    "print(lr_gs.best_params_)"
   ]
  },
  {
   "cell_type": "code",
   "execution_count": 367,
   "metadata": {},
   "outputs": [
    {
     "data": {
      "text/plain": [
       "LogisticRegression(C=0.01, class_weight={0: 0.04}, dual=False,\n",
       "          fit_intercept=True, intercept_scaling=1, max_iter=100,\n",
       "          multi_class='ovr', n_jobs=1, penalty='l1', random_state=95,\n",
       "          solver='liblinear', tol=0.0001, verbose=0, warm_start=False)"
      ]
     },
     "execution_count": 367,
     "metadata": {},
     "output_type": "execute_result"
    }
   ],
   "source": [
    "lr = LogisticRegression(class_weight={0:0.04},C=0.01,penalty='l1',random_state=95)\n",
    "lr.fit(X_train, y_train)"
   ]
  },
  {
   "cell_type": "code",
   "execution_count": 369,
   "metadata": {},
   "outputs": [
    {
     "name": "stdout",
     "output_type": "stream",
     "text": [
      "[0.98321636 0.98321636 0.98321636 0.98321636 0.98331468]\n",
      "0.9832360213480233\n"
     ]
    }
   ],
   "source": [
    "lr_scores = cross_val_score(lr, X_train, y_train, cv=5)\n",
    "print(lr_scores)\n",
    "print(np.mean(lr_scores))"
   ]
  },
  {
   "cell_type": "code",
   "execution_count": 370,
   "metadata": {
    "collapsed": true
   },
   "outputs": [],
   "source": [
    "lr_pred = lr.predict(X_test)\n",
    "lr_prob = lr.predict_proba(X_test)"
   ]
  },
  {
   "cell_type": "code",
   "execution_count": 371,
   "metadata": {},
   "outputs": [
    {
     "data": {
      "text/html": [
       "<div>\n",
       "<style scoped>\n",
       "    .dataframe tbody tr th:only-of-type {\n",
       "        vertical-align: middle;\n",
       "    }\n",
       "\n",
       "    .dataframe tbody tr th {\n",
       "        vertical-align: top;\n",
       "    }\n",
       "\n",
       "    .dataframe thead th {\n",
       "        text-align: right;\n",
       "    }\n",
       "</style>\n",
       "<table border=\"1\" class=\"dataframe\">\n",
       "  <thead>\n",
       "    <tr style=\"text-align: right;\">\n",
       "      <th></th>\n",
       "      <th>Predicted Yes</th>\n",
       "      <th>Predicted No</th>\n",
       "    </tr>\n",
       "  </thead>\n",
       "  <tbody>\n",
       "    <tr>\n",
       "      <th>Actual Yes</th>\n",
       "      <td>20722</td>\n",
       "      <td>344</td>\n",
       "    </tr>\n",
       "    <tr>\n",
       "      <th>Actual No</th>\n",
       "      <td>0</td>\n",
       "      <td>0</td>\n",
       "    </tr>\n",
       "  </tbody>\n",
       "</table>\n",
       "</div>"
      ],
      "text/plain": [
       "            Predicted Yes  Predicted No\n",
       "Actual Yes          20722           344\n",
       "Actual No               0             0"
      ]
     },
     "execution_count": 371,
     "metadata": {},
     "output_type": "execute_result"
    }
   ],
   "source": [
    "CM_lr = confusion_matrix(lr_pred, y_test)\n",
    "PrettyMatrix(CM_lr)"
   ]
  },
  {
   "cell_type": "code",
   "execution_count": 372,
   "metadata": {},
   "outputs": [
    {
     "data": {
      "text/plain": [
       "0.569927015552508"
      ]
     },
     "execution_count": 372,
     "metadata": {},
     "output_type": "execute_result"
    }
   ],
   "source": [
    "roc_auc_score(y_test, lr_prob[:,1])"
   ]
  },
  {
   "cell_type": "code",
   "execution_count": 373,
   "metadata": {},
   "outputs": [
    {
     "data": {
      "image/png": "[encoded data removed]",
      "text/plain": [
       "<Figure size 432x288 with 1 Axes>"
      ]
     },
     "metadata": {},
     "output_type": "display_data"
    }
   ],
   "source": [
    "fpr, tpr, threshold = roc_curve(y_test, lr_prob[:,1])\n",
    "roc_auc = auc(fpr, tpr)\n",
    "\n",
    "plt.title('Receiver Operating Characteristic')\n",
    "plt.plot(fpr, tpr, 'b', label = 'AUC = %0.2f' % roc_auc)\n",
    "plt.legend(loc = 'lower right')\n",
    "plt.plot([0, 1], [0, 1],'r--')\n",
    "plt.xlim([0, 1])\n",
    "plt.ylim([0, 1])\n",
    "plt.ylabel('True Positive Rate')\n",
    "plt.xlabel('False Positive Rate')\n",
    "plt.show()"
   ]
  },
  {
   "cell_type": "markdown",
   "metadata": {},
   "source": [
    "### Undersampling with Logistic Regression"
   ]
  },
  {
   "cell_type": "code",
   "execution_count": 378,
   "metadata": {},
   "outputs": [
    {
     "name": "stdout",
     "output_type": "stream",
     "text": [
      "Fitting 5 folds for each of 4 candidates, totalling 20 fits\n",
      "CPU times: user 122 ms, sys: 5.25 ms, total: 127 ms\n",
      "Wall time: 127 ms\n"
     ]
    },
    {
     "name": "stderr",
     "output_type": "stream",
     "text": [
      "[Parallel(n_jobs=1)]: Done  20 out of  20 | elapsed:    0.1s finished\n"
     ]
    }
   ],
   "source": [
    "%%time\n",
    "random_state=96\n",
    "\n",
    "lru_params = {\n",
    "    'class_weight': ['balanced'],\n",
    "    'C': [0.1, 1.0],\n",
    "    'penalty': ['l2']\n",
    "}\n",
    "lru_gs = GridSearchCV(LogisticRegression(), lru_params, verbose=1, cv=5)\n",
    "lru_gs.fit(X_trainu,y_trainu)"
   ]
  },
  {
   "cell_type": "code",
   "execution_count": 380,
   "metadata": {},
   "outputs": [
    {
     "name": "stdout",
     "output_type": "stream",
     "text": [
      "0.563302752293578\n",
      "{'C': 0.1, 'class_weight': 'balanced', 'penalty': 'l2'}\n",
      "LogisticRegression(C=0.1, class_weight='balanced', dual=False,\n",
      "          fit_intercept=True, intercept_scaling=1, max_iter=100,\n",
      "          multi_class='ovr', n_jobs=1, penalty='l2', random_state=None,\n",
      "          solver='liblinear', tol=0.0001, verbose=0, warm_start=False)\n"
     ]
    }
   ],
   "source": [
    "print(lru_gs.best_score_)\n",
    "print(lru_gs.best_params_)\n",
    "print(lru_gs.best_estimator_)"
   ]
  },
  {
   "cell_type": "code",
   "execution_count": 381,
   "metadata": {},
   "outputs": [
    {
     "data": {
      "text/plain": [
       "LogisticRegression(C=0.1, class_weight='balanced', dual=False,\n",
       "          fit_intercept=True, intercept_scaling=1, max_iter=100,\n",
       "          multi_class='ovr', n_jobs=1, penalty='l2', random_state=95,\n",
       "          solver='liblinear', tol=0.0001, verbose=0, warm_start=False)"
      ]
     },
     "execution_count": 381,
     "metadata": {},
     "output_type": "execute_result"
    }
   ],
   "source": [
    "lru = LogisticRegression(class_weight='balanced',C=0.1,penalty='l2',random_state=95)\n",
    "lru.fit(X_trainu, y_trainu)"
   ]
  },
  {
   "cell_type": "code",
   "execution_count": 384,
   "metadata": {},
   "outputs": [
    {
     "name": "stdout",
     "output_type": "stream",
     "text": [
      "[0.58409786 0.56880734 0.59633028 0.5382263  0.52905199]\n",
      "0.5633027522935781\n"
     ]
    }
   ],
   "source": [
    "lru_scores = cross_val_score(lru, X_trainu, y_trainu, cv=5)\n",
    "print(lru_scores)\n",
    "print(np.mean(lru_scores))"
   ]
  },
  {
   "cell_type": "code",
   "execution_count": 385,
   "metadata": {
    "collapsed": true
   },
   "outputs": [],
   "source": [
    "lru_pred = lru.predict(X_test)\n",
    "lru_prob = lru.predict_proba(X_test)"
   ]
  },
  {
   "cell_type": "code",
   "execution_count": 386,
   "metadata": {},
   "outputs": [
    {
     "data": {
      "text/html": [
       "<div>\n",
       "<style scoped>\n",
       "    .dataframe tbody tr th:only-of-type {\n",
       "        vertical-align: middle;\n",
       "    }\n",
       "\n",
       "    .dataframe tbody tr th {\n",
       "        vertical-align: top;\n",
       "    }\n",
       "\n",
       "    .dataframe thead th {\n",
       "        text-align: right;\n",
       "    }\n",
       "</style>\n",
       "<table border=\"1\" class=\"dataframe\">\n",
       "  <thead>\n",
       "    <tr style=\"text-align: right;\">\n",
       "      <th></th>\n",
       "      <th>Predicted Yes</th>\n",
       "      <th>Predicted No</th>\n",
       "    </tr>\n",
       "  </thead>\n",
       "  <tbody>\n",
       "    <tr>\n",
       "      <th>Actual Yes</th>\n",
       "      <td>9867</td>\n",
       "      <td>120</td>\n",
       "    </tr>\n",
       "    <tr>\n",
       "      <th>Actual No</th>\n",
       "      <td>10855</td>\n",
       "      <td>224</td>\n",
       "    </tr>\n",
       "  </tbody>\n",
       "</table>\n",
       "</div>"
      ],
      "text/plain": [
       "            Predicted Yes  Predicted No\n",
       "Actual Yes           9867           120\n",
       "Actual No           10855           224"
      ]
     },
     "execution_count": 386,
     "metadata": {},
     "output_type": "execute_result"
    }
   ],
   "source": [
    "CM_lru = confusion_matrix(lru_pred, y_test)\n",
    "PrettyMatrix(CM_lru)"
   ]
  },
  {
   "cell_type": "code",
   "execution_count": 387,
   "metadata": {},
   "outputs": [
    {
     "name": "stdout",
     "output_type": "stream",
     "text": [
      "0.6511627906976745\n"
     ]
    }
   ],
   "source": [
    "print(224/(224+120)) #sensitivity"
   ]
  },
  {
   "cell_type": "code",
   "execution_count": 388,
   "metadata": {},
   "outputs": [
    {
     "name": "stdout",
     "output_type": "stream",
     "text": [
      "0.02021843126635978\n"
     ]
    }
   ],
   "source": [
    "print(224/(224+10855)) #precision"
   ]
  },
  {
   "cell_type": "code",
   "execution_count": 389,
   "metadata": {},
   "outputs": [
    {
     "data": {
      "text/plain": [
       "0.6027393647466012"
      ]
     },
     "execution_count": 389,
     "metadata": {},
     "output_type": "execute_result"
    }
   ],
   "source": [
    "roc_auc_score(y_test, lru_prob[:,1])"
   ]
  },
  {
   "cell_type": "code",
   "execution_count": 390,
   "metadata": {},
   "outputs": [
    {
     "data": {
      "image/png": "[encoded data removed]",
      "text/plain": [
       "<Figure size 432x288 with 1 Axes>"
      ]
     },
     "metadata": {},
     "output_type": "display_data"
    }
   ],
   "source": [
    "fpr, tpr, threshold = roc_curve(y_test, lru_prob[:,1])\n",
    "roc_auc = auc(fpr, tpr)\n",
    "\n",
    "plt.title('Receiver Operating Characteristic')\n",
    "plt.plot(fpr, tpr, 'b', label = 'AUC = %0.2f' % roc_auc)\n",
    "plt.legend(loc = 'lower right')\n",
    "plt.plot([0, 1], [0, 1],'r--')\n",
    "plt.xlim([0, 1])\n",
    "plt.ylim([0, 1])\n",
    "plt.ylabel('True Positive Rate')\n",
    "plt.xlabel('False Positive Rate')\n",
    "plt.show()"
   ]
  },
  {
   "cell_type": "markdown",
   "metadata": {},
   "source": [
    "### Oversampling"
   ]
  },
  {
   "cell_type": "code",
   "execution_count": 396,
   "metadata": {},
   "outputs": [
    {
     "name": "stdout",
     "output_type": "stream",
     "text": [
      "Fitting 5 folds for each of 4 candidates, totalling 20 fits\n"
     ]
    },
    {
     "name": "stderr",
     "output_type": "stream",
     "text": [
      "[Parallel(n_jobs=1)]: Done  20 out of  20 | elapsed:    7.6s finished\n"
     ]
    },
    {
     "name": "stdout",
     "output_type": "stream",
     "text": [
      "CPU times: user 8.12 s, sys: 297 ms, total: 8.42 s\n",
      "Wall time: 8.59 s\n"
     ]
    }
   ],
   "source": [
    "%%time\n",
    "random_state=96\n",
    "\n",
    "lro_params = {\n",
    "    'class_weight': ['balanced'],\n",
    "    'C': [0.01, 0.1],\n",
    "    'penalty': ['l1']\n",
    "}\n",
    "lro_gs = GridSearchCV(LogisticRegression(), lro_params, verbose=1, cv=5)\n",
    "lro_gs.fit(X_traino,y_traino)"
   ]
  },
  {
   "cell_type": "code",
   "execution_count": 397,
   "metadata": {},
   "outputs": [
    {
     "name": "stdout",
     "output_type": "stream",
     "text": [
      "0.573470844410423\n",
      "{'C': 0.1, 'class_weight': 'balanced', 'penalty': 'l1'}\n",
      "LogisticRegression(C=0.1, class_weight='balanced', dual=False,\n",
      "          fit_intercept=True, intercept_scaling=1, max_iter=100,\n",
      "          multi_class='ovr', n_jobs=1, penalty='l1', random_state=None,\n",
      "          solver='liblinear', tol=0.0001, verbose=0, warm_start=False)\n"
     ]
    }
   ],
   "source": [
    "print(lro_gs.best_score_)\n",
    "print(lro_gs.best_params_)\n",
    "print(lro_gs.best_estimator_)"
   ]
  },
  {
   "cell_type": "code",
   "execution_count": 398,
   "metadata": {
    "collapsed": true
   },
   "outputs": [],
   "source": [
    "lro = LogisticRegression(class_weight='balanced',C=0.1,penalty='l1',random_state=97)"
   ]
  },
  {
   "cell_type": "code",
   "execution_count": 399,
   "metadata": {},
   "outputs": [
    {
     "data": {
      "text/plain": [
       "LogisticRegression(C=0.1, class_weight='balanced', dual=False,\n",
       "          fit_intercept=True, intercept_scaling=1, max_iter=100,\n",
       "          multi_class='ovr', n_jobs=1, penalty='l1', random_state=97,\n",
       "          solver='liblinear', tol=0.0001, verbose=0, warm_start=False)"
      ]
     },
     "execution_count": 399,
     "metadata": {},
     "output_type": "execute_result"
    }
   ],
   "source": [
    "lro.fit(X_traino, y_traino)"
   ]
  },
  {
   "cell_type": "code",
   "execution_count": 400,
   "metadata": {},
   "outputs": [
    {
     "name": "stdout",
     "output_type": "stream",
     "text": [
      "[0.54025777 0.53258508 0.53088342 0.50629978 0.55220854]\n",
      "0.5324469187868855\n"
     ]
    }
   ],
   "source": [
    "lro_scores = cross_val_score(lro, Xos, yo, cv=5)\n",
    "print(lro_scores)\n",
    "print(np.mean(lro_scores))"
   ]
  },
  {
   "cell_type": "code",
   "execution_count": 401,
   "metadata": {
    "collapsed": true
   },
   "outputs": [],
   "source": [
    "lro_pred = lro.predict(X_test)\n",
    "lro_prob = lro.predict_proba(X_test)"
   ]
  },
  {
   "cell_type": "code",
   "execution_count": 402,
   "metadata": {},
   "outputs": [
    {
     "data": {
      "text/html": [
       "<div>\n",
       "<style scoped>\n",
       "    .dataframe tbody tr th:only-of-type {\n",
       "        vertical-align: middle;\n",
       "    }\n",
       "\n",
       "    .dataframe tbody tr th {\n",
       "        vertical-align: top;\n",
       "    }\n",
       "\n",
       "    .dataframe thead th {\n",
       "        text-align: right;\n",
       "    }\n",
       "</style>\n",
       "<table border=\"1\" class=\"dataframe\">\n",
       "  <thead>\n",
       "    <tr style=\"text-align: right;\">\n",
       "      <th></th>\n",
       "      <th>Predicted Yes</th>\n",
       "      <th>Predicted No</th>\n",
       "    </tr>\n",
       "  </thead>\n",
       "  <tbody>\n",
       "    <tr>\n",
       "      <th>Actual Yes</th>\n",
       "      <td>9662</td>\n",
       "      <td>119</td>\n",
       "    </tr>\n",
       "    <tr>\n",
       "      <th>Actual No</th>\n",
       "      <td>11060</td>\n",
       "      <td>225</td>\n",
       "    </tr>\n",
       "  </tbody>\n",
       "</table>\n",
       "</div>"
      ],
      "text/plain": [
       "            Predicted Yes  Predicted No\n",
       "Actual Yes           9662           119\n",
       "Actual No           11060           225"
      ]
     },
     "execution_count": 402,
     "metadata": {},
     "output_type": "execute_result"
    }
   ],
   "source": [
    "CM_lro = confusion_matrix(lro_pred, y_test)\n",
    "PrettyMatrix(CM_lro)"
   ]
  },
  {
   "cell_type": "code",
   "execution_count": 403,
   "metadata": {},
   "outputs": [
    {
     "name": "stdout",
     "output_type": "stream",
     "text": [
      "0.6540697674418605\n"
     ]
    }
   ],
   "source": [
    "print(225/(225+119)) #sensitivity"
   ]
  },
  {
   "cell_type": "code",
   "execution_count": 404,
   "metadata": {},
   "outputs": [
    {
     "name": "stdout",
     "output_type": "stream",
     "text": [
      "0.01993797075764289\n"
     ]
    }
   ],
   "source": [
    "print(225/(11060+225)) #precision"
   ]
  },
  {
   "cell_type": "code",
   "execution_count": 405,
   "metadata": {},
   "outputs": [
    {
     "data": {
      "text/plain": [
       "0.6048190834143243"
      ]
     },
     "execution_count": 405,
     "metadata": {},
     "output_type": "execute_result"
    }
   ],
   "source": [
    "roc_auc_score(y_test, lro_prob[:,1])"
   ]
  },
  {
   "cell_type": "code",
   "execution_count": 406,
   "metadata": {},
   "outputs": [
    {
     "data": {
      "image/png": "[encoded data removed]",
      "text/plain": [
       "<Figure size 432x288 with 1 Axes>"
      ]
     },
     "metadata": {},
     "output_type": "display_data"
    }
   ],
   "source": [
    "fpr, tpr, threshold = roc_curve(y_test, lro_prob[:,1])\n",
    "roc_auc = auc(fpr, tpr)\n",
    "\n",
    "plt.title('Receiver Operating Characteristic')\n",
    "plt.plot(fpr, tpr, 'b', label = 'AUC = %0.2f' % roc_auc)\n",
    "plt.legend(loc = 'lower right')\n",
    "plt.plot([0, 1], [0, 1],'r--')\n",
    "plt.xlim([0, 1])\n",
    "plt.ylim([0, 1])\n",
    "plt.ylabel('True Positive Rate')\n",
    "plt.xlabel('False Positive Rate')\n",
    "plt.show()"
   ]
  },
  {
   "cell_type": "markdown",
   "metadata": {},
   "source": [
    "##### The Logistic Regression continued to perform awfully so I will not include this into consideration as the model to make predictions. "
   ]
  },
  {
   "cell_type": "markdown",
   "metadata": {},
   "source": [
    "\n",
    "###  Random Forest Classifier"
   ]
  },
  {
   "cell_type": "markdown",
   "metadata": {},
   "source": [
    "#### Undersampling"
   ]
  },
  {
   "cell_type": "code",
   "execution_count": 457,
   "metadata": {
    "ExecuteTime": {
     "end_time": "2018-04-06T06:59:35.441734Z",
     "start_time": "2018-04-06T06:56:53.429351Z"
    }
   },
   "outputs": [
    {
     "name": "stdout",
     "output_type": "stream",
     "text": [
      "Fitting 5 folds for each of 2 candidates, totalling 10 fits\n"
     ]
    },
    {
     "name": "stderr",
     "output_type": "stream",
     "text": [
      "[Parallel(n_jobs=1)]: Done  10 out of  10 | elapsed:    4.7s finished\n"
     ]
    },
    {
     "data": {
      "text/plain": [
       "GridSearchCV(cv=5, error_score='raise',\n",
       "       estimator=RandomForestClassifier(bootstrap=True, class_weight=None, criterion='gini',\n",
       "            max_depth=None, max_features='auto', max_leaf_nodes=None,\n",
       "            min_impurity_decrease=0.0, min_impurity_split=None,\n",
       "            min_samples_leaf=1, min_samples_split=2,\n",
       "            min_weight_fraction_leaf=0.0, n_estimators=10, n_jobs=1,\n",
       "            oob_score=False, random_state=None, verbose=0,\n",
       "            warm_start=False),\n",
       "       fit_params=None, iid=True, n_jobs=1,\n",
       "       param_grid={'class_weight': [{0: 0.4}], 'max_features': ['log2'], 'n_estimators': [125], 'max_depth': [75, 125], 'min_samples_split': [2]},\n",
       "       pre_dispatch='2*n_jobs', refit=True, return_train_score='warn',\n",
       "       scoring=None, verbose=1)"
      ]
     },
     "execution_count": 457,
     "metadata": {},
     "output_type": "execute_result"
    }
   ],
   "source": [
    "random_state=100\n",
    "ranforu_params = {\n",
    "      'class_weight': [{0:.4}],\n",
    "      'max_features':['log2'],\n",
    "      'n_estimators': [125],\n",
    "      'max_depth': [75,125],\n",
    "      'min_samples_split': [2],\n",
    "}\n",
    "ranforu_gs = GridSearchCV(RandomForestClassifier(),ranforu_params, verbose=1, cv=5)\n",
    "ranforu_gs.fit(X_trainu, y_trainu)"
   ]
  },
  {
   "cell_type": "code",
   "execution_count": 458,
   "metadata": {
    "ExecuteTime": {
     "end_time": "2018-04-06T06:59:35.448717Z",
     "start_time": "2018-04-06T06:59:35.444122Z"
    }
   },
   "outputs": [
    {
     "name": "stdout",
     "output_type": "stream",
     "text": [
      "0.5773700305810398\n",
      "{'class_weight': {0: 0.4}, 'max_depth': 75, 'max_features': 'log2', 'min_samples_split': 2, 'n_estimators': 125}\n",
      "RandomForestClassifier(bootstrap=True, class_weight={0: 0.4},\n",
      "            criterion='gini', max_depth=75, max_features='log2',\n",
      "            max_leaf_nodes=None, min_impurity_decrease=0.0,\n",
      "            min_impurity_split=None, min_samples_leaf=1,\n",
      "            min_samples_split=2, min_weight_fraction_leaf=0.0,\n",
      "            n_estimators=125, n_jobs=1, oob_score=False, random_state=None,\n",
      "            verbose=0, warm_start=False)\n"
     ]
    }
   ],
   "source": [
    "print(ranforu_gs.best_score_)\n",
    "print(ranforu_gs.best_params_)\n",
    "print(ranforu_gs.best_estimator_)"
   ]
  },
  {
   "cell_type": "code",
   "execution_count": 461,
   "metadata": {
    "ExecuteTime": {
     "end_time": "2018-04-06T07:00:02.644625Z",
     "start_time": "2018-04-06T06:59:44.377865Z"
    }
   },
   "outputs": [
    {
     "data": {
      "text/plain": [
       "RandomForestClassifier(bootstrap=True, class_weight={0: 0.4},\n",
       "            criterion='gini', max_depth=75, max_features='log2',\n",
       "            max_leaf_nodes=None, min_impurity_decrease=0.0,\n",
       "            min_impurity_split=None, min_samples_leaf=1,\n",
       "            min_samples_split=2, min_weight_fraction_leaf=0.0,\n",
       "            n_estimators=125, n_jobs=1, oob_score=False, random_state=101,\n",
       "            verbose=0, warm_start=False)"
      ]
     },
     "execution_count": 461,
     "metadata": {},
     "output_type": "execute_result"
    }
   ],
   "source": [
    "ranforu = RandomForestClassifier(class_weight={0:0.4},max_depth=75, min_samples_split=2,\n",
    "                                max_features='log2', n_estimators=125, random_state=101) \n",
    "ranforu.fit(X_trainu, y_trainu)"
   ]
  },
  {
   "cell_type": "code",
   "execution_count": 463,
   "metadata": {
    "ExecuteTime": {
     "end_time": "2018-04-06T07:01:10.549063Z",
     "start_time": "2018-04-06T07:00:02.646797Z"
    }
   },
   "outputs": [
    {
     "name": "stdout",
     "output_type": "stream",
     "text": [
      "[0.56269113 0.59633028 0.60550459 0.58103976 0.58103976]\n",
      "0.5853211009174313\n"
     ]
    }
   ],
   "source": [
    "ranforu_score = cross_val_score(ranforu, X_trainu, y_trainu, cv=5)\n",
    "print(ranforu_score)\n",
    "print(np.mean(ranforu_score))"
   ]
  },
  {
   "cell_type": "markdown",
   "metadata": {},
   "source": [
    "#### Random Forest Undersampling Evaluation"
   ]
  },
  {
   "cell_type": "code",
   "execution_count": 464,
   "metadata": {
    "ExecuteTime": {
     "end_time": "2018-04-06T07:01:13.769476Z",
     "start_time": "2018-04-06T07:01:10.551549Z"
    },
    "collapsed": true
   },
   "outputs": [],
   "source": [
    "ranforu_pred = ranforu.predict(X_test)"
   ]
  },
  {
   "cell_type": "code",
   "execution_count": 465,
   "metadata": {
    "ExecuteTime": {
     "end_time": "2018-04-06T07:01:17.156037Z",
     "start_time": "2018-04-06T07:01:13.772270Z"
    },
    "collapsed": true
   },
   "outputs": [],
   "source": [
    "ranforu_prob = ranforu.predict_proba(X_test)"
   ]
  },
  {
   "cell_type": "code",
   "execution_count": 466,
   "metadata": {
    "ExecuteTime": {
     "end_time": "2018-04-06T07:01:17.187391Z",
     "start_time": "2018-04-06T07:01:17.158065Z"
    },
    "collapsed": true
   },
   "outputs": [],
   "source": [
    "CM_ranforu = confusion_matrix(ranforu_pred, y_test)"
   ]
  },
  {
   "cell_type": "code",
   "execution_count": 467,
   "metadata": {
    "ExecuteTime": {
     "end_time": "2018-04-06T07:01:17.203870Z",
     "start_time": "2018-04-06T07:01:17.190607Z"
    }
   },
   "outputs": [
    {
     "data": {
      "text/html": [
       "<div>\n",
       "<style scoped>\n",
       "    .dataframe tbody tr th:only-of-type {\n",
       "        vertical-align: middle;\n",
       "    }\n",
       "\n",
       "    .dataframe tbody tr th {\n",
       "        vertical-align: top;\n",
       "    }\n",
       "\n",
       "    .dataframe thead th {\n",
       "        text-align: right;\n",
       "    }\n",
       "</style>\n",
       "<table border=\"1\" class=\"dataframe\">\n",
       "  <thead>\n",
       "    <tr style=\"text-align: right;\">\n",
       "      <th></th>\n",
       "      <th>Predicted Yes</th>\n",
       "      <th>Predicted No</th>\n",
       "    </tr>\n",
       "  </thead>\n",
       "  <tbody>\n",
       "    <tr>\n",
       "      <th>Actual Yes</th>\n",
       "      <td>17691</td>\n",
       "      <td>204</td>\n",
       "    </tr>\n",
       "    <tr>\n",
       "      <th>Actual No</th>\n",
       "      <td>3031</td>\n",
       "      <td>140</td>\n",
       "    </tr>\n",
       "  </tbody>\n",
       "</table>\n",
       "</div>"
      ],
      "text/plain": [
       "            Predicted Yes  Predicted No\n",
       "Actual Yes          17691           204\n",
       "Actual No            3031           140"
      ]
     },
     "execution_count": 467,
     "metadata": {},
     "output_type": "execute_result"
    }
   ],
   "source": [
    "PrettyMatrix(CM_ranforu)"
   ]
  },
  {
   "cell_type": "code",
   "execution_count": 468,
   "metadata": {
    "ExecuteTime": {
     "end_time": "2018-04-06T07:02:10.674548Z",
     "start_time": "2018-04-06T07:02:10.669894Z"
    }
   },
   "outputs": [
    {
     "name": "stdout",
     "output_type": "stream",
     "text": [
      "0.4069767441860465\n"
     ]
    }
   ],
   "source": [
    "print(140/(140+204)) #sensitivity"
   ]
  },
  {
   "cell_type": "code",
   "execution_count": 469,
   "metadata": {
    "ExecuteTime": {
     "end_time": "2018-04-06T07:02:32.140077Z",
     "start_time": "2018-04-06T07:02:32.133492Z"
    }
   },
   "outputs": [
    {
     "name": "stdout",
     "output_type": "stream",
     "text": [
      "0.04415011037527594\n"
     ]
    }
   ],
   "source": [
    "print(140/(140+3031)) #precision"
   ]
  },
  {
   "cell_type": "code",
   "execution_count": 470,
   "metadata": {
    "ExecuteTime": {
     "end_time": "2018-04-06T07:01:17.232987Z",
     "start_time": "2018-04-06T07:01:17.223795Z"
    }
   },
   "outputs": [
    {
     "data": {
      "text/plain": [
       "0.6924272147565894"
      ]
     },
     "execution_count": 470,
     "metadata": {},
     "output_type": "execute_result"
    }
   ],
   "source": [
    "roc_auc_score(y_test, ranforu_prob[:,1])"
   ]
  },
  {
   "cell_type": "code",
   "execution_count": 471,
   "metadata": {
    "ExecuteTime": {
     "end_time": "2018-04-06T07:01:17.467648Z",
     "start_time": "2018-04-06T07:01:17.234853Z"
    }
   },
   "outputs": [
    {
     "data": {
      "image/png": "[encoded data removed]",
      "text/plain": [
       "<Figure size 432x288 with 1 Axes>"
      ]
     },
     "metadata": {},
     "output_type": "display_data"
    }
   ],
   "source": [
    "fpr, tpr, threshold = roc_curve(y_test, ranforu_prob[:,1])\n",
    "roc_auc = auc(fpr, tpr)\n",
    "\n",
    "plt.title('Receiver Operating Characteristic')\n",
    "plt.plot(fpr, tpr, 'b', label = 'AUC = %0.2f' % roc_auc)\n",
    "plt.legend(loc = 'lower right')\n",
    "plt.plot([0, 1], [0, 1],'r--')\n",
    "plt.xlim([0, 1])\n",
    "plt.ylim([0, 1])\n",
    "plt.ylabel('True Positive Rate')\n",
    "plt.xlabel('False Positive Rate')\n",
    "plt.show()"
   ]
  },
  {
   "cell_type": "code",
   "execution_count": 472,
   "metadata": {
    "ExecuteTime": {
     "end_time": "2018-04-06T07:01:17.560856Z",
     "start_time": "2018-04-06T07:01:17.470112Z"
    },
    "collapsed": true
   },
   "outputs": [],
   "source": [
    "features_ranforu = pd.DataFrame(list(zip(X.columns,ranforu.feature_importances_))\n",
    "                        ,columns=['feature','importance'])"
   ]
  },
  {
   "cell_type": "code",
   "execution_count": 473,
   "metadata": {
    "ExecuteTime": {
     "end_time": "2018-04-06T07:09:14.521664Z",
     "start_time": "2018-04-06T07:09:14.508984Z"
    }
   },
   "outputs": [
    {
     "data": {
      "text/html": [
       "<div>\n",
       "<style scoped>\n",
       "    .dataframe tbody tr th:only-of-type {\n",
       "        vertical-align: middle;\n",
       "    }\n",
       "\n",
       "    .dataframe tbody tr th {\n",
       "        vertical-align: top;\n",
       "    }\n",
       "\n",
       "    .dataframe thead th {\n",
       "        text-align: right;\n",
       "    }\n",
       "</style>\n",
       "<table border=\"1\" class=\"dataframe\">\n",
       "  <thead>\n",
       "    <tr style=\"text-align: right;\">\n",
       "      <th></th>\n",
       "      <th>feature</th>\n",
       "      <th>importance</th>\n",
       "    </tr>\n",
       "  </thead>\n",
       "  <tbody>\n",
       "    <tr>\n",
       "      <th>0</th>\n",
       "      <td>Med_HHD_Inc_ACS_09_13</td>\n",
       "      <td>0.070219</td>\n",
       "    </tr>\n",
       "    <tr>\n",
       "      <th>1</th>\n",
       "      <td>Med_House_value_ACS_09_13</td>\n",
       "      <td>0.071037</td>\n",
       "    </tr>\n",
       "    <tr>\n",
       "      <th>2</th>\n",
       "      <td>pct_Not_HS_Grad_ACS_09_13</td>\n",
       "      <td>0.082984</td>\n",
       "    </tr>\n",
       "    <tr>\n",
       "      <th>3</th>\n",
       "      <td>pct_Hispanic_CEN_2010</td>\n",
       "      <td>0.072123</td>\n",
       "    </tr>\n",
       "    <tr>\n",
       "      <th>4</th>\n",
       "      <td>pct_NH_White_alone_CEN_2010</td>\n",
       "      <td>0.069540</td>\n",
       "    </tr>\n",
       "    <tr>\n",
       "      <th>5</th>\n",
       "      <td>pct_NH_Blk_alone_CEN_2010</td>\n",
       "      <td>0.069815</td>\n",
       "    </tr>\n",
       "    <tr>\n",
       "      <th>6</th>\n",
       "      <td>pct_NH_Asian_alone_CEN_2010</td>\n",
       "      <td>0.067511</td>\n",
       "    </tr>\n",
       "    <tr>\n",
       "      <th>7</th>\n",
       "      <td>Emp_Unemp_Ratio</td>\n",
       "      <td>0.071065</td>\n",
       "    </tr>\n",
       "    <tr>\n",
       "      <th>8</th>\n",
       "      <td>Hispanic_Income</td>\n",
       "      <td>0.066679</td>\n",
       "    </tr>\n",
       "    <tr>\n",
       "      <th>9</th>\n",
       "      <td>White_Income</td>\n",
       "      <td>0.076597</td>\n",
       "    </tr>\n",
       "    <tr>\n",
       "      <th>10</th>\n",
       "      <td>Black_Income</td>\n",
       "      <td>0.070665</td>\n",
       "    </tr>\n",
       "    <tr>\n",
       "      <th>11</th>\n",
       "      <td>Asian_Income</td>\n",
       "      <td>0.069610</td>\n",
       "    </tr>\n",
       "    <tr>\n",
       "      <th>12</th>\n",
       "      <td>pct_Prs_Blw_Pov_Lev_ACS_09_13</td>\n",
       "      <td>0.073038</td>\n",
       "    </tr>\n",
       "    <tr>\n",
       "      <th>13</th>\n",
       "      <td>pct_No_Health_Ins_ACS_09_13</td>\n",
       "      <td>0.069116</td>\n",
       "    </tr>\n",
       "  </tbody>\n",
       "</table>\n",
       "</div>"
      ],
      "text/plain": [
       "                          feature  importance\n",
       "0           Med_HHD_Inc_ACS_09_13    0.070219\n",
       "1       Med_House_value_ACS_09_13    0.071037\n",
       "2       pct_Not_HS_Grad_ACS_09_13    0.082984\n",
       "3           pct_Hispanic_CEN_2010    0.072123\n",
       "4     pct_NH_White_alone_CEN_2010    0.069540\n",
       "5       pct_NH_Blk_alone_CEN_2010    0.069815\n",
       "6     pct_NH_Asian_alone_CEN_2010    0.067511\n",
       "7                 Emp_Unemp_Ratio    0.071065\n",
       "8                 Hispanic_Income    0.066679\n",
       "9                    White_Income    0.076597\n",
       "10                   Black_Income    0.070665\n",
       "11                   Asian_Income    0.069610\n",
       "12  pct_Prs_Blw_Pov_Lev_ACS_09_13    0.073038\n",
       "13    pct_No_Health_Ins_ACS_09_13    0.069116"
      ]
     },
     "execution_count": 473,
     "metadata": {},
     "output_type": "execute_result"
    }
   ],
   "source": [
    "features_ranforu"
   ]
  },
  {
   "cell_type": "code",
   "execution_count": 474,
   "metadata": {
    "ExecuteTime": {
     "end_time": "2018-04-06T07:01:18.073513Z",
     "start_time": "2018-04-06T07:01:17.565601Z"
    }
   },
   "outputs": [
    {
     "data": {
      "text/plain": [
       "Text(0,0.5,'Feature importance')"
      ]
     },
     "execution_count": 474,
     "metadata": {},
     "output_type": "execute_result"
    },
    {
     "data": {
      "image/png": "[encoded data removed]",
      "text/plain": [
       "<Figure size 432x288 with 1 Axes>"
      ]
     },
     "metadata": {},
     "output_type": "display_data"
    }
   ],
   "source": [
    "features_ranforu.plot(kind='bar', title='Random Forest Classifier Model Feature Importance', \n",
    "                        x='feature', y='importance', sort_columns=True)\n",
    "plt.xticks(rotation = 90)\n",
    "plt.xlabel('Features', fontsize='large')\n",
    "plt.ylabel('Feature importance', fontsize='large')"
   ]
  },
  {
   "cell_type": "markdown",
   "metadata": {},
   "source": [
    "#### Oversampling"
   ]
  },
  {
   "cell_type": "code",
   "execution_count": null,
   "metadata": {
    "ExecuteTime": {
     "end_time": "2018-04-06T16:35:30.192329Z",
     "start_time": "2018-04-06T16:35:30.178188Z"
    },
    "collapsed": true
   },
   "outputs": [],
   "source": [
    "random_state = 102\n",
    "ranforo_params = {\n",
    "    'max_features':['sqrt'],\n",
    "    'n_estimators': [800],\n",
    "    'class_weight': [{0:.3}],\n",
    "    'max_depth': [15],\n",
    "    'min_samples_split': [2]\n",
    "}\n",
    "ranforo_gs = GridSearchCV(RandomForestClassifier(),ranforo_params, verbose=1, cv=5)\n",
    "ranforo_gs.fit(X_traino, y_traino)"
   ]
  },
  {
   "cell_type": "code",
   "execution_count": null,
   "metadata": {
    "ExecuteTime": {
     "end_time": "2018-04-06T16:35:39.560442Z",
     "start_time": "2018-04-06T16:35:39.556803Z"
    },
    "collapsed": true
   },
   "outputs": [],
   "source": [
    "print(ranforo_gs.best_score_)\n",
    "print(ranforo_gs.best_params_)\n",
    "print(ranforo_gs.best_estimator_)"
   ]
  },
  {
   "cell_type": "code",
   "execution_count": 287,
   "metadata": {
    "ExecuteTime": {
     "end_time": "2018-04-06T16:37:21.063092Z",
     "start_time": "2018-04-06T16:35:53.722884Z"
    }
   },
   "outputs": [
    {
     "data": {
      "text/plain": [
       "RandomForestClassifier(bootstrap=True, class_weight='balanced',\n",
       "            criterion='gini', max_depth=15, max_features='auto',\n",
       "            max_leaf_nodes=None, min_impurity_decrease=0.0,\n",
       "            min_impurity_split=None, min_samples_leaf=1,\n",
       "            min_samples_split=5, min_weight_fraction_leaf=0.0,\n",
       "            n_estimators=800, n_jobs=1, oob_score=False, random_state=103,\n",
       "            verbose=0, warm_start=False)"
      ]
     },
     "execution_count": 287,
     "metadata": {},
     "output_type": "execute_result"
    }
   ],
   "source": [
    "ranforo = RandomForestClassifier(class_weight={0:.3}, max_depth=15, max_features='sqrt', \n",
    "                                min_samples_split=2, n_estimators=800, random_state=103)\n",
    "ranforo.fit(X_traino, y_traino)"
   ]
  },
  {
   "cell_type": "code",
   "execution_count": 288,
   "metadata": {
    "ExecuteTime": {
     "end_time": "2018-04-06T18:40:42.778520Z",
     "start_time": "2018-04-06T18:36:48.113Z"
    }
   },
   "outputs": [
    {
     "name": "stdout",
     "output_type": "stream",
     "text": [
      "[0.95443496 0.95893457 0.96100134 0.95520844 0.9563958 ]\n",
      "0.9571950245811814\n"
     ]
    }
   ],
   "source": [
    "ranforo_score = cross_val_score(ranforo, X_traino, y_traino, cv=5)\n",
    "print(ranforo_score)\n",
    "print(np.mean(ranforo_score))"
   ]
  },
  {
   "cell_type": "markdown",
   "metadata": {},
   "source": [
    "#### Random Forest Oversampling Evaluation"
   ]
  },
  {
   "cell_type": "code",
   "execution_count": 289,
   "metadata": {
    "ExecuteTime": {
     "end_time": "2018-04-06T16:44:07.183870Z",
     "start_time": "2018-04-06T16:44:06.356951Z"
    },
    "collapsed": true
   },
   "outputs": [],
   "source": [
    "ranforo_pred = ranforo.predict(X_test)"
   ]
  },
  {
   "cell_type": "code",
   "execution_count": 290,
   "metadata": {
    "ExecuteTime": {
     "end_time": "2018-04-06T16:44:08.031066Z",
     "start_time": "2018-04-06T16:44:07.291806Z"
    },
    "collapsed": true
   },
   "outputs": [],
   "source": [
    "ranforo_prob = ranforo.predict_proba(X_test)"
   ]
  },
  {
   "cell_type": "code",
   "execution_count": 291,
   "metadata": {
    "ExecuteTime": {
     "end_time": "2018-04-06T16:44:08.357585Z",
     "start_time": "2018-04-06T16:44:08.316140Z"
    },
    "collapsed": true
   },
   "outputs": [],
   "source": [
    "CM_ranforo = confusion_matrix(ranforo_pred, y_test)"
   ]
  },
  {
   "cell_type": "code",
   "execution_count": 292,
   "metadata": {
    "ExecuteTime": {
     "end_time": "2018-04-06T16:44:09.006959Z",
     "start_time": "2018-04-06T16:44:08.988702Z"
    }
   },
   "outputs": [
    {
     "data": {
      "text/html": [
       "<div>\n",
       "<style scoped>\n",
       "    .dataframe tbody tr th:only-of-type {\n",
       "        vertical-align: middle;\n",
       "    }\n",
       "\n",
       "    .dataframe tbody tr th {\n",
       "        vertical-align: top;\n",
       "    }\n",
       "\n",
       "    .dataframe thead th {\n",
       "        text-align: right;\n",
       "    }\n",
       "</style>\n",
       "<table border=\"1\" class=\"dataframe\">\n",
       "  <thead>\n",
       "    <tr style=\"text-align: right;\">\n",
       "      <th></th>\n",
       "      <th>Predicted Yes</th>\n",
       "      <th>Predicted No</th>\n",
       "    </tr>\n",
       "  </thead>\n",
       "  <tbody>\n",
       "    <tr>\n",
       "      <th>Actual Yes</th>\n",
       "      <td>20706</td>\n",
       "      <td>341</td>\n",
       "    </tr>\n",
       "    <tr>\n",
       "      <th>Actual No</th>\n",
       "      <td>16</td>\n",
       "      <td>3</td>\n",
       "    </tr>\n",
       "  </tbody>\n",
       "</table>\n",
       "</div>"
      ],
      "text/plain": [
       "            Predicted Yes  Predicted No\n",
       "Actual Yes          20706           341\n",
       "Actual No              16             3"
      ]
     },
     "execution_count": 292,
     "metadata": {},
     "output_type": "execute_result"
    }
   ],
   "source": [
    "PrettyMatrix(CM_ranforo)"
   ]
  },
  {
   "cell_type": "code",
   "execution_count": 293,
   "metadata": {
    "ExecuteTime": {
     "end_time": "2018-04-06T16:44:28.558752Z",
     "start_time": "2018-04-06T16:44:28.553553Z"
    }
   },
   "outputs": [
    {
     "name": "stdout",
     "output_type": "stream",
     "text": [
      "0.00872093023255814\n"
     ]
    }
   ],
   "source": [
    "print(3/(341+3)) #sensitivity"
   ]
  },
  {
   "cell_type": "code",
   "execution_count": 294,
   "metadata": {
    "ExecuteTime": {
     "end_time": "2018-04-06T16:44:35.729570Z",
     "start_time": "2018-04-06T16:44:35.724610Z"
    }
   },
   "outputs": [
    {
     "name": "stdout",
     "output_type": "stream",
     "text": [
      "0.15789473684210525\n"
     ]
    }
   ],
   "source": [
    "print(3/(16+3)) #precision"
   ]
  },
  {
   "cell_type": "code",
   "execution_count": 295,
   "metadata": {
    "ExecuteTime": {
     "end_time": "2018-04-06T16:44:38.391115Z",
     "start_time": "2018-04-06T16:44:38.381028Z"
    }
   },
   "outputs": [
    {
     "data": {
      "text/plain": [
       "0.7667567106524242"
      ]
     },
     "execution_count": 295,
     "metadata": {},
     "output_type": "execute_result"
    }
   ],
   "source": [
    "roc_auc_score(y_test, ranforo_prob[:,1])"
   ]
  },
  {
   "cell_type": "code",
   "execution_count": 296,
   "metadata": {
    "ExecuteTime": {
     "end_time": "2018-04-06T16:44:40.579142Z",
     "start_time": "2018-04-06T16:44:40.212941Z"
    }
   },
   "outputs": [
    {
     "data": {
      "image/png": "[encoded data removed]",
      "text/plain": [
       "<Figure size 432x288 with 1 Axes>"
      ]
     },
     "metadata": {},
     "output_type": "display_data"
    }
   ],
   "source": [
    "fpr, tpr, threshold = roc_curve(y_test, ranforo_prob[:,1])\n",
    "roc_auc = auc(fpr, tpr)\n",
    "\n",
    "plt.title('Receiver Operating Characteristic')\n",
    "plt.plot(fpr, tpr, 'b', label = 'AUC = %0.2f' % roc_auc)\n",
    "plt.legend(loc = 'lower right')\n",
    "plt.plot([0, 1], [0, 1],'r--')\n",
    "plt.xlim([0, 1])\n",
    "plt.ylim([0, 1])\n",
    "plt.ylabel('True Positive Rate')\n",
    "plt.xlabel('False Positive Rate')\n",
    "plt.show()"
   ]
  },
  {
   "cell_type": "code",
   "execution_count": 297,
   "metadata": {
    "ExecuteTime": {
     "end_time": "2018-04-06T16:44:49.742039Z",
     "start_time": "2018-04-06T16:44:49.701577Z"
    },
    "collapsed": true
   },
   "outputs": [],
   "source": [
    "features_ranforo = pd.DataFrame(list(zip(X.columns,ranforo.feature_importances_))\n",
    "                        ,columns=['feature','importance'])"
   ]
  },
  {
   "cell_type": "code",
   "execution_count": 300,
   "metadata": {},
   "outputs": [
    {
     "data": {
      "text/html": [
       "<div>\n",
       "<style scoped>\n",
       "    .dataframe tbody tr th:only-of-type {\n",
       "        vertical-align: middle;\n",
       "    }\n",
       "\n",
       "    .dataframe tbody tr th {\n",
       "        vertical-align: top;\n",
       "    }\n",
       "\n",
       "    .dataframe thead th {\n",
       "        text-align: right;\n",
       "    }\n",
       "</style>\n",
       "<table border=\"1\" class=\"dataframe\">\n",
       "  <thead>\n",
       "    <tr style=\"text-align: right;\">\n",
       "      <th></th>\n",
       "      <th>feature</th>\n",
       "      <th>importance</th>\n",
       "    </tr>\n",
       "  </thead>\n",
       "  <tbody>\n",
       "    <tr>\n",
       "      <th>0</th>\n",
       "      <td>Med_HHD_Inc_ACS_09_13</td>\n",
       "      <td>0.063202</td>\n",
       "    </tr>\n",
       "    <tr>\n",
       "      <th>1</th>\n",
       "      <td>Med_House_value_ACS_09_13</td>\n",
       "      <td>0.069869</td>\n",
       "    </tr>\n",
       "    <tr>\n",
       "      <th>2</th>\n",
       "      <td>pct_Not_HS_Grad_ACS_09_13</td>\n",
       "      <td>0.069241</td>\n",
       "    </tr>\n",
       "    <tr>\n",
       "      <th>3</th>\n",
       "      <td>pct_Hispanic_CEN_2010</td>\n",
       "      <td>0.066084</td>\n",
       "    </tr>\n",
       "    <tr>\n",
       "      <th>4</th>\n",
       "      <td>pct_Not_HS_Grad_ACS_09_13</td>\n",
       "      <td>0.068332</td>\n",
       "    </tr>\n",
       "    <tr>\n",
       "      <th>5</th>\n",
       "      <td>pct_NH_White_alone_CEN_2010</td>\n",
       "      <td>0.072528</td>\n",
       "    </tr>\n",
       "    <tr>\n",
       "      <th>6</th>\n",
       "      <td>pct_NH_Blk_alone_CEN_2010</td>\n",
       "      <td>0.062961</td>\n",
       "    </tr>\n",
       "    <tr>\n",
       "      <th>7</th>\n",
       "      <td>pct_NH_Asian_alone_CEN_2010</td>\n",
       "      <td>0.069270</td>\n",
       "    </tr>\n",
       "    <tr>\n",
       "      <th>8</th>\n",
       "      <td>Emp_Unemp_Ratio</td>\n",
       "      <td>0.064315</td>\n",
       "    </tr>\n",
       "    <tr>\n",
       "      <th>9</th>\n",
       "      <td>Hispanic_Income</td>\n",
       "      <td>0.061534</td>\n",
       "    </tr>\n",
       "    <tr>\n",
       "      <th>10</th>\n",
       "      <td>White_Income</td>\n",
       "      <td>0.073697</td>\n",
       "    </tr>\n",
       "    <tr>\n",
       "      <th>11</th>\n",
       "      <td>Black_Income</td>\n",
       "      <td>0.062638</td>\n",
       "    </tr>\n",
       "    <tr>\n",
       "      <th>12</th>\n",
       "      <td>Asian_Income</td>\n",
       "      <td>0.065933</td>\n",
       "    </tr>\n",
       "    <tr>\n",
       "      <th>13</th>\n",
       "      <td>pct_Prs_Blw_Pov_Lev_ACS_09_13</td>\n",
       "      <td>0.063191</td>\n",
       "    </tr>\n",
       "    <tr>\n",
       "      <th>14</th>\n",
       "      <td>pct_No_Health_Ins_ACS_09_13</td>\n",
       "      <td>0.067206</td>\n",
       "    </tr>\n",
       "  </tbody>\n",
       "</table>\n",
       "</div>"
      ],
      "text/plain": [
       "                          feature  importance\n",
       "0           Med_HHD_Inc_ACS_09_13    0.063202\n",
       "1       Med_House_value_ACS_09_13    0.069869\n",
       "2       pct_Not_HS_Grad_ACS_09_13    0.069241\n",
       "3           pct_Hispanic_CEN_2010    0.066084\n",
       "4       pct_Not_HS_Grad_ACS_09_13    0.068332\n",
       "5     pct_NH_White_alone_CEN_2010    0.072528\n",
       "6       pct_NH_Blk_alone_CEN_2010    0.062961\n",
       "7     pct_NH_Asian_alone_CEN_2010    0.069270\n",
       "8                 Emp_Unemp_Ratio    0.064315\n",
       "9                 Hispanic_Income    0.061534\n",
       "10                   White_Income    0.073697\n",
       "11                   Black_Income    0.062638\n",
       "12                   Asian_Income    0.065933\n",
       "13  pct_Prs_Blw_Pov_Lev_ACS_09_13    0.063191\n",
       "14    pct_No_Health_Ins_ACS_09_13    0.067206"
      ]
     },
     "execution_count": 300,
     "metadata": {},
     "output_type": "execute_result"
    }
   ],
   "source": [
    "features_ranforo"
   ]
  },
  {
   "cell_type": "code",
   "execution_count": 298,
   "metadata": {
    "ExecuteTime": {
     "end_time": "2018-04-06T19:09:03.836407Z",
     "start_time": "2018-04-06T19:09:03.318572Z"
    }
   },
   "outputs": [
    {
     "data": {
      "text/plain": [
       "Text(0,0.5,'Feature importance')"
      ]
     },
     "execution_count": 298,
     "metadata": {},
     "output_type": "execute_result"
    },
    {
     "data": {
      "text/plain": [
       "<Figure size 50000x20000 with 0 Axes>"
      ]
     },
     "metadata": {},
     "output_type": "display_data"
    },
    {
     "data": {
      "image/png": "[encoded data removed]",
      "text/plain": [
       "<Figure size 432x288 with 1 Axes>"
      ]
     },
     "metadata": {},
     "output_type": "display_data"
    }
   ],
   "source": [
    "plt.figure(figsize=(50, 20), dpi=1000, facecolor='w', edgecolor='k')\n",
    "features_ranforo.plot(kind='bar', title='Random Forest Classifier Model Feature Importance', \n",
    "                        x='feature', y='importance', sort_columns=True)\n",
    "plt.xticks(rotation = 90)\n",
    "plt.xlabel('Features')\n",
    "plt.ylabel('Feature importance')"
   ]
  },
  {
   "cell_type": "markdown",
   "metadata": {},
   "source": [
    "### AdaBoost Classifier"
   ]
  },
  {
   "cell_type": "markdown",
   "metadata": {},
   "source": [
    "#### Undersampling"
   ]
  },
  {
   "cell_type": "code",
   "execution_count": 504,
   "metadata": {
    "ExecuteTime": {
     "end_time": "2018-04-06T18:58:25.830965Z",
     "start_time": "2018-04-06T18:57:39.988037Z"
    }
   },
   "outputs": [
    {
     "name": "stdout",
     "output_type": "stream",
     "text": [
      "Fitting 5 folds for each of 2 candidates, totalling 10 fits\n"
     ]
    },
    {
     "name": "stderr",
     "output_type": "stream",
     "text": [
      "[Parallel(n_jobs=1)]: Done  10 out of  10 | elapsed:    6.2s finished\n"
     ]
    },
    {
     "data": {
      "text/plain": [
       "GridSearchCV(cv=5, error_score='raise',\n",
       "       estimator=AdaBoostClassifier(algorithm='SAMME.R', base_estimator=None,\n",
       "          learning_rate=1.0, n_estimators=50, random_state=None),\n",
       "       fit_params=None, iid=True, n_jobs=1,\n",
       "       param_grid={'n_estimators': [125, 300], 'learning_rate': [0.1]},\n",
       "       pre_dispatch='2*n_jobs', refit=True, return_train_score='warn',\n",
       "       scoring=None, verbose=1)"
      ]
     },
     "execution_count": 504,
     "metadata": {},
     "output_type": "execute_result"
    }
   ],
   "source": [
    "random_state=104\n",
    "adaboostu_params = {\n",
    "    'n_estimators': [125,300],\n",
    "    'learning_rate':[0.1]\n",
    "}\n",
    "adaboostu_gs = GridSearchCV(AdaBoostClassifier(), adaboostu_params, verbose=1, cv=5)\n",
    "adaboostu_gs.fit(X_trainu, y_trainu)"
   ]
  },
  {
   "cell_type": "code",
   "execution_count": 505,
   "metadata": {
    "ExecuteTime": {
     "end_time": "2018-04-06T18:58:25.840093Z",
     "start_time": "2018-04-06T18:58:25.834397Z"
    }
   },
   "outputs": [
    {
     "name": "stdout",
     "output_type": "stream",
     "text": [
      "0.5626911314984709\n",
      "{'learning_rate': 0.1, 'n_estimators': 125}\n",
      "AdaBoostClassifier(algorithm='SAMME.R', base_estimator=None,\n",
      "          learning_rate=0.1, n_estimators=125, random_state=None)\n"
     ]
    }
   ],
   "source": [
    "print(adaboostu_gs.best_score_)\n",
    "print(adaboostu_gs.best_params_)\n",
    "print(adaboostu_gs.best_estimator_)"
   ]
  },
  {
   "cell_type": "code",
   "execution_count": 506,
   "metadata": {
    "ExecuteTime": {
     "end_time": "2018-04-06T18:58:56.179206Z",
     "start_time": "2018-04-06T18:58:51.456608Z"
    }
   },
   "outputs": [
    {
     "data": {
      "text/plain": [
       "AdaBoostClassifier(algorithm='SAMME.R', base_estimator=None,\n",
       "          learning_rate=0.1, n_estimators=125, random_state=104)"
      ]
     },
     "execution_count": 506,
     "metadata": {},
     "output_type": "execute_result"
    }
   ],
   "source": [
    "adaboostu = AdaBoostClassifier(n_estimators=125,learning_rate=0.1,random_state=104)\n",
    "adaboostu.fit(X_trainu, y_trainu)"
   ]
  },
  {
   "cell_type": "code",
   "execution_count": 507,
   "metadata": {
    "ExecuteTime": {
     "end_time": "2018-04-06T18:59:14.341404Z",
     "start_time": "2018-04-06T18:58:56.181558Z"
    }
   },
   "outputs": [
    {
     "name": "stdout",
     "output_type": "stream",
     "text": [
      "[0.5412844  0.57798165 0.57798165 0.56880734 0.54740061]\n",
      "0.5626911314984709\n"
     ]
    }
   ],
   "source": [
    "adaboostu_score = cross_val_score(adaboostu, X_trainu, y_trainu, cv=5)\n",
    "print(adaboostu_score)\n",
    "print(np.mean(adaboostu_score))"
   ]
  },
  {
   "cell_type": "markdown",
   "metadata": {},
   "source": [
    "#### Adaboost Classifier Undersampling Evaluation"
   ]
  },
  {
   "cell_type": "code",
   "execution_count": 508,
   "metadata": {
    "ExecuteTime": {
     "end_time": "2018-04-06T18:59:21.179215Z",
     "start_time": "2018-04-06T18:59:19.875021Z"
    },
    "collapsed": true
   },
   "outputs": [],
   "source": [
    "adaboostu_pred = adaboostu.predict(X_test)"
   ]
  },
  {
   "cell_type": "code",
   "execution_count": 509,
   "metadata": {
    "ExecuteTime": {
     "end_time": "2018-04-06T18:59:22.537928Z",
     "start_time": "2018-04-06T18:59:21.181066Z"
    },
    "collapsed": true
   },
   "outputs": [],
   "source": [
    "adaboostu_prob = adaboostu.predict_proba(X_test)"
   ]
  },
  {
   "cell_type": "code",
   "execution_count": 510,
   "metadata": {
    "ExecuteTime": {
     "end_time": "2018-04-06T18:59:23.330146Z",
     "start_time": "2018-04-06T18:59:23.296417Z"
    },
    "collapsed": true
   },
   "outputs": [],
   "source": [
    "CM_adaboostu = confusion_matrix(adaboostu_pred, y_test)"
   ]
  },
  {
   "cell_type": "code",
   "execution_count": 511,
   "metadata": {
    "ExecuteTime": {
     "end_time": "2018-04-06T18:59:31.187132Z",
     "start_time": "2018-04-06T18:59:31.173124Z"
    }
   },
   "outputs": [
    {
     "data": {
      "text/html": [
       "<div>\n",
       "<style scoped>\n",
       "    .dataframe tbody tr th:only-of-type {\n",
       "        vertical-align: middle;\n",
       "    }\n",
       "\n",
       "    .dataframe tbody tr th {\n",
       "        vertical-align: top;\n",
       "    }\n",
       "\n",
       "    .dataframe thead th {\n",
       "        text-align: right;\n",
       "    }\n",
       "</style>\n",
       "<table border=\"1\" class=\"dataframe\">\n",
       "  <thead>\n",
       "    <tr style=\"text-align: right;\">\n",
       "      <th></th>\n",
       "      <th>Predicted Yes</th>\n",
       "      <th>Predicted No</th>\n",
       "    </tr>\n",
       "  </thead>\n",
       "  <tbody>\n",
       "    <tr>\n",
       "      <th>Actual Yes</th>\n",
       "      <td>11092</td>\n",
       "      <td>133</td>\n",
       "    </tr>\n",
       "    <tr>\n",
       "      <th>Actual No</th>\n",
       "      <td>9630</td>\n",
       "      <td>211</td>\n",
       "    </tr>\n",
       "  </tbody>\n",
       "</table>\n",
       "</div>"
      ],
      "text/plain": [
       "            Predicted Yes  Predicted No\n",
       "Actual Yes          11092           133\n",
       "Actual No            9630           211"
      ]
     },
     "execution_count": 511,
     "metadata": {},
     "output_type": "execute_result"
    }
   ],
   "source": [
    "PrettyMatrix(CM_adaboostu)"
   ]
  },
  {
   "cell_type": "code",
   "execution_count": 512,
   "metadata": {
    "ExecuteTime": {
     "end_time": "2018-04-06T18:59:34.500699Z",
     "start_time": "2018-04-06T18:59:34.488458Z"
    }
   },
   "outputs": [
    {
     "data": {
      "text/plain": [
       "0.6058068971747812"
      ]
     },
     "execution_count": 512,
     "metadata": {},
     "output_type": "execute_result"
    }
   ],
   "source": [
    "roc_auc_score(y_test, adaboostu_prob[:,1])"
   ]
  },
  {
   "cell_type": "code",
   "execution_count": 513,
   "metadata": {
    "ExecuteTime": {
     "end_time": "2018-04-06T18:59:42.762235Z",
     "start_time": "2018-04-06T18:59:42.755557Z"
    }
   },
   "outputs": [
    {
     "name": "stdout",
     "output_type": "stream",
     "text": [
      "0.021440910476577583\n"
     ]
    }
   ],
   "source": [
    "print(211/(9630+211)) #precision"
   ]
  },
  {
   "cell_type": "code",
   "execution_count": 514,
   "metadata": {
    "ExecuteTime": {
     "end_time": "2018-04-06T18:59:57.101118Z",
     "start_time": "2018-04-06T18:59:57.095752Z"
    }
   },
   "outputs": [
    {
     "name": "stdout",
     "output_type": "stream",
     "text": [
      "0.6133720930232558\n"
     ]
    }
   ],
   "source": [
    "print(211/(133+211)) #sensitivity"
   ]
  },
  {
   "cell_type": "code",
   "execution_count": 515,
   "metadata": {
    "ExecuteTime": {
     "end_time": "2018-04-06T18:59:59.028587Z",
     "start_time": "2018-04-06T18:59:58.840112Z"
    }
   },
   "outputs": [
    {
     "data": {
      "image/png": "[encoded data removed]",
      "text/plain": [
       "<Figure size 432x288 with 1 Axes>"
      ]
     },
     "metadata": {},
     "output_type": "display_data"
    }
   ],
   "source": [
    "fpr, tpr, threshold = roc_curve(y_test, adaboostu_prob[:,1])\n",
    "roc_auc = auc(fpr, tpr)\n",
    "\n",
    "plt.title('Receiver Operating Characteristic')\n",
    "plt.plot(fpr, tpr, 'b', label = 'AUC = %0.2f' % roc_auc)\n",
    "plt.legend(loc = 'lower right')\n",
    "plt.plot([0, 1], [0, 1],'r--')\n",
    "plt.xlim([0, 1])\n",
    "plt.ylim([0, 1])\n",
    "plt.ylabel('True Positive Rate')\n",
    "plt.xlabel('False Positive Rate')\n",
    "plt.show()"
   ]
  },
  {
   "cell_type": "code",
   "execution_count": 516,
   "metadata": {
    "ExecuteTime": {
     "end_time": "2018-04-06T19:00:00.035184Z",
     "start_time": "2018-04-06T19:00:00.011260Z"
    },
    "collapsed": true
   },
   "outputs": [],
   "source": [
    "features_adaboostu = pd.DataFrame(list(zip(X.columns,adaboostu.feature_importances_))\n",
    "                        ,columns=['feature','importance'])"
   ]
  },
  {
   "cell_type": "code",
   "execution_count": 517,
   "metadata": {
    "ExecuteTime": {
     "end_time": "2018-04-06T19:07:19.600686Z",
     "start_time": "2018-04-06T19:07:19.564839Z"
    }
   },
   "outputs": [
    {
     "data": {
      "text/html": [
       "<div>\n",
       "<style scoped>\n",
       "    .dataframe tbody tr th:only-of-type {\n",
       "        vertical-align: middle;\n",
       "    }\n",
       "\n",
       "    .dataframe tbody tr th {\n",
       "        vertical-align: top;\n",
       "    }\n",
       "\n",
       "    .dataframe thead th {\n",
       "        text-align: right;\n",
       "    }\n",
       "</style>\n",
       "<table border=\"1\" class=\"dataframe\">\n",
       "  <thead>\n",
       "    <tr style=\"text-align: right;\">\n",
       "      <th></th>\n",
       "      <th>feature</th>\n",
       "      <th>importance</th>\n",
       "    </tr>\n",
       "  </thead>\n",
       "  <tbody>\n",
       "    <tr>\n",
       "      <th>0</th>\n",
       "      <td>Med_HHD_Inc_ACS_09_13</td>\n",
       "      <td>0.016</td>\n",
       "    </tr>\n",
       "    <tr>\n",
       "      <th>1</th>\n",
       "      <td>Med_House_value_ACS_09_13</td>\n",
       "      <td>0.024</td>\n",
       "    </tr>\n",
       "    <tr>\n",
       "      <th>2</th>\n",
       "      <td>pct_Not_HS_Grad_ACS_09_13</td>\n",
       "      <td>0.112</td>\n",
       "    </tr>\n",
       "    <tr>\n",
       "      <th>3</th>\n",
       "      <td>pct_Hispanic_CEN_2010</td>\n",
       "      <td>0.080</td>\n",
       "    </tr>\n",
       "    <tr>\n",
       "      <th>4</th>\n",
       "      <td>pct_NH_White_alone_CEN_2010</td>\n",
       "      <td>0.056</td>\n",
       "    </tr>\n",
       "    <tr>\n",
       "      <th>5</th>\n",
       "      <td>pct_NH_Blk_alone_CEN_2010</td>\n",
       "      <td>0.104</td>\n",
       "    </tr>\n",
       "    <tr>\n",
       "      <th>6</th>\n",
       "      <td>pct_NH_Asian_alone_CEN_2010</td>\n",
       "      <td>0.088</td>\n",
       "    </tr>\n",
       "    <tr>\n",
       "      <th>7</th>\n",
       "      <td>Emp_Unemp_Ratio</td>\n",
       "      <td>0.064</td>\n",
       "    </tr>\n",
       "    <tr>\n",
       "      <th>8</th>\n",
       "      <td>Hispanic_Income</td>\n",
       "      <td>0.024</td>\n",
       "    </tr>\n",
       "    <tr>\n",
       "      <th>9</th>\n",
       "      <td>White_Income</td>\n",
       "      <td>0.216</td>\n",
       "    </tr>\n",
       "    <tr>\n",
       "      <th>10</th>\n",
       "      <td>Black_Income</td>\n",
       "      <td>0.040</td>\n",
       "    </tr>\n",
       "    <tr>\n",
       "      <th>11</th>\n",
       "      <td>Asian_Income</td>\n",
       "      <td>0.056</td>\n",
       "    </tr>\n",
       "    <tr>\n",
       "      <th>12</th>\n",
       "      <td>pct_Prs_Blw_Pov_Lev_ACS_09_13</td>\n",
       "      <td>0.096</td>\n",
       "    </tr>\n",
       "    <tr>\n",
       "      <th>13</th>\n",
       "      <td>pct_No_Health_Ins_ACS_09_13</td>\n",
       "      <td>0.024</td>\n",
       "    </tr>\n",
       "  </tbody>\n",
       "</table>\n",
       "</div>"
      ],
      "text/plain": [
       "                          feature  importance\n",
       "0           Med_HHD_Inc_ACS_09_13       0.016\n",
       "1       Med_House_value_ACS_09_13       0.024\n",
       "2       pct_Not_HS_Grad_ACS_09_13       0.112\n",
       "3           pct_Hispanic_CEN_2010       0.080\n",
       "4     pct_NH_White_alone_CEN_2010       0.056\n",
       "5       pct_NH_Blk_alone_CEN_2010       0.104\n",
       "6     pct_NH_Asian_alone_CEN_2010       0.088\n",
       "7                 Emp_Unemp_Ratio       0.064\n",
       "8                 Hispanic_Income       0.024\n",
       "9                    White_Income       0.216\n",
       "10                   Black_Income       0.040\n",
       "11                   Asian_Income       0.056\n",
       "12  pct_Prs_Blw_Pov_Lev_ACS_09_13       0.096\n",
       "13    pct_No_Health_Ins_ACS_09_13       0.024"
      ]
     },
     "execution_count": 517,
     "metadata": {},
     "output_type": "execute_result"
    }
   ],
   "source": [
    "features_adaboostu"
   ]
  },
  {
   "cell_type": "code",
   "execution_count": 518,
   "metadata": {
    "ExecuteTime": {
     "end_time": "2018-04-06T19:08:43.036555Z",
     "start_time": "2018-04-06T19:08:42.500601Z"
    }
   },
   "outputs": [
    {
     "data": {
      "text/plain": [
       "Text(0,0.5,'Feature importance')"
      ]
     },
     "execution_count": 518,
     "metadata": {},
     "output_type": "execute_result"
    },
    {
     "data": {
      "text/plain": [
       "<Figure size 25000x10000 with 0 Axes>"
      ]
     },
     "metadata": {},
     "output_type": "display_data"
    },
    {
     "data": {
      "image/png": "[encoded data removed]",
      "text/plain": [
       "<Figure size 432x288 with 1 Axes>"
      ]
     },
     "metadata": {},
     "output_type": "display_data"
    }
   ],
   "source": [
    "plt.figure(figsize=(50, 20), dpi=500, facecolor='w', edgecolor='k')\n",
    "features_adaboostu.plot(kind='bar', title='Adaboost Classifier Model Feature Importance', \n",
    "                        x='feature', y='importance', fontsize='large')\n",
    "plt.xticks(rotation = 90)\n",
    "plt.xlabel('Features', fontsize='large')\n",
    "plt.ylabel('Feature importance', fontsize='large')"
   ]
  },
  {
   "cell_type": "markdown",
   "metadata": {},
   "source": [
    "Important features:\n",
    "\n",
    "- Median household income\n",
    "- Median House value\n",
    "- Percentage of population under 5 years old\n",
    "- Percentage of population between 45 and 64 years old\n",
    "- Percentage of population 65 years and older\n",
    "- Hispanic, income interaction feature\n",
    "\n",
    "BUT what does having a population as a highly valued feature importance mean? Does it mean a higher population? Does it mean a lower population? High mean population? \n",
    "\n",
    "Not so important features:\n",
    "\n",
    "- Not a high school graduate\n",
    "- Foreign born\n",
    "- Born in the US\n",
    "- NHOPI Income\n",
    "- AIAN, NHOPI, SOR percentage\n"
   ]
  },
  {
   "cell_type": "markdown",
   "metadata": {},
   "source": [
    "#### Oversampling"
   ]
  },
  {
   "cell_type": "code",
   "execution_count": 525,
   "metadata": {
    "ExecuteTime": {
     "end_time": "2018-04-08T01:49:34.161400Z",
     "start_time": "2018-04-08T01:49:34.153651Z"
    }
   },
   "outputs": [
    {
     "name": "stdout",
     "output_type": "stream",
     "text": [
      "Fitting 5 folds for each of 2 candidates, totalling 10 fits\n"
     ]
    },
    {
     "name": "stderr",
     "output_type": "stream",
     "text": [
      "[Parallel(n_jobs=1)]: Done  10 out of  10 | elapsed: 11.6min finished\n"
     ]
    },
    {
     "name": "stdout",
     "output_type": "stream",
     "text": [
      "CPU times: user 13min 39s, sys: 6.94 s, total: 13min 46s\n",
      "Wall time: 14min 9s\n"
     ]
    }
   ],
   "source": [
    "%%time\n",
    "random_state=105\n",
    "adaboosto_params = {\n",
    "    'n_estimators': [1200],\n",
    "    'learning_rate':[0.1]\n",
    "}\n",
    "adaboosto_gs = GridSearchCV(AdaBoostClassifier(), adaboosto_params, verbose=1, cv=5)\n",
    "adaboosto_gs.fit(X_traino, y_traino)"
   ]
  },
  {
   "cell_type": "code",
   "execution_count": 526,
   "metadata": {
    "ExecuteTime": {
     "end_time": "2018-04-08T01:49:40.917109Z",
     "start_time": "2018-04-08T01:49:40.912049Z"
    }
   },
   "outputs": [
    {
     "name": "stdout",
     "output_type": "stream",
     "text": [
      "0.6447435114977604\n",
      "{'learning_rate': 0.1, 'n_estimators': 1200}\n"
     ]
    }
   ],
   "source": [
    "print(adaboosto_gs.best_score_)\n",
    "print(adaboosto_gs.best_params_)\n",
    "print(adaboosto_gs.best_estimator_)"
   ]
  },
  {
   "cell_type": "code",
   "execution_count": 527,
   "metadata": {
    "ExecuteTime": {
     "end_time": "2018-04-08T01:49:53.843139Z",
     "start_time": "2018-04-08T01:49:53.839795Z"
    },
    "collapsed": true
   },
   "outputs": [],
   "source": [
    "adaboosto = AdaBoostClassifier(n_estimators=1200, learning_rate=0.1, random_state=106)"
   ]
  },
  {
   "cell_type": "code",
   "execution_count": 528,
   "metadata": {
    "ExecuteTime": {
     "end_time": "2018-04-08T02:27:29.256387Z",
     "start_time": "2018-04-08T02:20:23.534386Z"
    }
   },
   "outputs": [
    {
     "data": {
      "text/plain": [
       "AdaBoostClassifier(algorithm='SAMME.R', base_estimator=None,\n",
       "          learning_rate=0.1, n_estimators=1200, random_state=106)"
      ]
     },
     "execution_count": 528,
     "metadata": {},
     "output_type": "execute_result"
    }
   ],
   "source": [
    "adaboosto.fit(X_traino,y_traino)"
   ]
  },
  {
   "cell_type": "code",
   "execution_count": 529,
   "metadata": {
    "ExecuteTime": {
     "end_time": "2018-04-08T02:56:34.033230Z",
     "start_time": "2018-04-08T02:27:29.259743Z"
    }
   },
   "outputs": [
    {
     "name": "stdout",
     "output_type": "stream",
     "text": [
      "[0.6478407  0.64582364 0.64611565 0.64156408 0.64237314]\n",
      "0.64474344376544\n"
     ]
    }
   ],
   "source": [
    "adaboosto_score = cross_val_score(adaboosto, X_traino, y_traino, cv=5)\n",
    "print(adaboosto_score)\n",
    "print(np.mean(adaboosto_score))"
   ]
  },
  {
   "cell_type": "markdown",
   "metadata": {},
   "source": [
    "#### Adaboost Classifier Oversampling Evaluation"
   ]
  },
  {
   "cell_type": "code",
   "execution_count": 530,
   "metadata": {
    "ExecuteTime": {
     "end_time": "2018-04-08T02:59:25.474557Z",
     "start_time": "2018-04-08T02:59:22.676976Z"
    },
    "collapsed": true
   },
   "outputs": [],
   "source": [
    "adaboosto_pred = adaboosto.predict(X_test)"
   ]
  },
  {
   "cell_type": "code",
   "execution_count": 531,
   "metadata": {
    "ExecuteTime": {
     "end_time": "2018-04-08T02:59:28.432549Z",
     "start_time": "2018-04-08T02:59:25.476748Z"
    },
    "collapsed": true
   },
   "outputs": [],
   "source": [
    "adaboosto_prob = adaboosto.predict_proba(X_test)"
   ]
  },
  {
   "cell_type": "code",
   "execution_count": 532,
   "metadata": {
    "ExecuteTime": {
     "end_time": "2018-04-08T02:59:28.486967Z",
     "start_time": "2018-04-08T02:59:28.436319Z"
    },
    "collapsed": true
   },
   "outputs": [],
   "source": [
    "CM_adaboosto = confusion_matrix(adaboosto_pred, y_test)"
   ]
  },
  {
   "cell_type": "code",
   "execution_count": 533,
   "metadata": {
    "ExecuteTime": {
     "end_time": "2018-04-08T02:59:28.511852Z",
     "start_time": "2018-04-08T02:59:28.494193Z"
    }
   },
   "outputs": [
    {
     "data": {
      "text/html": [
       "<div>\n",
       "<style scoped>\n",
       "    .dataframe tbody tr th:only-of-type {\n",
       "        vertical-align: middle;\n",
       "    }\n",
       "\n",
       "    .dataframe tbody tr th {\n",
       "        vertical-align: top;\n",
       "    }\n",
       "\n",
       "    .dataframe thead th {\n",
       "        text-align: right;\n",
       "    }\n",
       "</style>\n",
       "<table border=\"1\" class=\"dataframe\">\n",
       "  <thead>\n",
       "    <tr style=\"text-align: right;\">\n",
       "      <th></th>\n",
       "      <th>Predicted Yes</th>\n",
       "      <th>Predicted No</th>\n",
       "    </tr>\n",
       "  </thead>\n",
       "  <tbody>\n",
       "    <tr>\n",
       "      <th>Actual Yes</th>\n",
       "      <td>7039</td>\n",
       "      <td>73</td>\n",
       "    </tr>\n",
       "    <tr>\n",
       "      <th>Actual No</th>\n",
       "      <td>13683</td>\n",
       "      <td>271</td>\n",
       "    </tr>\n",
       "  </tbody>\n",
       "</table>\n",
       "</div>"
      ],
      "text/plain": [
       "            Predicted Yes  Predicted No\n",
       "Actual Yes           7039            73\n",
       "Actual No           13683           271"
      ]
     },
     "execution_count": 533,
     "metadata": {},
     "output_type": "execute_result"
    }
   ],
   "source": [
    "PrettyMatrix(CM_adaboosto)"
   ]
  },
  {
   "cell_type": "code",
   "execution_count": 534,
   "metadata": {
    "ExecuteTime": {
     "end_time": "2018-04-08T02:59:28.525551Z",
     "start_time": "2018-04-08T02:59:28.515834Z"
    }
   },
   "outputs": [
    {
     "data": {
      "text/plain": [
       "0.5045783063038719"
      ]
     },
     "execution_count": 534,
     "metadata": {},
     "output_type": "execute_result"
    }
   ],
   "source": [
    "roc_auc_score(adaboosto_pred, y_test)"
   ]
  },
  {
   "cell_type": "code",
   "execution_count": 535,
   "metadata": {
    "ExecuteTime": {
     "end_time": "2018-04-08T02:59:54.742272Z",
     "start_time": "2018-04-08T02:59:54.722989Z"
    }
   },
   "outputs": [
    {
     "name": "stdout",
     "output_type": "stream",
     "text": [
      "0.7877906976744186\n"
     ]
    }
   ],
   "source": [
    "print(271/(73+271)) #sensitivity"
   ]
  },
  {
   "cell_type": "code",
   "execution_count": 536,
   "metadata": {
    "ExecuteTime": {
     "end_time": "2018-04-08T03:00:07.188435Z",
     "start_time": "2018-04-08T03:00:07.183483Z"
    }
   },
   "outputs": [
    {
     "name": "stdout",
     "output_type": "stream",
     "text": [
      "0.019420954564999284\n"
     ]
    }
   ],
   "source": [
    "print(271/(13683+271)) #specificity"
   ]
  },
  {
   "cell_type": "code",
   "execution_count": 537,
   "metadata": {
    "ExecuteTime": {
     "end_time": "2018-04-08T03:00:09.778349Z",
     "start_time": "2018-04-08T03:00:09.427090Z"
    }
   },
   "outputs": [
    {
     "data": {
      "image/png": "[encoded data removed]",
      "text/plain": [
       "<Figure size 432x288 with 1 Axes>"
      ]
     },
     "metadata": {},
     "output_type": "display_data"
    }
   ],
   "source": [
    "fpr, tpr, threshold = roc_curve(y_test, adaboosto_prob[:,1])\n",
    "roc_auc = auc(fpr, tpr)\n",
    "\n",
    "plt.title('Receiver Operating Characteristic')\n",
    "plt.plot(fpr, tpr, 'b', label = 'AUC = %0.2f' % roc_auc)\n",
    "plt.legend(loc = 'lower right')\n",
    "plt.plot([0, 1], [0, 1],'r--')\n",
    "plt.xlim([0, 1])\n",
    "plt.ylim([0, 1])\n",
    "plt.ylabel('True Positive Rate')\n",
    "plt.xlabel('False Positive Rate')\n",
    "plt.show()"
   ]
  },
  {
   "cell_type": "code",
   "execution_count": 623,
   "metadata": {
    "ExecuteTime": {
     "end_time": "2018-04-08T03:00:10.963349Z",
     "start_time": "2018-04-08T03:00:10.915373Z"
    },
    "collapsed": true
   },
   "outputs": [],
   "source": [
    "features_adaboosto = pd.DataFrame(list(zip(X.columns,adaboosto.feature_importances_))\n",
    "                        ,columns=['feature','importance'])"
   ]
  },
  {
   "cell_type": "code",
   "execution_count": 627,
   "metadata": {
    "ExecuteTime": {
     "end_time": "2018-04-08T03:00:12.060969Z",
     "start_time": "2018-04-08T03:00:11.506850Z"
    }
   },
   "outputs": [
    {
     "data": {
      "text/plain": [
       "Text(0,0.5,'Feature importance')"
      ]
     },
     "execution_count": 627,
     "metadata": {},
     "output_type": "execute_result"
    },
    {
     "data": {
      "text/plain": [
       "<Figure size 1000x500 with 0 Axes>"
      ]
     },
     "metadata": {},
     "output_type": "display_data"
    },
    {
     "data": {
      "image/png": "[encoded data removed]",
      "text/plain": [
       "<Figure size 432x288 with 1 Axes>"
      ]
     },
     "metadata": {},
     "output_type": "display_data"
    }
   ],
   "source": [
    "plt.figure(figsize=(10, 5), dpi=100, facecolor='w', edgecolor='k')\n",
    "features_adaboosto.plot(kind='bar', title='A larger make up of these communities involve Hispanics', \n",
    "                        x='feature', y='importance', fontsize='large', sort_columns=True)\n",
    "plt.xticks(rotation = 90)\n",
    "plt.xlabel('Features', fontsize='large')\n",
    "plt.ylabel('Feature importance', fontsize='large')"
   ]
  },
  {
   "cell_type": "markdown",
   "metadata": {},
   "source": [
    "### Gradient Boosting Classifier"
   ]
  },
  {
   "cell_type": "markdown",
   "metadata": {},
   "source": [
    "#### Undersampling"
   ]
  },
  {
   "cell_type": "code",
   "execution_count": 595,
   "metadata": {
    "ExecuteTime": {
     "end_time": "2018-04-08T03:06:19.538075Z",
     "start_time": "2018-04-08T03:06:08.173465Z"
    }
   },
   "outputs": [
    {
     "name": "stdout",
     "output_type": "stream",
     "text": [
      "Fitting 5 folds for each of 2 candidates, totalling 10 fits\n"
     ]
    },
    {
     "name": "stderr",
     "output_type": "stream",
     "text": [
      "[Parallel(n_jobs=1)]: Done  10 out of  10 | elapsed:   17.6s finished\n"
     ]
    },
    {
     "name": "stdout",
     "output_type": "stream",
     "text": [
      "CPU times: user 18.7 s, sys: 144 ms, total: 18.9 s\n",
      "Wall time: 19.4 s\n"
     ]
    }
   ],
   "source": [
    "%%time\n",
    "random_state=107\n",
    "gradboostu_params = {\n",
    "    'learning_rate': [0.1],\n",
    "    'n_estimators': [2000],\n",
    "    'max_depth': [100],\n",
    "    'max_features': ['log2'],\n",
    "    'min_samples_leaf': [5]\n",
    "}\n",
    "gradboostu_gs = GridSearchCV(GradientBoostingClassifier(), gradboostu_params, verbose=1, cv=5)\n",
    "gradboostu_gs.fit(X_trainu, y_trainu)"
   ]
  },
  {
   "cell_type": "code",
   "execution_count": 596,
   "metadata": {},
   "outputs": [
    {
     "name": "stdout",
     "output_type": "stream",
     "text": [
      "{'learning_rate': 0.1, 'max_depth': 100, 'max_features': 'log2', 'min_samples_leaf': 5, 'n_estimators': 2000}\n",
      "0.5669724770642202\n",
      "GradientBoostingClassifier(criterion='friedman_mse', init=None,\n",
      "              learning_rate=0.1, loss='deviance', max_depth=100,\n",
      "              max_features='log2', max_leaf_nodes=None,\n",
      "              min_impurity_decrease=0.0, min_impurity_split=None,\n",
      "              min_samples_leaf=5, min_samples_split=2,\n",
      "              min_weight_fraction_leaf=0.0, n_estimators=2000,\n",
      "              presort='auto', random_state=None, subsample=1.0, verbose=0,\n",
      "              warm_start=False)\n"
     ]
    }
   ],
   "source": [
    "print(gradboostu_gs.best_params_)\n",
    "print(gradboostu_gs.best_score_)\n",
    "print(gradboostu_gs.best_estimator_)"
   ]
  },
  {
   "cell_type": "code",
   "execution_count": 597,
   "metadata": {
    "ExecuteTime": {
     "end_time": "2018-04-08T03:06:19.539070Z",
     "start_time": "2018-04-08T03:06:09.234Z"
    }
   },
   "outputs": [
    {
     "data": {
      "text/plain": [
       "GradientBoostingClassifier(criterion='friedman_mse', init=None,\n",
       "              learning_rate=0.1, loss='deviance', max_depth=100,\n",
       "              max_features='sqrt', max_leaf_nodes=None,\n",
       "              min_impurity_decrease=0.0, min_impurity_split=None,\n",
       "              min_samples_leaf=5, min_samples_split=2,\n",
       "              min_weight_fraction_leaf=0.0, n_estimators=2000,\n",
       "              presort='auto', random_state=108, subsample=1.0, verbose=0,\n",
       "              warm_start=False)"
      ]
     },
     "execution_count": 597,
     "metadata": {},
     "output_type": "execute_result"
    }
   ],
   "source": [
    "gradboostu = GradientBoostingClassifier(learning_rate=0.1, n_estimators=2000, max_depth=100, max_features='sqrt', \n",
    "                                        min_samples_leaf=5, random_state=108)\n",
    "gradboostu.fit(X_trainu, y_trainu)"
   ]
  },
  {
   "cell_type": "code",
   "execution_count": 598,
   "metadata": {
    "ExecuteTime": {
     "end_time": "2018-04-04T00:42:23.678534Z",
     "start_time": "2018-04-04T00:42:22.457286Z"
    }
   },
   "outputs": [
    {
     "name": "stdout",
     "output_type": "stream",
     "text": [
      "[0.5351682  0.56574924 0.54740061 0.55351682 0.59021407]\n",
      "0.5584097859327217\n"
     ]
    }
   ],
   "source": [
    "gradboostu_score = cross_val_score(gradboostu, X_trainu, y_trainu, cv=5)\n",
    "print(gradboostu_score)\n",
    "print(np.mean(gradboostu_score))"
   ]
  },
  {
   "cell_type": "markdown",
   "metadata": {},
   "source": [
    "#### Gradient Boosting Classifier Undersampling Evaluation"
   ]
  },
  {
   "cell_type": "code",
   "execution_count": 599,
   "metadata": {
    "ExecuteTime": {
     "end_time": "2018-04-04T00:42:23.720495Z",
     "start_time": "2018-04-04T00:42:23.681048Z"
    },
    "collapsed": true
   },
   "outputs": [],
   "source": [
    "gradboostu_pred = gradboostu.predict(X_test)"
   ]
  },
  {
   "cell_type": "code",
   "execution_count": 600,
   "metadata": {
    "ExecuteTime": {
     "end_time": "2018-04-04T00:42:23.765537Z",
     "start_time": "2018-04-04T00:42:23.724502Z"
    },
    "collapsed": true
   },
   "outputs": [],
   "source": [
    "gradboostu_prob = gradboostu.predict_proba(X_test)"
   ]
  },
  {
   "cell_type": "code",
   "execution_count": 601,
   "metadata": {
    "ExecuteTime": {
     "end_time": "2018-04-04T00:42:23.797829Z",
     "start_time": "2018-04-04T00:42:23.768336Z"
    },
    "collapsed": true
   },
   "outputs": [],
   "source": [
    "CM_gradboostu = confusion_matrix(gradboostu_pred, y_test)"
   ]
  },
  {
   "cell_type": "code",
   "execution_count": 602,
   "metadata": {
    "collapsed": true
   },
   "outputs": [
    {
     "data": {
      "text/html": [
       "<div>\n",
       "<style scoped>\n",
       "    .dataframe tbody tr th:only-of-type {\n",
       "        vertical-align: middle;\n",
       "    }\n",
       "\n",
       "    .dataframe tbody tr th {\n",
       "        vertical-align: top;\n",
       "    }\n",
       "\n",
       "    .dataframe thead th {\n",
       "        text-align: right;\n",
       "    }\n",
       "</style>\n",
       "<table border=\"1\" class=\"dataframe\">\n",
       "  <thead>\n",
       "    <tr style=\"text-align: right;\">\n",
       "      <th></th>\n",
       "      <th>Predicted Yes</th>\n",
       "      <th>Predicted No</th>\n",
       "    </tr>\n",
       "  </thead>\n",
       "  <tbody>\n",
       "    <tr>\n",
       "      <th>Actual Yes</th>\n",
       "      <td>13734</td>\n",
       "      <td>160</td>\n",
       "    </tr>\n",
       "    <tr>\n",
       "      <th>Actual No</th>\n",
       "      <td>6988</td>\n",
       "      <td>184</td>\n",
       "    </tr>\n",
       "  </tbody>\n",
       "</table>\n",
       "</div>"
      ],
      "text/plain": [
       "            Predicted Yes  Predicted No\n",
       "Actual Yes          13734           160\n",
       "Actual No            6988           184"
      ]
     },
     "execution_count": 602,
     "metadata": {},
     "output_type": "execute_result"
    }
   ],
   "source": [
    "PrettyMatrix(CM_gradboostu)"
   ]
  },
  {
   "cell_type": "code",
   "execution_count": 603,
   "metadata": {
    "ExecuteTime": {
     "end_time": "2018-04-04T00:42:23.815378Z",
     "start_time": "2018-04-04T00:42:23.800211Z"
    }
   },
   "outputs": [
    {
     "data": {
      "text/plain": [
       "0.6445384132805714"
      ]
     },
     "execution_count": 603,
     "metadata": {},
     "output_type": "execute_result"
    }
   ],
   "source": [
    "roc_auc_score(y_test, gradboostu_prob[:,1])"
   ]
  },
  {
   "cell_type": "code",
   "execution_count": 604,
   "metadata": {
    "ExecuteTime": {
     "end_time": "2018-04-04T00:42:23.826224Z",
     "start_time": "2018-04-04T00:42:23.820024Z"
    }
   },
   "outputs": [
    {
     "name": "stdout",
     "output_type": "stream",
     "text": [
      "0.5348837209302325\n"
     ]
    }
   ],
   "source": [
    "print(184/(160+184)) #sensitivity"
   ]
  },
  {
   "cell_type": "code",
   "execution_count": 605,
   "metadata": {},
   "outputs": [
    {
     "name": "stdout",
     "output_type": "stream",
     "text": [
      "0.025655326268823202\n"
     ]
    }
   ],
   "source": [
    "print(184/(6988+184)) #precision"
   ]
  },
  {
   "cell_type": "code",
   "execution_count": 606,
   "metadata": {
    "ExecuteTime": {
     "end_time": "2018-04-04T00:42:24.097723Z",
     "start_time": "2018-04-04T00:42:23.829540Z"
    }
   },
   "outputs": [
    {
     "data": {
      "image/png": "[encoded data removed]",
      "text/plain": [
       "<Figure size 432x288 with 1 Axes>"
      ]
     },
     "metadata": {},
     "output_type": "display_data"
    }
   ],
   "source": [
    "fpr, tpr, threshold = roc_curve(y_test, gradboostu_prob[:,1])\n",
    "roc_auc = auc(fpr, tpr)\n",
    "\n",
    "plt.title('Receiver Operating Characteristic')\n",
    "plt.plot(fpr, tpr, 'b', label = 'AUC = %0.2f' % roc_auc)\n",
    "plt.legend(loc = 'lower right')\n",
    "plt.plot([0, 1], [0, 1],'r--')\n",
    "plt.xlim([0, 1])\n",
    "plt.ylim([0, 1])\n",
    "plt.ylabel('True Positive Rate')\n",
    "plt.xlabel('False Positive Rate')\n",
    "plt.show()"
   ]
  },
  {
   "cell_type": "code",
   "execution_count": 607,
   "metadata": {
    "ExecuteTime": {
     "end_time": "2018-04-04T00:42:24.109111Z",
     "start_time": "2018-04-04T00:42:24.100195Z"
    },
    "collapsed": true
   },
   "outputs": [],
   "source": [
    "features_gradboostu = pd.DataFrame(list(zip(X.columns,gradboostu.feature_importances_))\n",
    "                        ,columns=['feature','importance'])"
   ]
  },
  {
   "cell_type": "code",
   "execution_count": 608,
   "metadata": {
    "ExecuteTime": {
     "end_time": "2018-04-04T00:42:24.539833Z",
     "start_time": "2018-04-04T00:42:24.112924Z"
    }
   },
   "outputs": [
    {
     "data": {
      "text/plain": [
       "Text(0,0.5,'Feature importance')"
      ]
     },
     "execution_count": 608,
     "metadata": {},
     "output_type": "execute_result"
    },
    {
     "data": {
      "image/png": "[encoded data removed]",
      "text/plain": [
       "<Figure size 432x288 with 1 Axes>"
      ]
     },
     "metadata": {},
     "output_type": "display_data"
    }
   ],
   "source": [
    "features_gradboostu.plot(kind='bar', title='Gradient Boosting Classifier Model Feature Importance', \n",
    "                        x='feature', y='importance', fontsize='large')\n",
    "plt.xticks(rotation = 90)\n",
    "plt.xlabel('Features', fontsize='large')\n",
    "plt.ylabel('Feature importance', fontsize='large')"
   ]
  },
  {
   "cell_type": "markdown",
   "metadata": {},
   "source": [
    "#### Oversampling"
   ]
  },
  {
   "cell_type": "code",
   "execution_count": 609,
   "metadata": {},
   "outputs": [
    {
     "name": "stdout",
     "output_type": "stream",
     "text": [
      "Fitting 5 folds for each of 2 candidates, totalling 10 fits\n"
     ]
    },
    {
     "name": "stderr",
     "output_type": "stream",
     "text": [
      "[Parallel(n_jobs=1)]: Done  10 out of  10 | elapsed:  3.2min finished\n"
     ]
    },
    {
     "name": "stdout",
     "output_type": "stream",
     "text": [
      "CPU times: user 3min 29s, sys: 2.24 s, total: 3min 31s\n",
      "Wall time: 3min 34s\n"
     ]
    }
   ],
   "source": [
    "%%time\n",
    "random_state=109\n",
    "gradboosto_params = {\n",
    "    'learning_rate': [1.0],\n",
    "    'n_estimators': [1200],\n",
    "    'max_depth': [100],\n",
    "    'max_features': ['sqrt'],\n",
    "    'min_samples_leaf': [2,5]\n",
    "}\n",
    "gradboosto_gs = GridSearchCV(GradientBoostingClassifier(), gradboosto_params, verbose=1, cv=5)\n",
    "gradboosto_gs.fit(X_traino, y_traino)"
   ]
  },
  {
   "cell_type": "code",
   "execution_count": 610,
   "metadata": {},
   "outputs": [
    {
     "name": "stdout",
     "output_type": "stream",
     "text": [
      "0.9994724374424595\n",
      "{'learning_rate': 1.0, 'max_depth': 100, 'max_features': 'sqrt', 'min_samples_leaf': 2, 'n_estimators': 1200}\n",
      "GradientBoostingClassifier(criterion='friedman_mse', init=None,\n",
      "              learning_rate=1.0, loss='deviance', max_depth=100,\n",
      "              max_features='sqrt', max_leaf_nodes=None,\n",
      "              min_impurity_decrease=0.0, min_impurity_split=None,\n",
      "              min_samples_leaf=2, min_samples_split=2,\n",
      "              min_weight_fraction_leaf=0.0, n_estimators=1200,\n",
      "              presort='auto', random_state=None, subsample=1.0, verbose=0,\n",
      "              warm_start=False)\n"
     ]
    }
   ],
   "source": [
    "print(gradboosto_gs.best_score_)\n",
    "print(gradboosto_gs.best_params_)\n",
    "print(gradboosto_gs.best_estimator_)"
   ]
  },
  {
   "cell_type": "code",
   "execution_count": 611,
   "metadata": {
    "ExecuteTime": {
     "end_time": "2018-04-04T00:42:38.504895Z",
     "start_time": "2018-04-04T00:42:24.545562Z"
    }
   },
   "outputs": [
    {
     "data": {
      "text/plain": [
       "GradientBoostingClassifier(criterion='friedman_mse', init=None,\n",
       "              learning_rate=1.0, loss='deviance', max_depth=100,\n",
       "              max_features='sqrt', max_leaf_nodes=None,\n",
       "              min_impurity_decrease=0.0, min_impurity_split=None,\n",
       "              min_samples_leaf=2, min_samples_split=2,\n",
       "              min_weight_fraction_leaf=0.0, n_estimators=1200,\n",
       "              presort='auto', random_state=110, subsample=1.0, verbose=0,\n",
       "              warm_start=False)"
      ]
     },
     "execution_count": 611,
     "metadata": {},
     "output_type": "execute_result"
    }
   ],
   "source": [
    "gradboosto = GradientBoostingClassifier(learning_rate=1.0, n_estimators=1200, max_depth=100, max_features='sqrt', \n",
    "                                        min_samples_leaf=2,random_state=110)\n",
    "gradboosto.fit(X_traino, y_traino)"
   ]
  },
  {
   "cell_type": "code",
   "execution_count": 612,
   "metadata": {
    "ExecuteTime": {
     "end_time": "2018-04-04T00:43:39.262528Z",
     "start_time": "2018-04-04T00:42:38.509913Z"
    }
   },
   "outputs": [
    {
     "name": "stdout",
     "output_type": "stream",
     "text": [
      "[0.99937936 0.9992242  0.99948278 0.99937933 0.99927585]\n",
      "0.9993483052889307\n"
     ]
    }
   ],
   "source": [
    "gradboosto_score = cross_val_score(gradboosto, X_traino, y_traino, cv=5)\n",
    "print(gradboosto_score)\n",
    "print(np.mean(gradboosto_score))"
   ]
  },
  {
   "cell_type": "markdown",
   "metadata": {},
   "source": [
    "#### Gradient Boosting Classifier Oversampling Evaluation"
   ]
  },
  {
   "cell_type": "code",
   "execution_count": 613,
   "metadata": {
    "ExecuteTime": {
     "end_time": "2018-04-04T00:43:39.319134Z",
     "start_time": "2018-04-04T00:43:39.270986Z"
    },
    "collapsed": true
   },
   "outputs": [],
   "source": [
    "gradboosto_pred = gradboosto.predict(X_test)"
   ]
  },
  {
   "cell_type": "code",
   "execution_count": 614,
   "metadata": {
    "ExecuteTime": {
     "end_time": "2018-04-04T00:43:39.367643Z",
     "start_time": "2018-04-04T00:43:39.324822Z"
    },
    "collapsed": true
   },
   "outputs": [],
   "source": [
    "gradboosto_prob = gradboosto.predict_proba(X_test)"
   ]
  },
  {
   "cell_type": "code",
   "execution_count": 615,
   "metadata": {
    "ExecuteTime": {
     "end_time": "2018-04-04T00:43:39.435044Z",
     "start_time": "2018-04-04T00:43:39.371912Z"
    },
    "collapsed": true
   },
   "outputs": [],
   "source": [
    "CM_gradboosto = confusion_matrix(gradboosto_pred, y_test)"
   ]
  },
  {
   "cell_type": "code",
   "execution_count": 616,
   "metadata": {
    "collapsed": true
   },
   "outputs": [
    {
     "data": {
      "text/html": [
       "<div>\n",
       "<style scoped>\n",
       "    .dataframe tbody tr th:only-of-type {\n",
       "        vertical-align: middle;\n",
       "    }\n",
       "\n",
       "    .dataframe tbody tr th {\n",
       "        vertical-align: top;\n",
       "    }\n",
       "\n",
       "    .dataframe thead th {\n",
       "        text-align: right;\n",
       "    }\n",
       "</style>\n",
       "<table border=\"1\" class=\"dataframe\">\n",
       "  <thead>\n",
       "    <tr style=\"text-align: right;\">\n",
       "      <th></th>\n",
       "      <th>Predicted Yes</th>\n",
       "      <th>Predicted No</th>\n",
       "    </tr>\n",
       "  </thead>\n",
       "  <tbody>\n",
       "    <tr>\n",
       "      <th>Actual Yes</th>\n",
       "      <td>20717</td>\n",
       "      <td>333</td>\n",
       "    </tr>\n",
       "    <tr>\n",
       "      <th>Actual No</th>\n",
       "      <td>5</td>\n",
       "      <td>11</td>\n",
       "    </tr>\n",
       "  </tbody>\n",
       "</table>\n",
       "</div>"
      ],
      "text/plain": [
       "            Predicted Yes  Predicted No\n",
       "Actual Yes          20717           333\n",
       "Actual No               5            11"
      ]
     },
     "execution_count": 616,
     "metadata": {},
     "output_type": "execute_result"
    }
   ],
   "source": [
    "PrettyMatrix(CM_gradboosto)"
   ]
  },
  {
   "cell_type": "code",
   "execution_count": 617,
   "metadata": {
    "ExecuteTime": {
     "end_time": "2018-04-04T00:43:39.454586Z",
     "start_time": "2018-04-04T00:43:39.439349Z"
    }
   },
   "outputs": [
    {
     "data": {
      "text/plain": [
       "0.6928310940175928"
      ]
     },
     "execution_count": 617,
     "metadata": {},
     "output_type": "execute_result"
    }
   ],
   "source": [
    "roc_auc_score(y_test, gradboosto_prob[:,1])"
   ]
  },
  {
   "cell_type": "code",
   "execution_count": 618,
   "metadata": {
    "ExecuteTime": {
     "end_time": "2018-04-04T00:43:39.463014Z",
     "start_time": "2018-04-04T00:43:39.457954Z"
    }
   },
   "outputs": [
    {
     "name": "stdout",
     "output_type": "stream",
     "text": [
      "0.03197674418604651\n"
     ]
    }
   ],
   "source": [
    "print(11/(333+11)) #sensitivity"
   ]
  },
  {
   "cell_type": "code",
   "execution_count": 619,
   "metadata": {},
   "outputs": [
    {
     "name": "stdout",
     "output_type": "stream",
     "text": [
      "0.6875\n"
     ]
    }
   ],
   "source": [
    "print(11/(5+11)) #precision"
   ]
  },
  {
   "cell_type": "code",
   "execution_count": 620,
   "metadata": {
    "ExecuteTime": {
     "end_time": "2018-04-04T00:43:39.904097Z",
     "start_time": "2018-04-04T00:43:39.465914Z"
    }
   },
   "outputs": [
    {
     "data": {
      "image/png": "[encoded data removed]",
      "text/plain": [
       "<Figure size 432x288 with 1 Axes>"
      ]
     },
     "metadata": {},
     "output_type": "display_data"
    }
   ],
   "source": [
    "fpr, tpr, threshold = roc_curve(y_test, gradboosto_prob[:,1])\n",
    "roc_auc = auc(fpr, tpr)\n",
    "\n",
    "plt.title('Receiver Operating Characteristic')\n",
    "plt.plot(fpr, tpr, 'b', label = 'AUC = %0.2f' % roc_auc)\n",
    "plt.legend(loc = 'lower right')\n",
    "plt.plot([0, 1], [0, 1],'r--')\n",
    "plt.xlim([0, 1])\n",
    "plt.ylim([0, 1])\n",
    "plt.ylabel('True Positive Rate')\n",
    "plt.xlabel('False Positive Rate')\n",
    "plt.show()"
   ]
  },
  {
   "cell_type": "code",
   "execution_count": 621,
   "metadata": {
    "ExecuteTime": {
     "end_time": "2018-04-04T00:43:39.918200Z",
     "start_time": "2018-04-04T00:43:39.906499Z"
    },
    "collapsed": true
   },
   "outputs": [],
   "source": [
    "features_gradboosto = pd.DataFrame(list(zip(X.columns,gradboosto.feature_importances_))\n",
    "                        ,columns=['feature','importance'])"
   ]
  },
  {
   "cell_type": "code",
   "execution_count": 622,
   "metadata": {
    "ExecuteTime": {
     "end_time": "2018-04-04T00:43:40.417143Z",
     "start_time": "2018-04-04T00:43:39.921791Z"
    }
   },
   "outputs": [
    {
     "data": {
      "text/plain": [
       "Text(0,0.5,'Feature importance')"
      ]
     },
     "execution_count": 622,
     "metadata": {},
     "output_type": "execute_result"
    },
    {
     "data": {
      "image/png": "[encoded data removed]",
      "text/plain": [
       "<Figure size 432x288 with 1 Axes>"
      ]
     },
     "metadata": {},
     "output_type": "display_data"
    }
   ],
   "source": [
    "features_gradboosto.plot(kind='bar', title='Gradient Boosting Classifier Model Feature Importance', \n",
    "                        x='feature', y='importance', fontsize='large')\n",
    "plt.xticks(rotation = 90)\n",
    "plt.xlabel('Features', fontsize='large')\n",
    "plt.ylabel('Feature importance', fontsize='large')"
   ]
  },
  {
   "cell_type": "markdown",
   "metadata": {},
   "source": [
    "## Model Summary"
   ]
  },
  {
   "cell_type": "markdown",
   "metadata": {},
   "source": [
    "My models have a relatively decent sensitivity, which is the classification metric that I am trying to optimize here, but my precision is very poor at almost zero. Also the feature importances are varying among the models, which means I cannot come to a sure conclusion about what are the important features regarding communities that in close proximity to Superfund sites. The biggest issue that I realized after building these models is that among observations that have a Superfund site and observations that do not have a Superfund site, the distribution of the features are very similar, thus they cannot discriminate between classes. \n",
    "\n",
    "More data needs to be collected and the data needs to be able to discriminate between classes, or any classification won't work regardless if the features are good or not."
   ]
  }
 ],
 "metadata": {
  "kernelspec": {
   "display_name": "Python [conda env:anaconda3]",
   "language": "python",
   "name": "conda-env-anaconda3-py"
  },
  "language_info": {
   "codemirror_mode": {
    "name": "ipython",
    "version": 3
   },
   "file_extension": ".py",
   "mimetype": "text/x-python",
   "name": "python",
   "nbconvert_exporter": "python",
   "pygments_lexer": "ipython3",
   "version": "3.6.4"
  },
  "latex_envs": {
   "LaTeX_envs_menu_present": true,
   "autoclose": false,
   "autocomplete": true,
   "bibliofile": "biblio.bib",
   "cite_by": "apalike",
   "current_citInitial": 1,
   "eqLabelWithNumbers": true,
   "eqNumInitial": 1,
   "hotkeys": {
    "equation": "Ctrl-E",
    "itemize": "Ctrl-I"
   },
   "labels_anchors": false,
   "latex_user_defs": false,
   "report_style_numbering": false,
   "user_envs_cfg": false
  },
  "toc": {
   "nav_menu": {},
   "number_sections": true,
   "sideBar": true,
   "skip_h1_title": false,
   "title_cell": "Table of Contents",
   "title_sidebar": "Contents",
   "toc_cell": false,
   "toc_position": {},
   "toc_section_display": true,
   "toc_window_display": false
  }
 },
 "nbformat": 4,
 "nbformat_minor": 2
}
